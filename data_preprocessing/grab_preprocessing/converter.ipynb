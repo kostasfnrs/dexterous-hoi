{
 "cells": [
  {
   "cell_type": "code",
   "execution_count": 45,
   "metadata": {},
   "outputs": [],
   "source": [
    "import sys\n",
    "import numpy as np\n",
    "import torch\n",
    "import os, glob\n",
    "import smplx"
   ]
  },
  {
   "cell_type": "code",
   "execution_count": 46,
   "metadata": {},
   "outputs": [],
   "source": [
    "from GRAB.tools.objectmodel import ObjectModel\n",
    "from GRAB.tools.utils import parse_npz, prepare_params, params2torch, to_cpu, append2dict\n",
    "from GRAB.tools.meshviewer import Mesh\n"
   ]
  },
  {
   "cell_type": "code",
   "execution_count": 47,
   "metadata": {},
   "outputs": [
    {
     "name": "stdout",
     "output_type": "stream",
     "text": [
      "Using device: cuda\n",
      "Data directory: /home/erik/ethz/digital-humans/dex-hoi/data_preprocessing/grab_preprocessing/data/grab_unzipped/grab\n",
      "AMASS directory: /media/erik/DATA1/grab_amass\n",
      "Output directory: /media/erik/DATA1/grab_preprocessed\n",
      "SMPLX/MANO Model directory: /home/erik/ethz/digital-humans/dex-hoi/data_preprocessing/grab_preprocessing/body_models\n"
     ]
    }
   ],
   "source": [
    "device = torch.device('cuda' if torch.cuda.is_available() else 'cpu')\n",
    "grab_dir = os.path.abspath('./data/grab_unzipped/grab')\n",
    "grab_amass_dir = os.path.abspath('/media/erik/DATA1/grab_amass')\n",
    "out_dir = os.path.abspath('/media/erik/DATA1/grab_preprocessed')\n",
    "model_path = os.path.abspath('./body_models/')\n",
    "\n",
    "os.makedirs(out_dir, exist_ok=True)\n",
    "\n",
    "print('Using device:', device)\n",
    "print('Data directory:', grab_dir)\n",
    "print('AMASS directory:', grab_amass_dir)\n",
    "print('Output directory:', out_dir)\n",
    "print('SMPLX/MANO Model directory:', model_path)"
   ]
  },
  {
   "cell_type": "code",
   "execution_count": 61,
   "metadata": {},
   "outputs": [
    {
     "name": "stdout",
     "output_type": "stream",
     "text": [
      "Adding directory /home/erik/ethz/digital-humans/dex-hoi/data_preprocessing/grab_preprocessing/data/grab_unzipped/grab/s5 with 106 files, creating output folder structure...\n",
      "Adding directory /home/erik/ethz/digital-humans/dex-hoi/data_preprocessing/grab_preprocessing/data/grab_unzipped/grab/s4 with 113 files, creating output folder structure...\n",
      "Adding directory /home/erik/ethz/digital-humans/dex-hoi/data_preprocessing/grab_preprocessing/data/grab_unzipped/grab/s1 with 198 files, creating output folder structure...\n",
      "Adding directory /home/erik/ethz/digital-humans/dex-hoi/data_preprocessing/grab_preprocessing/data/grab_unzipped/grab/s9 with 125 files, creating output folder structure...\n",
      "Adding directory /home/erik/ethz/digital-humans/dex-hoi/data_preprocessing/grab_preprocessing/data/grab_unzipped/grab/s3 with 125 files, creating output folder structure...\n",
      "Adding directory /home/erik/ethz/digital-humans/dex-hoi/data_preprocessing/grab_preprocessing/data/grab_unzipped/grab/s7 with 120 files, creating output folder structure...\n",
      "Adding directory /home/erik/ethz/digital-humans/dex-hoi/data_preprocessing/grab_preprocessing/data/grab_unzipped/grab/s8 with 162 files, creating output folder structure...\n",
      "Adding directory /home/erik/ethz/digital-humans/dex-hoi/data_preprocessing/grab_preprocessing/data/grab_unzipped/grab/s10 with 145 files, creating output folder structure...\n",
      "Adding directory /home/erik/ethz/digital-humans/dex-hoi/data_preprocessing/grab_preprocessing/data/grab_unzipped/grab/s2 with 93 files, creating output folder structure...\n",
      "Adding directory /home/erik/ethz/digital-humans/dex-hoi/data_preprocessing/grab_preprocessing/data/grab_unzipped/grab/s6 with 148 files, creating output folder structure...\n"
     ]
    },
    {
     "ename": "AssertionError",
     "evalue": "",
     "output_type": "error",
     "traceback": [
      "\u001b[0;31m---------------------------------------------------------------------------\u001b[0m",
      "\u001b[0;31mAssertionError\u001b[0m                            Traceback (most recent call last)",
      "Cell \u001b[0;32mIn[61], line 26\u001b[0m\n\u001b[1;32m     24\u001b[0m \u001b[38;5;28;01melif\u001b[39;00m \u001b[38;5;124m'\u001b[39m\u001b[38;5;124mpick_all\u001b[39m\u001b[38;5;124m'\u001b[39m \u001b[38;5;129;01min\u001b[39;00m task_description:\n\u001b[1;32m     25\u001b[0m     task_description \u001b[38;5;241m=\u001b[39m task_description\u001b[38;5;241m.\u001b[39mreplace(\u001b[38;5;124m'\u001b[39m\u001b[38;5;124mpick_all\u001b[39m\u001b[38;5;124m'\u001b[39m, \u001b[38;5;124m'\u001b[39m\u001b[38;5;124mlift\u001b[39m\u001b[38;5;124m'\u001b[39m)\n\u001b[0;32m---> 26\u001b[0m     \u001b[38;5;28;01massert\u001b[39;00m task_description \u001b[38;5;129;01min\u001b[39;00m data_dict[subject_id]\n\u001b[1;32m     27\u001b[0m     data_dict[subject_id][task_description][\u001b[38;5;124m'\u001b[39m\u001b[38;5;124mamass_info\u001b[39m\u001b[38;5;124m'\u001b[39m] \u001b[38;5;241m=\u001b[39m os\u001b[38;5;241m.\u001b[39mpath\u001b[38;5;241m.\u001b[39mjoin(root, file)\n",
      "\u001b[0;31mAssertionError\u001b[0m: "
     ]
    }
   ],
   "source": [
    "# map directory names to lists of files in them\n",
    "data_dict = {}\n",
    "\n",
    "for root, dirs, files in os.walk(grab_dir):\n",
    "    if len(files) > 0:\n",
    "        print(f'Adding directory {root} with {len(files)} files, creating output folder structure...')\n",
    "        subject_id = os.path.basename(root)\n",
    "        data_dict[subject_id] = {}\n",
    "\n",
    "        for file in files:\n",
    "            task_description = os.path.splitext(file)[0]\n",
    "            file_in = os.path.join(root, file)\n",
    "            file_out_dir = os.path.join(out_dir, f'{subject_id}_{task_description}')\n",
    "            os.makedirs(file_out_dir, exist_ok=True)\n",
    "            data_dict[subject_id][task_description] = {'full_info': file_in, 'preprocessed_out': file_out_dir}\n",
    "\n",
    "for root, dirs, files in os.walk(grab_amass_dir):\n",
    "    subject_id = os.path.basename(root)\n",
    "    if subject_id in data_dict:\n",
    "        for file in files:\n",
    "            task_description = os.path.splitext(file)[0].replace('_stageii', '')\n",
    "            if task_description in data_dict[subject_id]:\n",
    "                data_dict[subject_id][task_description]['amass_info'] = os.path.join(root, file)\n",
    "            elif 'pick_all' in task_description:\n",
    "                task_description = task_description.replace('pick_all', 'lift')\n",
    "                if task_description in data_dict[subject_id]:\n",
    "                    data_dict[subject_id][task_description]['amass_info'] = os.path.join(root, file)\n",
    "                else:\n",
    "                    print(f'No corresponding task for {task_description} in {subject_id} found')\n",
    "\n"
   ]
  },
  {
   "cell_type": "code",
   "execution_count": 49,
   "metadata": {},
   "outputs": [],
   "source": [
    "def load_sbj_verts(seq_data):\n",
    "        mesh_path = os.path.join(grab_dir, '..',seq_data.body.vtemp)\n",
    "        sbj_vtemp = np.array(Mesh(filename=mesh_path).vertices)\n",
    "        return sbj_vtemp\n",
    "\n",
    "def load_obj_verts(obj_name, seq_data, n_verts_sample=512):\n",
    "    mesh_path = os.path.join(grab_dir, '..',seq_data.object.object_mesh)\n",
    "    np.random.seed(100)\n",
    "    obj_mesh = Mesh(filename=mesh_path)\n",
    "    verts_obj = np.array(obj_mesh.vertices)\n",
    "    faces_obj = np.array(obj_mesh.faces)\n",
    "\n",
    "    if verts_obj.shape[0] > n_verts_sample:\n",
    "        verts_sample_id = np.random.choice(verts_obj.shape[0], n_verts_sample, replace=False)\n",
    "    else:\n",
    "        verts_sample_id = np.arange(verts_obj.shape[0])\n",
    "\n",
    "    verts_sampled = verts_obj[verts_sample_id]\n",
    "    obj_info = {'verts': verts_obj,\n",
    "                'faces': faces_obj,\n",
    "                'verts_sample_id': verts_sample_id,\n",
    "                'verts_sample': verts_sampled,\n",
    "                'obj_mesh_file': mesh_path}\n",
    "\n",
    "    return obj_info\n",
    "\n",
    "save_body_verts = True\n",
    "save_lhand_verts = True\n",
    "save_rhand_verts = True\n",
    "save_object_verts = True\n",
    "save_contact = True\n",
    "n_verts_sample = 1000\n",
    "\n",
    "\n",
    "def process_data_entry(in_file, amass_file, out_dir):\n",
    "    body_data = {\n",
    "        'global_orient': [],'body_pose': [],'transl': [],\n",
    "        'right_hand_pose': [],'left_hand_pose': [],\n",
    "        'jaw_pose': [],'leye_pose': [],'reye_pose': [],\n",
    "        'expression': [],'fullpose': [],\n",
    "        'contact':[], 'verts' :[]\n",
    "    }\n",
    "\n",
    "    object_data = {'verts': [], 'global_orient': [], 'transl': [], 'contact': []}\n",
    "    lhand_data = {'verts': [], 'global_orient': [], 'hand_pose': [], 'transl': [], 'fullpose': []}\n",
    "    rhand_data = {'verts': [], 'global_orient': [], 'hand_pose': [], 'transl': [], 'fullpose': []}\n",
    "\n",
    "    seq_data = parse_npz(in_file)\n",
    "\n",
    "    obj_name = seq_data.obj_name\n",
    "    sbj_id   = seq_data.sbj_id\n",
    "    n_comps  = seq_data.n_comps\n",
    "    gender   = seq_data.gender\n",
    "\n",
    "    # need this for other methods from GRAB, this should not filter out any frames\n",
    "    frame_mask = (seq_data['contact']['object']>-1).any(axis=1)\n",
    "    T = frame_mask.sum()\n",
    "\n",
    "    sbj_params = prepare_params(seq_data.body.params, frame_mask)\n",
    "    rh_params  = prepare_params(seq_data.rhand.params, frame_mask)\n",
    "    lh_params  = prepare_params(seq_data.lhand.params, frame_mask)\n",
    "    obj_params = prepare_params(seq_data.object.params, frame_mask)\n",
    "\n",
    "    append2dict(body_data, sbj_params)\n",
    "    append2dict(rhand_data, rh_params)\n",
    "    append2dict(lhand_data, lh_params)\n",
    "    append2dict(object_data, obj_params)\n",
    "\n",
    "    sbj_vtemp = load_sbj_verts(seq_data)\n",
    "\n",
    "    if save_body_verts:\n",
    "\n",
    "        sbj_m = smplx.create(model_path=model_path,\n",
    "                                model_type='smplx',\n",
    "                                gender=gender,\n",
    "                                num_pca_comps=n_comps,\n",
    "                                v_template=sbj_vtemp,\n",
    "                                batch_size=T)\n",
    "\n",
    "        sbj_parms = params2torch(sbj_params)\n",
    "        verts_sbj = to_cpu(sbj_m(**sbj_parms).vertices)\n",
    "        body_data['verts'].append(verts_sbj)\n",
    "\n",
    "    if save_lhand_verts:\n",
    "        lh_mesh = os.path.join(grab_dir, '..', seq_data.lhand.vtemp)\n",
    "        lh_vtemp = np.array(Mesh(filename=lh_mesh).vertices)\n",
    "\n",
    "        lh_m = smplx.create(model_path=model_path,\n",
    "                            model_type='mano',\n",
    "                            is_rhand=False,\n",
    "                            v_template=lh_vtemp,\n",
    "                            num_pca_comps=n_comps,\n",
    "                            flat_hand_mean=True,\n",
    "                            batch_size=T)\n",
    "\n",
    "        lh_parms = params2torch(lh_params)\n",
    "        verts_lh = to_cpu(lh_m(**lh_parms).vertices)\n",
    "        lhand_data['verts'].append(verts_lh)\n",
    "\n",
    "    if save_rhand_verts:\n",
    "        rh_mesh = os.path.join(grab_dir, '..', seq_data.rhand.vtemp)\n",
    "        rh_vtemp = np.array(Mesh(filename=rh_mesh).vertices)\n",
    "\n",
    "        rh_m = smplx.create(model_path=model_path,\n",
    "                            model_type='mano',\n",
    "                            is_rhand=True,\n",
    "                            v_template=rh_vtemp,\n",
    "                            num_pca_comps=n_comps,\n",
    "                            flat_hand_mean=True,\n",
    "                            batch_size=T)\n",
    "\n",
    "        rh_parms = params2torch(rh_params)\n",
    "        verts_rh = to_cpu(rh_m(**rh_parms).vertices)\n",
    "        rhand_data['verts'].append(verts_rh)\n",
    "\n",
    "    ### for objects\n",
    "\n",
    "    obj_info = load_obj_verts(obj_name, seq_data, n_verts_sample)\n",
    "\n",
    "    if save_object_verts:\n",
    "\n",
    "        obj_m = ObjectModel(v_template=obj_info['verts_sample'],\n",
    "                            batch_size=T)\n",
    "        obj_parms = params2torch(obj_params)\n",
    "        verts_obj = to_cpu(obj_m(**obj_parms).vertices)\n",
    "        object_data['verts'].append(verts_obj)\n",
    "\n",
    "    if save_contact:\n",
    "        body_data['contact'].append(seq_data.contact.body[frame_mask])\n",
    "        object_data['contact'].append(seq_data.contact.object[frame_mask][:,obj_info['verts_sample_id']])\n",
    "\n",
    "    out_data = [body_data, lhand_data, rhand_data, object_data]\n",
    "    out_data_name = ['body_data', 'rhand_data', 'lhand_data', 'object_data']\n",
    "    # save with numpy npz\n",
    "    for i in range(len(out_data)):\n",
    "        out_file = os.path.join(out_dir, f'{out_data_name[i]}.npz')\n",
    "        np.savez_compressed(out_file, **out_data[i])\n",
    "\n",
    "    print(f'Processed {in_file} and saved to {out_dir}')\n"
   ]
  },
  {
   "cell_type": "code",
   "execution_count": 58,
   "metadata": {},
   "outputs": [
    {
     "name": "stdout",
     "output_type": "stream",
     "text": [
      "Processing subject s5...\n"
     ]
    },
    {
     "name": "stderr",
     "output_type": "stream",
     "text": [
      "  0%|          | 0/106 [00:00<?, ?it/s]"
     ]
    },
    {
     "name": "stdout",
     "output_type": "stream",
     "text": [
      "{'full_info': '/home/erik/ethz/digital-humans/dex-hoi/data_preprocessing/grab_preprocessing/data/grab_unzipped/grab/s5/flashlight_on_2.npz', 'preprocessed_out': '/media/erik/DATA1/grab_preprocessed/s5_flashlight_on_2/s5_flashlight_on_2', 'amass_info': '/media/erik/DATA1/grab_amass/GRAB/s5/flashlight_on_2_stageii.npz'}\n",
      "WARNING: You are using a MANO model, with only 10 shape coefficients.\n",
      "WARNING: You are using a MANO model, with only 10 shape coefficients.\n"
     ]
    },
    {
     "name": "stderr",
     "output_type": "stream",
     "text": [
      "  1%|          | 1/106 [00:41<1:12:06, 41.21s/it]"
     ]
    },
    {
     "name": "stdout",
     "output_type": "stream",
     "text": [
      "Processed /home/erik/ethz/digital-humans/dex-hoi/data_preprocessing/grab_preprocessing/data/grab_unzipped/grab/s5/flashlight_on_2.npz and saved to /media/erik/DATA1/grab_preprocessed/s5_flashlight_on_2/s5_flashlight_on_2\n",
      "{'full_info': '/home/erik/ethz/digital-humans/dex-hoi/data_preprocessing/grab_preprocessing/data/grab_unzipped/grab/s5/cylindermedium_lift.npz', 'preprocessed_out': '/media/erik/DATA1/grab_preprocessed/s5_flashlight_on_2/s5_cylindermedium_lift'}\n"
     ]
    },
    {
     "name": "stderr",
     "output_type": "stream",
     "text": [
      "  2%|▏         | 2/106 [16:42<16:49:58, 582.68s/it]"
     ]
    },
    {
     "name": "stdout",
     "output_type": "stream",
     "text": [
      "No file found for s5 - {'flashlight_on_2': {'full_info': '/home/erik/ethz/digital-humans/dex-hoi/data_preprocessing/grab_preprocessing/data/grab_unzipped/grab/s5/flashlight_on_2.npz', 'preprocessed_out': '/media/erik/DATA1/grab_preprocessed/s5_flashlight_on_2/s5_flashlight_on_2', 'amass_info': '/media/erik/DATA1/grab_amass/GRAB/s5/flashlight_on_2_stageii.npz'}, 'cylindermedium_lift': {'full_info': '/home/erik/ethz/digital-humans/dex-hoi/data_preprocessing/grab_preprocessing/data/grab_unzipped/grab/s5/cylindermedium_lift.npz', 'preprocessed_out': '/media/erik/DATA1/grab_preprocessed/s5_flashlight_on_2/s5_cylindermedium_lift'}, 'stamp_pass_1': {'full_info': '/home/erik/ethz/digital-humans/dex-hoi/data_preprocessing/grab_preprocessing/data/grab_unzipped/grab/s5/stamp_pass_1.npz', 'preprocessed_out': '/media/erik/DATA1/grab_preprocessed/s5_flashlight_on_2/s5_stamp_pass_1', 'amass_info': '/media/erik/DATA1/grab_amass/GRAB/s5/stamp_pass_1_stageii.npz'}, 'cylinderlarge_lift': {'full_info': '/home/erik/ethz/digital-humans/dex-hoi/data_preprocessing/grab_preprocessing/data/grab_unzipped/grab/s5/cylinderlarge_lift.npz', 'preprocessed_out': '/media/erik/DATA1/grab_preprocessed/s5_flashlight_on_2/s5_cylinderlarge_lift'}, 'stamp_stamp_1': {'full_info': '/home/erik/ethz/digital-humans/dex-hoi/data_preprocessing/grab_preprocessing/data/grab_unzipped/grab/s5/stamp_stamp_1.npz', 'preprocessed_out': '/media/erik/DATA1/grab_preprocessed/s5_flashlight_on_2/s5_stamp_stamp_1', 'amass_info': '/media/erik/DATA1/grab_amass/GRAB/s5/stamp_stamp_1_stageii.npz'}, 'pyramidmedium_pass_1': {'full_info': '/home/erik/ethz/digital-humans/dex-hoi/data_preprocessing/grab_preprocessing/data/grab_unzipped/grab/s5/pyramidmedium_pass_1.npz', 'preprocessed_out': '/media/erik/DATA1/grab_preprocessed/s5_flashlight_on_2/s5_pyramidmedium_pass_1', 'amass_info': '/media/erik/DATA1/grab_amass/GRAB/s5/pyramidmedium_pass_1_stageii.npz'}, 'duck_lift': {'full_info': '/home/erik/ethz/digital-humans/dex-hoi/data_preprocessing/grab_preprocessing/data/grab_unzipped/grab/s5/duck_lift.npz', 'preprocessed_out': '/media/erik/DATA1/grab_preprocessed/s5_flashlight_on_2/s5_duck_lift'}, 'alarmclock_pass_1': {'full_info': '/home/erik/ethz/digital-humans/dex-hoi/data_preprocessing/grab_preprocessing/data/grab_unzipped/grab/s5/alarmclock_pass_1.npz', 'preprocessed_out': '/media/erik/DATA1/grab_preprocessed/s5_flashlight_on_2/s5_alarmclock_pass_1', 'amass_info': '/media/erik/DATA1/grab_amass/GRAB/s5/alarmclock_pass_1_stageii.npz'}, 'elephant_lift': {'full_info': '/home/erik/ethz/digital-humans/dex-hoi/data_preprocessing/grab_preprocessing/data/grab_unzipped/grab/s5/elephant_lift.npz', 'preprocessed_out': '/media/erik/DATA1/grab_preprocessed/s5_flashlight_on_2/s5_elephant_lift'}, 'spherelarge_lift': {'full_info': '/home/erik/ethz/digital-humans/dex-hoi/data_preprocessing/grab_preprocessing/data/grab_unzipped/grab/s5/spherelarge_lift.npz', 'preprocessed_out': '/media/erik/DATA1/grab_preprocessed/s5_flashlight_on_2/s5_spherelarge_lift'}, 'cubelarge_lift': {'full_info': '/home/erik/ethz/digital-humans/dex-hoi/data_preprocessing/grab_preprocessing/data/grab_unzipped/grab/s5/cubelarge_lift.npz', 'preprocessed_out': '/media/erik/DATA1/grab_preprocessed/s5_flashlight_on_2/s5_cubelarge_lift'}, 'scissors_pass_1': {'full_info': '/home/erik/ethz/digital-humans/dex-hoi/data_preprocessing/grab_preprocessing/data/grab_unzipped/grab/s5/scissors_pass_1.npz', 'preprocessed_out': '/media/erik/DATA1/grab_preprocessed/s5_flashlight_on_2/s5_scissors_pass_1', 'amass_info': '/media/erik/DATA1/grab_amass/GRAB/s5/scissors_pass_1_stageii.npz'}, 'cup_pass_1': {'full_info': '/home/erik/ethz/digital-humans/dex-hoi/data_preprocessing/grab_preprocessing/data/grab_unzipped/grab/s5/cup_pass_1.npz', 'preprocessed_out': '/media/erik/DATA1/grab_preprocessed/s5_flashlight_on_2/s5_cup_pass_1', 'amass_info': '/media/erik/DATA1/grab_amass/GRAB/s5/cup_pass_1_stageii.npz'}, 'cylindermedium_inspect_1': {'full_info': '/home/erik/ethz/digital-humans/dex-hoi/data_preprocessing/grab_preprocessing/data/grab_unzipped/grab/s5/cylindermedium_inspect_1.npz', 'preprocessed_out': '/media/erik/DATA1/grab_preprocessed/s5_flashlight_on_2/s5_cylindermedium_inspect_1', 'amass_info': '/media/erik/DATA1/grab_amass/GRAB/s5/cylindermedium_inspect_1_stageii.npz'}, 'wineglass_drink_1': {'full_info': '/home/erik/ethz/digital-humans/dex-hoi/data_preprocessing/grab_preprocessing/data/grab_unzipped/grab/s5/wineglass_drink_1.npz', 'preprocessed_out': '/media/erik/DATA1/grab_preprocessed/s5_flashlight_on_2/s5_wineglass_drink_1', 'amass_info': '/media/erik/DATA1/grab_amass/GRAB/s5/wineglass_drink_1_stageii.npz'}, 'toothbrush_brush_1': {'full_info': '/home/erik/ethz/digital-humans/dex-hoi/data_preprocessing/grab_preprocessing/data/grab_unzipped/grab/s5/toothbrush_brush_1.npz', 'preprocessed_out': '/media/erik/DATA1/grab_preprocessed/s5_flashlight_on_2/s5_toothbrush_brush_1', 'amass_info': '/media/erik/DATA1/grab_amass/GRAB/s5/toothbrush_brush_1_stageii.npz'}, 'gamecontroller_lift': {'full_info': '/home/erik/ethz/digital-humans/dex-hoi/data_preprocessing/grab_preprocessing/data/grab_unzipped/grab/s5/gamecontroller_lift.npz', 'preprocessed_out': '/media/erik/DATA1/grab_preprocessed/s5_flashlight_on_2/s5_gamecontroller_lift'}, 'cubesmall_pass_1': {'full_info': '/home/erik/ethz/digital-humans/dex-hoi/data_preprocessing/grab_preprocessing/data/grab_unzipped/grab/s5/cubesmall_pass_1.npz', 'preprocessed_out': '/media/erik/DATA1/grab_preprocessed/s5_flashlight_on_2/s5_cubesmall_pass_1', 'amass_info': '/media/erik/DATA1/grab_amass/GRAB/s5/cubesmall_pass_1_stageii.npz'}, 'apple_pass_1': {'full_info': '/home/erik/ethz/digital-humans/dex-hoi/data_preprocessing/grab_preprocessing/data/grab_unzipped/grab/s5/apple_pass_1.npz', 'preprocessed_out': '/media/erik/DATA1/grab_preprocessed/s5_flashlight_on_2/s5_apple_pass_1', 'amass_info': '/media/erik/DATA1/grab_amass/GRAB/s5/apple_pass_1_stageii.npz'}, 'eyeglasses_clean_2': {'full_info': '/home/erik/ethz/digital-humans/dex-hoi/data_preprocessing/grab_preprocessing/data/grab_unzipped/grab/s5/eyeglasses_clean_2.npz', 'preprocessed_out': '/media/erik/DATA1/grab_preprocessed/s5_flashlight_on_2/s5_eyeglasses_clean_2', 'amass_info': '/media/erik/DATA1/grab_amass/GRAB/s5/eyeglasses_clean_2_stageii.npz'}, 'spheresmall_inspect_1': {'full_info': '/home/erik/ethz/digital-humans/dex-hoi/data_preprocessing/grab_preprocessing/data/grab_unzipped/grab/s5/spheresmall_inspect_1.npz', 'preprocessed_out': '/media/erik/DATA1/grab_preprocessed/s5_flashlight_on_2/s5_spheresmall_inspect_1', 'amass_info': '/media/erik/DATA1/grab_amass/GRAB/s5/spheresmall_inspect_1_stageii.npz'}, 'mouse_use_1': {'full_info': '/home/erik/ethz/digital-humans/dex-hoi/data_preprocessing/grab_preprocessing/data/grab_unzipped/grab/s5/mouse_use_1.npz', 'preprocessed_out': '/media/erik/DATA1/grab_preprocessed/s5_flashlight_on_2/s5_mouse_use_1', 'amass_info': '/media/erik/DATA1/grab_amass/GRAB/s5/mouse_use_1_stageii.npz'}, 'flashlight_on_1': {'full_info': '/home/erik/ethz/digital-humans/dex-hoi/data_preprocessing/grab_preprocessing/data/grab_unzipped/grab/s5/flashlight_on_1.npz', 'preprocessed_out': '/media/erik/DATA1/grab_preprocessed/s5_flashlight_on_2/s5_flashlight_on_1', 'amass_info': '/media/erik/DATA1/grab_amass/GRAB/s5/flashlight_on_1_stageii.npz'}, 'cylinderlarge_pass_1': {'full_info': '/home/erik/ethz/digital-humans/dex-hoi/data_preprocessing/grab_preprocessing/data/grab_unzipped/grab/s5/cylinderlarge_pass_1.npz', 'preprocessed_out': '/media/erik/DATA1/grab_preprocessed/s5_flashlight_on_2/s5_cylinderlarge_pass_1', 'amass_info': '/media/erik/DATA1/grab_amass/GRAB/s5/cylinderlarge_pass_1_stageii.npz'}, 'cup_lift': {'full_info': '/home/erik/ethz/digital-humans/dex-hoi/data_preprocessing/grab_preprocessing/data/grab_unzipped/grab/s5/cup_lift.npz', 'preprocessed_out': '/media/erik/DATA1/grab_preprocessed/s5_flashlight_on_2/s5_cup_lift'}, 'spherelarge_pass_1': {'full_info': '/home/erik/ethz/digital-humans/dex-hoi/data_preprocessing/grab_preprocessing/data/grab_unzipped/grab/s5/spherelarge_pass_1.npz', 'preprocessed_out': '/media/erik/DATA1/grab_preprocessed/s5_flashlight_on_2/s5_spherelarge_pass_1', 'amass_info': '/media/erik/DATA1/grab_amass/GRAB/s5/spherelarge_pass_1_stageii.npz'}, 'cubelarge_inspect_1': {'full_info': '/home/erik/ethz/digital-humans/dex-hoi/data_preprocessing/grab_preprocessing/data/grab_unzipped/grab/s5/cubelarge_inspect_1.npz', 'preprocessed_out': '/media/erik/DATA1/grab_preprocessed/s5_flashlight_on_2/s5_cubelarge_inspect_1', 'amass_info': '/media/erik/DATA1/grab_amass/GRAB/s5/cubelarge_inspect_1_stageii.npz'}, 'bowl_drink_1': {'full_info': '/home/erik/ethz/digital-humans/dex-hoi/data_preprocessing/grab_preprocessing/data/grab_unzipped/grab/s5/bowl_drink_1.npz', 'preprocessed_out': '/media/erik/DATA1/grab_preprocessed/s5_flashlight_on_2/s5_bowl_drink_1', 'amass_info': '/media/erik/DATA1/grab_amass/GRAB/s5/bowl_drink_1_stageii.npz'}, 'alarmclock_lift': {'full_info': '/home/erik/ethz/digital-humans/dex-hoi/data_preprocessing/grab_preprocessing/data/grab_unzipped/grab/s5/alarmclock_lift.npz', 'preprocessed_out': '/media/erik/DATA1/grab_preprocessed/s5_flashlight_on_2/s5_alarmclock_lift'}, 'waterbottle_lift': {'full_info': '/home/erik/ethz/digital-humans/dex-hoi/data_preprocessing/grab_preprocessing/data/grab_unzipped/grab/s5/waterbottle_lift.npz', 'preprocessed_out': '/media/erik/DATA1/grab_preprocessed/s5_flashlight_on_2/s5_waterbottle_lift'}, 'alarmclock_see_1': {'full_info': '/home/erik/ethz/digital-humans/dex-hoi/data_preprocessing/grab_preprocessing/data/grab_unzipped/grab/s5/alarmclock_see_1.npz', 'preprocessed_out': '/media/erik/DATA1/grab_preprocessed/s5_flashlight_on_2/s5_alarmclock_see_1', 'amass_info': '/media/erik/DATA1/grab_amass/GRAB/s5/alarmclock_see_1_stageii.npz'}, 'mug_toast_1': {'full_info': '/home/erik/ethz/digital-humans/dex-hoi/data_preprocessing/grab_preprocessing/data/grab_unzipped/grab/s5/mug_toast_1.npz', 'preprocessed_out': '/media/erik/DATA1/grab_preprocessed/s5_flashlight_on_2/s5_mug_toast_1', 'amass_info': '/media/erik/DATA1/grab_amass/GRAB/s5/mug_toast_1_stageii.npz'}, 'waterbottle_pass_1': {'full_info': '/home/erik/ethz/digital-humans/dex-hoi/data_preprocessing/grab_preprocessing/data/grab_unzipped/grab/s5/waterbottle_pass_1.npz', 'preprocessed_out': '/media/erik/DATA1/grab_preprocessed/s5_flashlight_on_2/s5_waterbottle_pass_1', 'amass_info': '/media/erik/DATA1/grab_amass/GRAB/s5/waterbottle_pass_1_stageii.npz'}, 'banana_peel_2': {'full_info': '/home/erik/ethz/digital-humans/dex-hoi/data_preprocessing/grab_preprocessing/data/grab_unzipped/grab/s5/banana_peel_2.npz', 'preprocessed_out': '/media/erik/DATA1/grab_preprocessed/s5_flashlight_on_2/s5_banana_peel_2', 'amass_info': '/media/erik/DATA1/grab_amass/GRAB/s5/banana_peel_2_stageii.npz'}, 'teapot_pass_1': {'full_info': '/home/erik/ethz/digital-humans/dex-hoi/data_preprocessing/grab_preprocessing/data/grab_unzipped/grab/s5/teapot_pass_1.npz', 'preprocessed_out': '/media/erik/DATA1/grab_preprocessed/s5_flashlight_on_2/s5_teapot_pass_1', 'amass_info': '/media/erik/DATA1/grab_amass/GRAB/s5/teapot_pass_1_stageii.npz'}, 'toothpaste_pass_1': {'full_info': '/home/erik/ethz/digital-humans/dex-hoi/data_preprocessing/grab_preprocessing/data/grab_unzipped/grab/s5/toothpaste_pass_1.npz', 'preprocessed_out': '/media/erik/DATA1/grab_preprocessed/s5_flashlight_on_2/s5_toothpaste_pass_1', 'amass_info': '/media/erik/DATA1/grab_amass/GRAB/s5/toothpaste_pass_1_stageii.npz'}, 'pyramidlarge_inspect_1': {'full_info': '/home/erik/ethz/digital-humans/dex-hoi/data_preprocessing/grab_preprocessing/data/grab_unzipped/grab/s5/pyramidlarge_inspect_1.npz', 'preprocessed_out': '/media/erik/DATA1/grab_preprocessed/s5_flashlight_on_2/s5_pyramidlarge_inspect_1', 'amass_info': '/media/erik/DATA1/grab_amass/GRAB/s5/pyramidlarge_inspect_1_stageii.npz'}, 'torusmedium_inspect_1': {'full_info': '/home/erik/ethz/digital-humans/dex-hoi/data_preprocessing/grab_preprocessing/data/grab_unzipped/grab/s5/torusmedium_inspect_1.npz', 'preprocessed_out': '/media/erik/DATA1/grab_preprocessed/s5_flashlight_on_2/s5_torusmedium_inspect_1', 'amass_info': '/media/erik/DATA1/grab_amass/GRAB/s5/torusmedium_inspect_1_stageii.npz'}, 'train_lift': {'full_info': '/home/erik/ethz/digital-humans/dex-hoi/data_preprocessing/grab_preprocessing/data/grab_unzipped/grab/s5/train_lift.npz', 'preprocessed_out': '/media/erik/DATA1/grab_preprocessed/s5_flashlight_on_2/s5_train_lift'}, 'camera_pass_1': {'full_info': '/home/erik/ethz/digital-humans/dex-hoi/data_preprocessing/grab_preprocessing/data/grab_unzipped/grab/s5/camera_pass_1.npz', 'preprocessed_out': '/media/erik/DATA1/grab_preprocessed/s5_flashlight_on_2/s5_camera_pass_1', 'amass_info': '/media/erik/DATA1/grab_amass/GRAB/s5/camera_pass_1_stageii.npz'}, 'cubelarge_pass_1': {'full_info': '/home/erik/ethz/digital-humans/dex-hoi/data_preprocessing/grab_preprocessing/data/grab_unzipped/grab/s5/cubelarge_pass_1.npz', 'preprocessed_out': '/media/erik/DATA1/grab_preprocessed/s5_flashlight_on_2/s5_cubelarge_pass_1', 'amass_info': '/media/erik/DATA1/grab_amass/GRAB/s5/cubelarge_pass_1_stageii.npz'}, 'spheremedium_pass_1': {'full_info': '/home/erik/ethz/digital-humans/dex-hoi/data_preprocessing/grab_preprocessing/data/grab_unzipped/grab/s5/spheremedium_pass_1.npz', 'preprocessed_out': '/media/erik/DATA1/grab_preprocessed/s5_flashlight_on_2/s5_spheremedium_pass_1', 'amass_info': '/media/erik/DATA1/grab_amass/GRAB/s5/spheremedium_pass_1_stageii.npz'}, 'train_pass_1': {'full_info': '/home/erik/ethz/digital-humans/dex-hoi/data_preprocessing/grab_preprocessing/data/grab_unzipped/grab/s5/train_pass_1.npz', 'preprocessed_out': '/media/erik/DATA1/grab_preprocessed/s5_flashlight_on_2/s5_train_pass_1', 'amass_info': '/media/erik/DATA1/grab_amass/GRAB/s5/train_pass_1_stageii.npz'}, 'cylindermedium_pass_1': {'full_info': '/home/erik/ethz/digital-humans/dex-hoi/data_preprocessing/grab_preprocessing/data/grab_unzipped/grab/s5/cylindermedium_pass_1.npz', 'preprocessed_out': '/media/erik/DATA1/grab_preprocessed/s5_flashlight_on_2/s5_cylindermedium_pass_1', 'amass_info': '/media/erik/DATA1/grab_amass/GRAB/s5/cylindermedium_pass_1_stageii.npz'}, 'waterbottle_open_1': {'full_info': '/home/erik/ethz/digital-humans/dex-hoi/data_preprocessing/grab_preprocessing/data/grab_unzipped/grab/s5/waterbottle_open_1.npz', 'preprocessed_out': '/media/erik/DATA1/grab_preprocessed/s5_flashlight_on_2/s5_waterbottle_open_1', 'amass_info': '/media/erik/DATA1/grab_amass/GRAB/s5/waterbottle_open_1_stageii.npz'}, 'hand_inspect_1': {'full_info': '/home/erik/ethz/digital-humans/dex-hoi/data_preprocessing/grab_preprocessing/data/grab_unzipped/grab/s5/hand_inspect_1.npz', 'preprocessed_out': '/media/erik/DATA1/grab_preprocessed/s5_flashlight_on_2/s5_hand_inspect_1', 'amass_info': '/media/erik/DATA1/grab_amass/GRAB/s5/hand_inspect_1_stageii.npz'}, 'elephant_pass_1': {'full_info': '/home/erik/ethz/digital-humans/dex-hoi/data_preprocessing/grab_preprocessing/data/grab_unzipped/grab/s5/elephant_pass_1.npz', 'preprocessed_out': '/media/erik/DATA1/grab_preprocessed/s5_flashlight_on_2/s5_elephant_pass_1', 'amass_info': '/media/erik/DATA1/grab_amass/GRAB/s5/elephant_pass_1_stageii.npz'}, 'gamecontroller_pass_1': {'full_info': '/home/erik/ethz/digital-humans/dex-hoi/data_preprocessing/grab_preprocessing/data/grab_unzipped/grab/s5/gamecontroller_pass_1.npz', 'preprocessed_out': '/media/erik/DATA1/grab_preprocessed/s5_flashlight_on_2/s5_gamecontroller_pass_1', 'amass_info': '/media/erik/DATA1/grab_amass/GRAB/s5/gamecontroller_pass_1_stageii.npz'}, 'cubesmall_lift': {'full_info': '/home/erik/ethz/digital-humans/dex-hoi/data_preprocessing/grab_preprocessing/data/grab_unzipped/grab/s5/cubesmall_lift.npz', 'preprocessed_out': '/media/erik/DATA1/grab_preprocessed/s5_flashlight_on_2/s5_cubesmall_lift'}, 'bowl_drink_2': {'full_info': '/home/erik/ethz/digital-humans/dex-hoi/data_preprocessing/grab_preprocessing/data/grab_unzipped/grab/s5/bowl_drink_2.npz', 'preprocessed_out': '/media/erik/DATA1/grab_preprocessed/s5_flashlight_on_2/s5_bowl_drink_2', 'amass_info': '/media/erik/DATA1/grab_amass/GRAB/s5/bowl_drink_2_stageii.npz'}, 'piggybank_pass_1': {'full_info': '/home/erik/ethz/digital-humans/dex-hoi/data_preprocessing/grab_preprocessing/data/grab_unzipped/grab/s5/piggybank_pass_1.npz', 'preprocessed_out': '/media/erik/DATA1/grab_preprocessed/s5_flashlight_on_2/s5_piggybank_pass_1', 'amass_info': '/media/erik/DATA1/grab_amass/GRAB/s5/piggybank_pass_1_stageii.npz'}, 'flute_pass_1': {'full_info': '/home/erik/ethz/digital-humans/dex-hoi/data_preprocessing/grab_preprocessing/data/grab_unzipped/grab/s5/flute_pass_1.npz', 'preprocessed_out': '/media/erik/DATA1/grab_preprocessed/s5_flashlight_on_2/s5_flute_pass_1', 'amass_info': '/media/erik/DATA1/grab_amass/GRAB/s5/flute_pass_1_stageii.npz'}, 'hand_pass_1': {'full_info': '/home/erik/ethz/digital-humans/dex-hoi/data_preprocessing/grab_preprocessing/data/grab_unzipped/grab/s5/hand_pass_1.npz', 'preprocessed_out': '/media/erik/DATA1/grab_preprocessed/s5_flashlight_on_2/s5_hand_pass_1', 'amass_info': '/media/erik/DATA1/grab_amass/GRAB/s5/hand_pass_1_stageii.npz'}, 'cylindersmall_inspect_1': {'full_info': '/home/erik/ethz/digital-humans/dex-hoi/data_preprocessing/grab_preprocessing/data/grab_unzipped/grab/s5/cylindersmall_inspect_1.npz', 'preprocessed_out': '/media/erik/DATA1/grab_preprocessed/s5_flashlight_on_2/s5_cylindersmall_inspect_1', 'amass_info': '/media/erik/DATA1/grab_amass/GRAB/s5/cylindersmall_inspect_1_stageii.npz'}, 'flute_play_1': {'full_info': '/home/erik/ethz/digital-humans/dex-hoi/data_preprocessing/grab_preprocessing/data/grab_unzipped/grab/s5/flute_play_1.npz', 'preprocessed_out': '/media/erik/DATA1/grab_preprocessed/s5_flashlight_on_2/s5_flute_play_1', 'amass_info': '/media/erik/DATA1/grab_amass/GRAB/s5/flute_play_1_stageii.npz'}, 'doorknob_lift': {'full_info': '/home/erik/ethz/digital-humans/dex-hoi/data_preprocessing/grab_preprocessing/data/grab_unzipped/grab/s5/doorknob_lift.npz', 'preprocessed_out': '/media/erik/DATA1/grab_preprocessed/s5_flashlight_on_2/s5_doorknob_lift'}, 'torussmall_inspect_1': {'full_info': '/home/erik/ethz/digital-humans/dex-hoi/data_preprocessing/grab_preprocessing/data/grab_unzipped/grab/s5/torussmall_inspect_1.npz', 'preprocessed_out': '/media/erik/DATA1/grab_preprocessed/s5_flashlight_on_2/s5_torussmall_inspect_1', 'amass_info': '/media/erik/DATA1/grab_amass/GRAB/s5/torussmall_inspect_1_stageii.npz'}, 'piggybank_lift': {'full_info': '/home/erik/ethz/digital-humans/dex-hoi/data_preprocessing/grab_preprocessing/data/grab_unzipped/grab/s5/piggybank_lift.npz', 'preprocessed_out': '/media/erik/DATA1/grab_preprocessed/s5_flashlight_on_2/s5_piggybank_lift'}, 'pyramidmedium_inspect_1': {'full_info': '/home/erik/ethz/digital-humans/dex-hoi/data_preprocessing/grab_preprocessing/data/grab_unzipped/grab/s5/pyramidmedium_inspect_1.npz', 'preprocessed_out': '/media/erik/DATA1/grab_preprocessed/s5_flashlight_on_2/s5_pyramidmedium_inspect_1', 'amass_info': '/media/erik/DATA1/grab_amass/GRAB/s5/pyramidmedium_inspect_1_stageii.npz'}, 'stanfordbunny_lift': {'full_info': '/home/erik/ethz/digital-humans/dex-hoi/data_preprocessing/grab_preprocessing/data/grab_unzipped/grab/s5/stanfordbunny_lift.npz', 'preprocessed_out': '/media/erik/DATA1/grab_preprocessed/s5_flashlight_on_2/s5_stanfordbunny_lift'}, 'binoculars_see_1': {'full_info': '/home/erik/ethz/digital-humans/dex-hoi/data_preprocessing/grab_preprocessing/data/grab_unzipped/grab/s5/binoculars_see_1.npz', 'preprocessed_out': '/media/erik/DATA1/grab_preprocessed/s5_flashlight_on_2/s5_binoculars_see_1', 'amass_info': '/media/erik/DATA1/grab_amass/GRAB/s5/binoculars_see_1_stageii.npz'}, 'duck_pass_1': {'full_info': '/home/erik/ethz/digital-humans/dex-hoi/data_preprocessing/grab_preprocessing/data/grab_unzipped/grab/s5/duck_pass_1.npz', 'preprocessed_out': '/media/erik/DATA1/grab_preprocessed/s5_flashlight_on_2/s5_duck_pass_1', 'amass_info': '/media/erik/DATA1/grab_amass/GRAB/s5/duck_pass_1_stageii.npz'}, 'camera_takepicture_3': {'full_info': '/home/erik/ethz/digital-humans/dex-hoi/data_preprocessing/grab_preprocessing/data/grab_unzipped/grab/s5/camera_takepicture_3.npz', 'preprocessed_out': '/media/erik/DATA1/grab_preprocessed/s5_flashlight_on_2/s5_camera_takepicture_3', 'amass_info': '/media/erik/DATA1/grab_amass/GRAB/s5/camera_takepicture_3_stageii.npz'}, 'watch_pass_1': {'full_info': '/home/erik/ethz/digital-humans/dex-hoi/data_preprocessing/grab_preprocessing/data/grab_unzipped/grab/s5/watch_pass_1.npz', 'preprocessed_out': '/media/erik/DATA1/grab_preprocessed/s5_flashlight_on_2/s5_watch_pass_1', 'amass_info': '/media/erik/DATA1/grab_amass/GRAB/s5/watch_pass_1_stageii.npz'}, 'pyramidlarge_pass_1': {'full_info': '/home/erik/ethz/digital-humans/dex-hoi/data_preprocessing/grab_preprocessing/data/grab_unzipped/grab/s5/pyramidlarge_pass_1.npz', 'preprocessed_out': '/media/erik/DATA1/grab_preprocessed/s5_flashlight_on_2/s5_pyramidlarge_pass_1', 'amass_info': '/media/erik/DATA1/grab_amass/GRAB/s5/pyramidlarge_pass_1_stageii.npz'}, 'cylinderlarge_inspect_1': {'full_info': '/home/erik/ethz/digital-humans/dex-hoi/data_preprocessing/grab_preprocessing/data/grab_unzipped/grab/s5/cylinderlarge_inspect_1.npz', 'preprocessed_out': '/media/erik/DATA1/grab_preprocessed/s5_flashlight_on_2/s5_cylinderlarge_inspect_1', 'amass_info': '/media/erik/DATA1/grab_amass/GRAB/s5/cylinderlarge_inspect_1_stageii.npz'}, 'toruslarge_lift': {'full_info': '/home/erik/ethz/digital-humans/dex-hoi/data_preprocessing/grab_preprocessing/data/grab_unzipped/grab/s5/toruslarge_lift.npz', 'preprocessed_out': '/media/erik/DATA1/grab_preprocessed/s5_flashlight_on_2/s5_toruslarge_lift'}, 'piggybank_use_1': {'full_info': '/home/erik/ethz/digital-humans/dex-hoi/data_preprocessing/grab_preprocessing/data/grab_unzipped/grab/s5/piggybank_use_1.npz', 'preprocessed_out': '/media/erik/DATA1/grab_preprocessed/s5_flashlight_on_2/s5_piggybank_use_1', 'amass_info': '/media/erik/DATA1/grab_amass/GRAB/s5/piggybank_use_1_stageii.npz'}, 'binoculars_lift': {'full_info': '/home/erik/ethz/digital-humans/dex-hoi/data_preprocessing/grab_preprocessing/data/grab_unzipped/grab/s5/binoculars_lift.npz', 'preprocessed_out': '/media/erik/DATA1/grab_preprocessed/s5_flashlight_on_2/s5_binoculars_lift'}, 'train_play_1': {'full_info': '/home/erik/ethz/digital-humans/dex-hoi/data_preprocessing/grab_preprocessing/data/grab_unzipped/grab/s5/train_play_1.npz', 'preprocessed_out': '/media/erik/DATA1/grab_preprocessed/s5_flashlight_on_2/s5_train_play_1', 'amass_info': '/media/erik/DATA1/grab_amass/GRAB/s5/train_play_1_stageii.npz'}, 'bowl_pass_1': {'full_info': '/home/erik/ethz/digital-humans/dex-hoi/data_preprocessing/grab_preprocessing/data/grab_unzipped/grab/s5/bowl_pass_1.npz', 'preprocessed_out': '/media/erik/DATA1/grab_preprocessed/s5_flashlight_on_2/s5_bowl_pass_1', 'amass_info': '/media/erik/DATA1/grab_amass/GRAB/s5/bowl_pass_1_stageii.npz'}, 'phone_pass_1': {'full_info': '/home/erik/ethz/digital-humans/dex-hoi/data_preprocessing/grab_preprocessing/data/grab_unzipped/grab/s5/phone_pass_1.npz', 'preprocessed_out': '/media/erik/DATA1/grab_preprocessed/s5_flashlight_on_2/s5_phone_pass_1', 'amass_info': '/media/erik/DATA1/grab_amass/GRAB/s5/phone_pass_1_stageii.npz'}, 'wineglass_toast_1': {'full_info': '/home/erik/ethz/digital-humans/dex-hoi/data_preprocessing/grab_preprocessing/data/grab_unzipped/grab/s5/wineglass_toast_1.npz', 'preprocessed_out': '/media/erik/DATA1/grab_preprocessed/s5_flashlight_on_2/s5_wineglass_toast_1', 'amass_info': '/media/erik/DATA1/grab_amass/GRAB/s5/wineglass_toast_1_stageii.npz'}, 'wineglass_pass_1': {'full_info': '/home/erik/ethz/digital-humans/dex-hoi/data_preprocessing/grab_preprocessing/data/grab_unzipped/grab/s5/wineglass_pass_1.npz', 'preprocessed_out': '/media/erik/DATA1/grab_preprocessed/s5_flashlight_on_2/s5_wineglass_pass_1', 'amass_info': '/media/erik/DATA1/grab_amass/GRAB/s5/wineglass_pass_1_stageii.npz'}, 'wineglass_drink_2': {'full_info': '/home/erik/ethz/digital-humans/dex-hoi/data_preprocessing/grab_preprocessing/data/grab_unzipped/grab/s5/wineglass_drink_2.npz', 'preprocessed_out': '/media/erik/DATA1/grab_preprocessed/s5_flashlight_on_2/s5_wineglass_drink_2', 'amass_info': '/media/erik/DATA1/grab_amass/GRAB/s5/wineglass_drink_2_stageii.npz'}, 'gamecontroller_play_1': {'full_info': '/home/erik/ethz/digital-humans/dex-hoi/data_preprocessing/grab_preprocessing/data/grab_unzipped/grab/s5/gamecontroller_play_1.npz', 'preprocessed_out': '/media/erik/DATA1/grab_preprocessed/s5_flashlight_on_2/s5_gamecontroller_play_1', 'amass_info': '/media/erik/DATA1/grab_amass/GRAB/s5/gamecontroller_play_1_stageii.npz'}, 'cylindersmall_pass_1': {'full_info': '/home/erik/ethz/digital-humans/dex-hoi/data_preprocessing/grab_preprocessing/data/grab_unzipped/grab/s5/cylindersmall_pass_1.npz', 'preprocessed_out': '/media/erik/DATA1/grab_preprocessed/s5_flashlight_on_2/s5_cylindersmall_pass_1', 'amass_info': '/media/erik/DATA1/grab_amass/GRAB/s5/cylindersmall_pass_1_stageii.npz'}, 'spheremedium_lift': {'full_info': '/home/erik/ethz/digital-humans/dex-hoi/data_preprocessing/grab_preprocessing/data/grab_unzipped/grab/s5/spheremedium_lift.npz', 'preprocessed_out': '/media/erik/DATA1/grab_preprocessed/s5_flashlight_on_2/s5_spheremedium_lift'}, 'stapler_pass_1': {'full_info': '/home/erik/ethz/digital-humans/dex-hoi/data_preprocessing/grab_preprocessing/data/grab_unzipped/grab/s5/stapler_pass_1.npz', 'preprocessed_out': '/media/erik/DATA1/grab_preprocessed/s5_flashlight_on_2/s5_stapler_pass_1', 'amass_info': '/media/erik/DATA1/grab_amass/GRAB/s5/stapler_pass_1_stageii.npz'}, 'stanfordbunny_pass_1': {'full_info': '/home/erik/ethz/digital-humans/dex-hoi/data_preprocessing/grab_preprocessing/data/grab_unzipped/grab/s5/stanfordbunny_pass_1.npz', 'preprocessed_out': '/media/erik/DATA1/grab_preprocessed/s5_flashlight_on_2/s5_stanfordbunny_pass_1', 'amass_info': '/media/erik/DATA1/grab_amass/GRAB/s5/stanfordbunny_pass_1_stageii.npz'}, 'cubemedium_pass_1': {'full_info': '/home/erik/ethz/digital-humans/dex-hoi/data_preprocessing/grab_preprocessing/data/grab_unzipped/grab/s5/cubemedium_pass_1.npz', 'preprocessed_out': '/media/erik/DATA1/grab_preprocessed/s5_flashlight_on_2/s5_cubemedium_pass_1', 'amass_info': '/media/erik/DATA1/grab_amass/GRAB/s5/cubemedium_pass_1_stageii.npz'}, 'mouse_pass_1': {'full_info': '/home/erik/ethz/digital-humans/dex-hoi/data_preprocessing/grab_preprocessing/data/grab_unzipped/grab/s5/mouse_pass_1.npz', 'preprocessed_out': '/media/erik/DATA1/grab_preprocessed/s5_flashlight_on_2/s5_mouse_pass_1', 'amass_info': '/media/erik/DATA1/grab_amass/GRAB/s5/mouse_pass_1_stageii.npz'}, 'stanfordbunny_inspect_1': {'full_info': '/home/erik/ethz/digital-humans/dex-hoi/data_preprocessing/grab_preprocessing/data/grab_unzipped/grab/s5/stanfordbunny_inspect_1.npz', 'preprocessed_out': '/media/erik/DATA1/grab_preprocessed/s5_flashlight_on_2/s5_stanfordbunny_inspect_1', 'amass_info': '/media/erik/DATA1/grab_amass/GRAB/s5/stanfordbunny_inspect_1_stageii.npz'}, 'hammer_use_1': {'full_info': '/home/erik/ethz/digital-humans/dex-hoi/data_preprocessing/grab_preprocessing/data/grab_unzipped/grab/s5/hammer_use_1.npz', 'preprocessed_out': '/media/erik/DATA1/grab_preprocessed/s5_flashlight_on_2/s5_hammer_use_1', 'amass_info': '/media/erik/DATA1/grab_amass/GRAB/s5/hammer_use_1_stageii.npz'}, 'mug_pass_1': {'full_info': '/home/erik/ethz/digital-humans/dex-hoi/data_preprocessing/grab_preprocessing/data/grab_unzipped/grab/s5/mug_pass_1.npz', 'preprocessed_out': '/media/erik/DATA1/grab_preprocessed/s5_flashlight_on_2/s5_mug_pass_1', 'amass_info': '/media/erik/DATA1/grab_amass/GRAB/s5/mug_pass_1_stageii.npz'}, 'waterbottle_shake_1': {'full_info': '/home/erik/ethz/digital-humans/dex-hoi/data_preprocessing/grab_preprocessing/data/grab_unzipped/grab/s5/waterbottle_shake_1.npz', 'preprocessed_out': '/media/erik/DATA1/grab_preprocessed/s5_flashlight_on_2/s5_waterbottle_shake_1', 'amass_info': '/media/erik/DATA1/grab_amass/GRAB/s5/waterbottle_shake_1_stageii.npz'}, 'mug_drink_1': {'full_info': '/home/erik/ethz/digital-humans/dex-hoi/data_preprocessing/grab_preprocessing/data/grab_unzipped/grab/s5/mug_drink_1.npz', 'preprocessed_out': '/media/erik/DATA1/grab_preprocessed/s5_flashlight_on_2/s5_mug_drink_1', 'amass_info': '/media/erik/DATA1/grab_amass/GRAB/s5/mug_drink_1_stageii.npz'}, 'elephant_inspect_1': {'full_info': '/home/erik/ethz/digital-humans/dex-hoi/data_preprocessing/grab_preprocessing/data/grab_unzipped/grab/s5/elephant_inspect_1.npz', 'preprocessed_out': '/media/erik/DATA1/grab_preprocessed/s5_flashlight_on_2/s5_elephant_inspect_1', 'amass_info': '/media/erik/DATA1/grab_amass/GRAB/s5/elephant_inspect_1_stageii.npz'}, 'mouse_lift': {'full_info': '/home/erik/ethz/digital-humans/dex-hoi/data_preprocessing/grab_preprocessing/data/grab_unzipped/grab/s5/mouse_lift.npz', 'preprocessed_out': '/media/erik/DATA1/grab_preprocessed/s5_flashlight_on_2/s5_mouse_lift'}, 'cubesmall_inspect_1': {'full_info': '/home/erik/ethz/digital-humans/dex-hoi/data_preprocessing/grab_preprocessing/data/grab_unzipped/grab/s5/cubesmall_inspect_1.npz', 'preprocessed_out': '/media/erik/DATA1/grab_preprocessed/s5_flashlight_on_2/s5_cubesmall_inspect_1', 'amass_info': '/media/erik/DATA1/grab_amass/GRAB/s5/cubesmall_inspect_1_stageii.npz'}, 'duck_inspect_1': {'full_info': '/home/erik/ethz/digital-humans/dex-hoi/data_preprocessing/grab_preprocessing/data/grab_unzipped/grab/s5/duck_inspect_1.npz', 'preprocessed_out': '/media/erik/DATA1/grab_preprocessed/s5_flashlight_on_2/s5_duck_inspect_1', 'amass_info': '/media/erik/DATA1/grab_amass/GRAB/s5/duck_inspect_1_stageii.npz'}, 'spherelarge_inspect_1': {'full_info': '/home/erik/ethz/digital-humans/dex-hoi/data_preprocessing/grab_preprocessing/data/grab_unzipped/grab/s5/spherelarge_inspect_1.npz', 'preprocessed_out': '/media/erik/DATA1/grab_preprocessed/s5_flashlight_on_2/s5_spherelarge_inspect_1', 'amass_info': '/media/erik/DATA1/grab_amass/GRAB/s5/spherelarge_inspect_1_stageii.npz'}, 'torusmedium_pass_1': {'full_info': '/home/erik/ethz/digital-humans/dex-hoi/data_preprocessing/grab_preprocessing/data/grab_unzipped/grab/s5/torusmedium_pass_1.npz', 'preprocessed_out': '/media/erik/DATA1/grab_preprocessed/s5_flashlight_on_2/s5_torusmedium_pass_1', 'amass_info': '/media/erik/DATA1/grab_amass/GRAB/s5/torusmedium_pass_1_stageii.npz'}, 'banana_pass_1': {'full_info': '/home/erik/ethz/digital-humans/dex-hoi/data_preprocessing/grab_preprocessing/data/grab_unzipped/grab/s5/banana_pass_1.npz', 'preprocessed_out': '/media/erik/DATA1/grab_preprocessed/s5_flashlight_on_2/s5_banana_pass_1', 'amass_info': '/media/erik/DATA1/grab_amass/GRAB/s5/banana_pass_1_stageii.npz'}, 'cubemedium_lift': {'full_info': '/home/erik/ethz/digital-humans/dex-hoi/data_preprocessing/grab_preprocessing/data/grab_unzipped/grab/s5/cubemedium_lift.npz', 'preprocessed_out': '/media/erik/DATA1/grab_preprocessed/s5_flashlight_on_2/s5_cubemedium_lift'}, 'toruslarge_pass_1': {'full_info': '/home/erik/ethz/digital-humans/dex-hoi/data_preprocessing/grab_preprocessing/data/grab_unzipped/grab/s5/toruslarge_pass_1.npz', 'preprocessed_out': '/media/erik/DATA1/grab_preprocessed/s5_flashlight_on_2/s5_toruslarge_pass_1', 'amass_info': '/media/erik/DATA1/grab_amass/GRAB/s5/toruslarge_pass_1_stageii.npz'}, 'cubemedium_inspect_1': {'full_info': '/home/erik/ethz/digital-humans/dex-hoi/data_preprocessing/grab_preprocessing/data/grab_unzipped/grab/s5/cubemedium_inspect_1.npz', 'preprocessed_out': '/media/erik/DATA1/grab_preprocessed/s5_flashlight_on_2/s5_cubemedium_inspect_1', 'amass_info': '/media/erik/DATA1/grab_amass/GRAB/s5/cubemedium_inspect_1_stageii.npz'}, 'flute_play_2': {'full_info': '/home/erik/ethz/digital-humans/dex-hoi/data_preprocessing/grab_preprocessing/data/grab_unzipped/grab/s5/flute_play_2.npz', 'preprocessed_out': '/media/erik/DATA1/grab_preprocessed/s5_flashlight_on_2/s5_flute_play_2', 'amass_info': '/media/erik/DATA1/grab_amass/GRAB/s5/flute_play_2_stageii.npz'}, 'cup_drink_2': {'full_info': '/home/erik/ethz/digital-humans/dex-hoi/data_preprocessing/grab_preprocessing/data/grab_unzipped/grab/s5/cup_drink_2.npz', 'preprocessed_out': '/media/erik/DATA1/grab_preprocessed/s5_flashlight_on_2/s5_cup_drink_2', 'amass_info': '/media/erik/DATA1/grab_amass/GRAB/s5/cup_drink_2_stageii.npz'}, 'cup_pour_1': {'full_info': '/home/erik/ethz/digital-humans/dex-hoi/data_preprocessing/grab_preprocessing/data/grab_unzipped/grab/s5/cup_pour_1.npz', 'preprocessed_out': '/media/erik/DATA1/grab_preprocessed/s5_flashlight_on_2/s5_cup_pour_1', 'amass_info': '/media/erik/DATA1/grab_amass/GRAB/s5/cup_pour_1_stageii.npz'}, 'hammer_pass_1': {'full_info': '/home/erik/ethz/digital-humans/dex-hoi/data_preprocessing/grab_preprocessing/data/grab_unzipped/grab/s5/hammer_pass_1.npz', 'preprocessed_out': '/media/erik/DATA1/grab_preprocessed/s5_flashlight_on_2/s5_hammer_pass_1', 'amass_info': '/media/erik/DATA1/grab_amass/GRAB/s5/hammer_pass_1_stageii.npz'}, 'airplane_pass_1': {'full_info': '/home/erik/ethz/digital-humans/dex-hoi/data_preprocessing/grab_preprocessing/data/grab_unzipped/grab/s5/airplane_pass_1.npz', 'preprocessed_out': '/media/erik/DATA1/grab_preprocessed/s5_flashlight_on_2/s5_airplane_pass_1', 'amass_info': '/media/erik/DATA1/grab_amass/GRAB/s5/airplane_pass_1_stageii.npz'}, 'binoculars_pass_1': {'full_info': '/home/erik/ethz/digital-humans/dex-hoi/data_preprocessing/grab_preprocessing/data/grab_unzipped/grab/s5/binoculars_pass_1.npz', 'preprocessed_out': '/media/erik/DATA1/grab_preprocessed/s5_flashlight_on_2/s5_binoculars_pass_1', 'amass_info': '/media/erik/DATA1/grab_amass/GRAB/s5/binoculars_pass_1_stageii.npz'}, 'wineglass_lift': {'full_info': '/home/erik/ethz/digital-humans/dex-hoi/data_preprocessing/grab_preprocessing/data/grab_unzipped/grab/s5/wineglass_lift.npz', 'preprocessed_out': '/media/erik/DATA1/grab_preprocessed/s5_flashlight_on_2/s5_wineglass_lift'}, 'spheremedium_inspect_1': {'full_info': '/home/erik/ethz/digital-humans/dex-hoi/data_preprocessing/grab_preprocessing/data/grab_unzipped/grab/s5/spheremedium_inspect_1.npz', 'preprocessed_out': '/media/erik/DATA1/grab_preprocessed/s5_flashlight_on_2/s5_spheremedium_inspect_1', 'amass_info': '/media/erik/DATA1/grab_amass/GRAB/s5/spheremedium_inspect_1_stageii.npz'}, 'airplane_lift': {'full_info': '/home/erik/ethz/digital-humans/dex-hoi/data_preprocessing/grab_preprocessing/data/grab_unzipped/grab/s5/airplane_lift.npz', 'preprocessed_out': '/media/erik/DATA1/grab_preprocessed/s5_flashlight_on_2/s5_airplane_lift'}}\n",
      "{'full_info': '/home/erik/ethz/digital-humans/dex-hoi/data_preprocessing/grab_preprocessing/data/grab_unzipped/grab/s5/stamp_pass_1.npz', 'preprocessed_out': '/media/erik/DATA1/grab_preprocessed/s5_flashlight_on_2/s5_stamp_pass_1', 'amass_info': '/media/erik/DATA1/grab_amass/GRAB/s5/stamp_pass_1_stageii.npz'}\n",
      "WARNING: You are using a MANO model, with only 10 shape coefficients.\n",
      "WARNING: You are using a MANO model, with only 10 shape coefficients.\n"
     ]
    },
    {
     "name": "stderr",
     "output_type": "stream",
     "text": [
      "  2%|▏         | 2/106 [16:47<14:33:24, 503.89s/it]\n"
     ]
    },
    {
     "ename": "KeyboardInterrupt",
     "evalue": "",
     "output_type": "error",
     "traceback": [
      "\u001b[0;31m---------------------------------------------------------------------------\u001b[0m",
      "\u001b[0;31mKeyboardInterrupt\u001b[0m                         Traceback (most recent call last)",
      "Cell \u001b[0;32mIn[58], line 14\u001b[0m\n\u001b[1;32m     12\u001b[0m     \u001b[38;5;28mprint\u001b[39m(\u001b[38;5;124mf\u001b[39m\u001b[38;5;124m'\u001b[39m\u001b[38;5;124mNo file found for \u001b[39m\u001b[38;5;132;01m{\u001b[39;00msubject_id\u001b[38;5;132;01m}\u001b[39;00m\u001b[38;5;124m - \u001b[39m\u001b[38;5;132;01m{\u001b[39;00mtask_description\u001b[38;5;132;01m}\u001b[39;00m\u001b[38;5;124m'\u001b[39m)\n\u001b[1;32m     13\u001b[0m     \u001b[38;5;28;01mcontinue\u001b[39;00m\n\u001b[0;32m---> 14\u001b[0m \u001b[43mprocess_data_entry\u001b[49m\u001b[43m(\u001b[49m\u001b[43min_file\u001b[49m\u001b[43m,\u001b[49m\u001b[43m \u001b[49m\u001b[43mamass_file\u001b[49m\u001b[43m,\u001b[49m\u001b[43m \u001b[49m\u001b[43mout_dir\u001b[49m\u001b[43m)\u001b[49m\n",
      "Cell \u001b[0;32mIn[49], line 137\u001b[0m, in \u001b[0;36mprocess_data_entry\u001b[0;34m(in_file, amass_file, out_dir)\u001b[0m\n\u001b[1;32m    135\u001b[0m \u001b[38;5;28;01mfor\u001b[39;00m i \u001b[38;5;129;01min\u001b[39;00m \u001b[38;5;28mrange\u001b[39m(\u001b[38;5;28mlen\u001b[39m(out_data)):\n\u001b[1;32m    136\u001b[0m     out_file \u001b[38;5;241m=\u001b[39m os\u001b[38;5;241m.\u001b[39mpath\u001b[38;5;241m.\u001b[39mjoin(out_dir, \u001b[38;5;124mf\u001b[39m\u001b[38;5;124m'\u001b[39m\u001b[38;5;132;01m{\u001b[39;00mout_data_name[i]\u001b[38;5;132;01m}\u001b[39;00m\u001b[38;5;124m.npz\u001b[39m\u001b[38;5;124m'\u001b[39m)\n\u001b[0;32m--> 137\u001b[0m     \u001b[43mnp\u001b[49m\u001b[38;5;241;43m.\u001b[39;49m\u001b[43msavez_compressed\u001b[49m\u001b[43m(\u001b[49m\u001b[43mout_file\u001b[49m\u001b[43m,\u001b[49m\u001b[43m \u001b[49m\u001b[38;5;241;43m*\u001b[39;49m\u001b[38;5;241;43m*\u001b[39;49m\u001b[43mout_data\u001b[49m\u001b[43m[\u001b[49m\u001b[43mi\u001b[49m\u001b[43m]\u001b[49m\u001b[43m)\u001b[49m\n\u001b[1;32m    139\u001b[0m \u001b[38;5;28mprint\u001b[39m(\u001b[38;5;124mf\u001b[39m\u001b[38;5;124m'\u001b[39m\u001b[38;5;124mProcessed \u001b[39m\u001b[38;5;132;01m{\u001b[39;00min_file\u001b[38;5;132;01m}\u001b[39;00m\u001b[38;5;124m and saved to \u001b[39m\u001b[38;5;132;01m{\u001b[39;00mout_dir\u001b[38;5;132;01m}\u001b[39;00m\u001b[38;5;124m'\u001b[39m)\n",
      "File \u001b[0;32m<__array_function__ internals>:180\u001b[0m, in \u001b[0;36msavez_compressed\u001b[0;34m(*args, **kwargs)\u001b[0m\n",
      "File \u001b[0;32m~/mambaforge/envs/grab/lib/python3.8/site-packages/numpy/lib/npyio.py:666\u001b[0m, in \u001b[0;36msavez_compressed\u001b[0;34m(file, *args, **kwds)\u001b[0m\n\u001b[1;32m    603\u001b[0m \u001b[38;5;129m@array_function_dispatch\u001b[39m(_savez_compressed_dispatcher)\n\u001b[1;32m    604\u001b[0m \u001b[38;5;28;01mdef\u001b[39;00m \u001b[38;5;21msavez_compressed\u001b[39m(file, \u001b[38;5;241m*\u001b[39margs, \u001b[38;5;241m*\u001b[39m\u001b[38;5;241m*\u001b[39mkwds):\n\u001b[1;32m    605\u001b[0m \u001b[38;5;250m    \u001b[39m\u001b[38;5;124;03m\"\"\"\u001b[39;00m\n\u001b[1;32m    606\u001b[0m \u001b[38;5;124;03m    Save several arrays into a single file in compressed ``.npz`` format.\u001b[39;00m\n\u001b[1;32m    607\u001b[0m \n\u001b[0;32m   (...)\u001b[0m\n\u001b[1;32m    664\u001b[0m \n\u001b[1;32m    665\u001b[0m \u001b[38;5;124;03m    \"\"\"\u001b[39;00m\n\u001b[0;32m--> 666\u001b[0m     \u001b[43m_savez\u001b[49m\u001b[43m(\u001b[49m\u001b[43mfile\u001b[49m\u001b[43m,\u001b[49m\u001b[43m \u001b[49m\u001b[43margs\u001b[49m\u001b[43m,\u001b[49m\u001b[43m \u001b[49m\u001b[43mkwds\u001b[49m\u001b[43m,\u001b[49m\u001b[43m \u001b[49m\u001b[38;5;28;43;01mTrue\u001b[39;49;00m\u001b[43m)\u001b[49m\n",
      "File \u001b[0;32m~/mambaforge/envs/grab/lib/python3.8/site-packages/numpy/lib/npyio.py:699\u001b[0m, in \u001b[0;36m_savez\u001b[0;34m(file, args, kwds, compress, allow_pickle, pickle_kwargs)\u001b[0m\n\u001b[1;32m    697\u001b[0m     \u001b[38;5;66;03m# always force zip64, gh-10776\u001b[39;00m\n\u001b[1;32m    698\u001b[0m     \u001b[38;5;28;01mwith\u001b[39;00m zipf\u001b[38;5;241m.\u001b[39mopen(fname, \u001b[38;5;124m'\u001b[39m\u001b[38;5;124mw\u001b[39m\u001b[38;5;124m'\u001b[39m, force_zip64\u001b[38;5;241m=\u001b[39m\u001b[38;5;28;01mTrue\u001b[39;00m) \u001b[38;5;28;01mas\u001b[39;00m fid:\n\u001b[0;32m--> 699\u001b[0m         \u001b[38;5;28;43mformat\u001b[39;49m\u001b[38;5;241;43m.\u001b[39;49m\u001b[43mwrite_array\u001b[49m\u001b[43m(\u001b[49m\u001b[43mfid\u001b[49m\u001b[43m,\u001b[49m\u001b[43m \u001b[49m\u001b[43mval\u001b[49m\u001b[43m,\u001b[49m\n\u001b[1;32m    700\u001b[0m \u001b[43m                           \u001b[49m\u001b[43mallow_pickle\u001b[49m\u001b[38;5;241;43m=\u001b[39;49m\u001b[43mallow_pickle\u001b[49m\u001b[43m,\u001b[49m\n\u001b[1;32m    701\u001b[0m \u001b[43m                           \u001b[49m\u001b[43mpickle_kwargs\u001b[49m\u001b[38;5;241;43m=\u001b[39;49m\u001b[43mpickle_kwargs\u001b[49m\u001b[43m)\u001b[49m\n\u001b[1;32m    703\u001b[0m zipf\u001b[38;5;241m.\u001b[39mclose()\n",
      "File \u001b[0;32m~/mambaforge/envs/grab/lib/python3.8/site-packages/numpy/lib/format.py:694\u001b[0m, in \u001b[0;36mwrite_array\u001b[0;34m(fp, array, version, allow_pickle, pickle_kwargs)\u001b[0m\n\u001b[1;32m    690\u001b[0m \u001b[38;5;28;01melse\u001b[39;00m:\n\u001b[1;32m    691\u001b[0m     \u001b[38;5;28;01mfor\u001b[39;00m chunk \u001b[38;5;129;01min\u001b[39;00m numpy\u001b[38;5;241m.\u001b[39mnditer(\n\u001b[1;32m    692\u001b[0m             array, flags\u001b[38;5;241m=\u001b[39m[\u001b[38;5;124m'\u001b[39m\u001b[38;5;124mexternal_loop\u001b[39m\u001b[38;5;124m'\u001b[39m, \u001b[38;5;124m'\u001b[39m\u001b[38;5;124mbuffered\u001b[39m\u001b[38;5;124m'\u001b[39m, \u001b[38;5;124m'\u001b[39m\u001b[38;5;124mzerosize_ok\u001b[39m\u001b[38;5;124m'\u001b[39m],\n\u001b[1;32m    693\u001b[0m             buffersize\u001b[38;5;241m=\u001b[39mbuffersize, order\u001b[38;5;241m=\u001b[39m\u001b[38;5;124m'\u001b[39m\u001b[38;5;124mC\u001b[39m\u001b[38;5;124m'\u001b[39m):\n\u001b[0;32m--> 694\u001b[0m         \u001b[43mfp\u001b[49m\u001b[38;5;241;43m.\u001b[39;49m\u001b[43mwrite\u001b[49m\u001b[43m(\u001b[49m\u001b[43mchunk\u001b[49m\u001b[38;5;241;43m.\u001b[39;49m\u001b[43mtobytes\u001b[49m\u001b[43m(\u001b[49m\u001b[38;5;124;43m'\u001b[39;49m\u001b[38;5;124;43mC\u001b[39;49m\u001b[38;5;124;43m'\u001b[39;49m\u001b[43m)\u001b[49m\u001b[43m)\u001b[49m\n",
      "File \u001b[0;32m~/mambaforge/envs/grab/lib/python3.8/zipfile.py:1139\u001b[0m, in \u001b[0;36m_ZipWriteFile.write\u001b[0;34m(self, data)\u001b[0m\n\u001b[1;32m   1137\u001b[0m \u001b[38;5;28mself\u001b[39m\u001b[38;5;241m.\u001b[39m_crc \u001b[38;5;241m=\u001b[39m crc32(data, \u001b[38;5;28mself\u001b[39m\u001b[38;5;241m.\u001b[39m_crc)\n\u001b[1;32m   1138\u001b[0m \u001b[38;5;28;01mif\u001b[39;00m \u001b[38;5;28mself\u001b[39m\u001b[38;5;241m.\u001b[39m_compressor:\n\u001b[0;32m-> 1139\u001b[0m     data \u001b[38;5;241m=\u001b[39m \u001b[38;5;28;43mself\u001b[39;49m\u001b[38;5;241;43m.\u001b[39;49m\u001b[43m_compressor\u001b[49m\u001b[38;5;241;43m.\u001b[39;49m\u001b[43mcompress\u001b[49m\u001b[43m(\u001b[49m\u001b[43mdata\u001b[49m\u001b[43m)\u001b[49m\n\u001b[1;32m   1140\u001b[0m     \u001b[38;5;28mself\u001b[39m\u001b[38;5;241m.\u001b[39m_compress_size \u001b[38;5;241m+\u001b[39m\u001b[38;5;241m=\u001b[39m \u001b[38;5;28mlen\u001b[39m(data)\n\u001b[1;32m   1141\u001b[0m \u001b[38;5;28mself\u001b[39m\u001b[38;5;241m.\u001b[39m_fileobj\u001b[38;5;241m.\u001b[39mwrite(data)\n",
      "\u001b[0;31mKeyboardInterrupt\u001b[0m: "
     ]
    }
   ],
   "source": [
    "from tqdm import tqdm\n",
    "# iterate over all files and process them, show tqdm progress bar\n",
    "for subject_id, task_description in data_dict.items():\n",
    "    print(f'Processing subject {subject_id}...')\n",
    "    for task_dict in tqdm(task_description.values()):\n",
    "        print(task_dict)\n",
    "        try:\n",
    "            in_file = task_dict['full_info']\n",
    "            amass_file = task_dict['amass_info']\n",
    "            out_dir = task_dict['preprocessed_out']\n",
    "        except KeyError:\n",
    "            print(f'No file found for {subject_id} - {task_description}')\n",
    "            continue\n",
    "        process_data_entry(in_file, amass_file, out_dir)"
   ]
  }
 ],
 "metadata": {
  "kernelspec": {
   "display_name": "dexhoi",
   "language": "python",
   "name": "python3"
  },
  "language_info": {
   "codemirror_mode": {
    "name": "ipython",
    "version": 3
   },
   "file_extension": ".py",
   "mimetype": "text/x-python",
   "name": "python",
   "nbconvert_exporter": "python",
   "pygments_lexer": "ipython3",
   "version": "3.8.18"
  }
 },
 "nbformat": 4,
 "nbformat_minor": 2
}
