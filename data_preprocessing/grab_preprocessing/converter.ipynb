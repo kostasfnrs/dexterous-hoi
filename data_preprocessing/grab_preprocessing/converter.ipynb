{
 "cells": [
  {
   "cell_type": "code",
   "execution_count": 1,
   "metadata": {},
   "outputs": [],
   "source": [
    "import sys\n",
    "import numpy as np\n",
    "import torch\n",
    "import os, glob\n",
    "import smplx"
   ]
  },
  {
   "cell_type": "code",
   "execution_count": 2,
   "metadata": {},
   "outputs": [],
   "source": [
    "from GRAB.tools.objectmodel import ObjectModel\n",
    "from GRAB.tools.utils import parse_npz, prepare_params, params2torch, to_cpu\n",
    "from GRAB.tools.meshviewer import Mesh\n"
   ]
  },
  {
   "cell_type": "code",
   "execution_count": 3,
   "metadata": {},
   "outputs": [
    {
     "name": "stdout",
     "output_type": "stream",
     "text": [
      "Using device: cuda\n",
      "Data directory: /home/erik/ethz/digital-humans/dex-hoi/data_preprocessing/grab_preprocessing/data/grab_unzipped/grab\n",
      "Output directory: /home/erik/ethz/digital-humans/dex-hoi/data_preprocessing/grab_preprocessing/data/grab_preprocessed\n",
      "SMPLX/MANO Model directory: /home/erik/ethz/digital-humans/dex-hoi/data_preprocessing/grab_preprocessing/body_models\n"
     ]
    }
   ],
   "source": [
    "device = torch.device('cuda' if torch.cuda.is_available() else 'cpu')\n",
    "data_dir = os.path.abspath('./data/grab_unzipped/grab')\n",
    "out_dir = os.path.abspath('./data/grab_preprocessed')\n",
    "model_path = os.path.abspath('./body_models/')\n",
    "\n",
    "os.makedirs(out_dir, exist_ok=True)\n",
    "\n",
    "print('Using device:', device)\n",
    "print('Data directory:', data_dir)\n",
    "print('Output directory:', out_dir)\n",
    "print('SMPLX/MANO Model directory:', model_path)"
   ]
  },
  {
   "cell_type": "code",
   "execution_count": 4,
   "metadata": {},
   "outputs": [
    {
     "name": "stdout",
     "output_type": "stream",
     "text": [
      "Adding directory /home/erik/ethz/digital-humans/dex-hoi/data_preprocessing/grab_preprocessing/data/grab_unzipped/grab/s5 with 106 files, creating output folder structure...\n",
      "Adding directory /home/erik/ethz/digital-humans/dex-hoi/data_preprocessing/grab_preprocessing/data/grab_unzipped/grab/s4 with 113 files, creating output folder structure...\n",
      "Adding directory /home/erik/ethz/digital-humans/dex-hoi/data_preprocessing/grab_preprocessing/data/grab_unzipped/grab/s1 with 198 files, creating output folder structure...\n",
      "Adding directory /home/erik/ethz/digital-humans/dex-hoi/data_preprocessing/grab_preprocessing/data/grab_unzipped/grab/s9 with 125 files, creating output folder structure...\n",
      "Adding directory /home/erik/ethz/digital-humans/dex-hoi/data_preprocessing/grab_preprocessing/data/grab_unzipped/grab/s3 with 125 files, creating output folder structure...\n",
      "Adding directory /home/erik/ethz/digital-humans/dex-hoi/data_preprocessing/grab_preprocessing/data/grab_unzipped/grab/s7 with 120 files, creating output folder structure...\n",
      "Adding directory /home/erik/ethz/digital-humans/dex-hoi/data_preprocessing/grab_preprocessing/data/grab_unzipped/grab/s8 with 162 files, creating output folder structure...\n",
      "Adding directory /home/erik/ethz/digital-humans/dex-hoi/data_preprocessing/grab_preprocessing/data/grab_unzipped/grab/s10 with 145 files, creating output folder structure...\n",
      "Adding directory /home/erik/ethz/digital-humans/dex-hoi/data_preprocessing/grab_preprocessing/data/grab_unzipped/grab/s2 with 93 files, creating output folder structure...\n",
      "Adding directory /home/erik/ethz/digital-humans/dex-hoi/data_preprocessing/grab_preprocessing/data/grab_unzipped/grab/s6 with 148 files, creating output folder structure...\n"
     ]
    }
   ],
   "source": [
    "# map directory names to lists of files in them\n",
    "data_dict = {}\n",
    "\n",
    "for root, dirs, files in os.walk(data_dir):\n",
    "    if len(files) > 0:\n",
    "        print(f'Adding directory {root} with {len(files)} files, creating output folder structure...')\n",
    "        data_dict[root] = []\n",
    "\n",
    "        for file in files:\n",
    "            file_in = os.path.join(root, file)\n",
    "            file_out_dir = os.path.join(out_dir, f'{os.path.basename(root)}_{os.path.splitext(file)[0]}')\n",
    "            os.makedirs(file_out_dir, exist_ok=True)\n",
    "            data_dict[root].append((file_in, file_out_dir))\n",
    "\n"
   ]
  },
  {
   "cell_type": "code",
   "execution_count": 10,
   "metadata": {},
   "outputs": [],
   "source": [
    "def load_sbj_verts(seq_data):\n",
    "        mesh_path = os.path.join(data_dir, '..',seq_data.body.vtemp)\n",
    "        sbj_vtemp = np.array(Mesh(filename=mesh_path).vertices)\n",
    "        return sbj_vtemp\n",
    "\n",
    "def load_obj_verts(obj_name, seq_data, n_verts_sample=512):\n",
    "    mesh_path = os.path.join(data_dir, '..',seq_data.object.object_mesh)\n",
    "    np.random.seed(100)\n",
    "    obj_mesh = Mesh(filename=mesh_path)\n",
    "    verts_obj = np.array(obj_mesh.vertices)\n",
    "    faces_obj = np.array(obj_mesh.faces)\n",
    "\n",
    "    if verts_obj.shape[0] > n_verts_sample:\n",
    "        verts_sample_id = np.random.choice(verts_obj.shape[0], n_verts_sample, replace=False)\n",
    "    else:\n",
    "        verts_sample_id = np.arange(verts_obj.shape[0])\n",
    "\n",
    "    verts_sampled = verts_obj[verts_sample_id]\n",
    "    obj_info = {'verts': verts_obj,\n",
    "                'faces': faces_obj,\n",
    "                'verts_sample_id': verts_sample_id,\n",
    "                'verts_sample': verts_sampled,\n",
    "                'obj_mesh_file': mesh_path}\n",
    "\n",
    "    return obj_info\n",
    "\n",
    "save_body_verts = True\n",
    "save_lhand_verts = True\n",
    "save_rhand_verts = True\n",
    "save_object_verts = True\n",
    "save_contact = True\n",
    "n_verts_sample = 1000\n",
    "\n",
    "\n",
    "def process_data_entry(root, in_file, out_dir):\n",
    "    body_data = {\n",
    "        'global_orient': [],'body_pose': [],'transl': [],\n",
    "        'right_hand_pose': [],'left_hand_pose': [],\n",
    "        'jaw_pose': [],'leye_pose': [],'reye_pose': [],\n",
    "        'expression': [],'fullpose': [],\n",
    "        'contact':[], 'verts' :[]\n",
    "    }\n",
    "\n",
    "    object_data = {'verts': [], 'global_orient': [], 'transl': [], 'contact': []}\n",
    "    lhand_data = {'verts': [], 'global_orient': [], 'hand_pose': [], 'transl': [], 'fullpose': []}\n",
    "    rhand_data = {'verts': [], 'global_orient': [], 'hand_pose': [], 'transl': [], 'fullpose': []}\n",
    "\n",
    "    seq_data = parse_npz(in_file)\n",
    "\n",
    "    obj_name = seq_data.obj_name\n",
    "    sbj_id   = seq_data.sbj_id\n",
    "    n_comps  = seq_data.n_comps\n",
    "    gender   = seq_data.gender\n",
    "\n",
    "    # need this for other methods from GRAB, this should not filter out any frames\n",
    "    frame_mask = (seq_data['contact']['object']>-1).any(axis=1)\n",
    "    T = frame_mask.sum()\n",
    "\n",
    "    sbj_params = prepare_params(seq_data.body.params, frame_mask)\n",
    "    rh_params  = prepare_params(seq_data.rhand.params, frame_mask)\n",
    "    lh_params  = prepare_params(seq_data.lhand.params, frame_mask)\n",
    "    obj_params = prepare_params(seq_data.object.params, frame_mask)\n",
    "\n",
    "    sbj_vtemp = load_sbj_verts(seq_data)\n",
    "\n",
    "    if save_body_verts:\n",
    "\n",
    "        sbj_m = smplx.create(model_path=model_path,\n",
    "                                model_type='smplx',\n",
    "                                gender=gender,\n",
    "                                num_pca_comps=n_comps,\n",
    "                                v_template=sbj_vtemp,\n",
    "                                batch_size=T)\n",
    "\n",
    "        sbj_parms = params2torch(sbj_params)\n",
    "        verts_sbj = to_cpu(sbj_m(**sbj_parms).vertices)\n",
    "        body_data['verts'].append(verts_sbj)\n",
    "\n",
    "    if save_lhand_verts:\n",
    "        lh_mesh = os.path.join(data_dir, '..', seq_data.lhand.vtemp)\n",
    "        lh_vtemp = np.array(Mesh(filename=lh_mesh).vertices)\n",
    "\n",
    "        lh_m = smplx.create(model_path=model_path,\n",
    "                            model_type='mano',\n",
    "                            is_rhand=False,\n",
    "                            v_template=lh_vtemp,\n",
    "                            num_pca_comps=n_comps,\n",
    "                            flat_hand_mean=True,\n",
    "                            batch_size=T)\n",
    "\n",
    "        lh_parms = params2torch(lh_params)\n",
    "        verts_lh = to_cpu(lh_m(**lh_parms).vertices)\n",
    "        lhand_data['verts'].append(verts_lh)\n",
    "\n",
    "    if save_rhand_verts:\n",
    "        rh_mesh = os.path.join(data_dir, '..', seq_data.rhand.vtemp)\n",
    "        rh_vtemp = np.array(Mesh(filename=rh_mesh).vertices)\n",
    "\n",
    "        rh_m = smplx.create(model_path=model_path,\n",
    "                            model_type='mano',\n",
    "                            is_rhand=True,\n",
    "                            v_template=rh_vtemp,\n",
    "                            num_pca_comps=n_comps,\n",
    "                            flat_hand_mean=True,\n",
    "                            batch_size=T)\n",
    "\n",
    "        rh_parms = params2torch(rh_params)\n",
    "        verts_rh = to_cpu(rh_m(**rh_parms).vertices)\n",
    "        rhand_data['verts'].append(verts_rh)\n",
    "\n",
    "    ### for objects\n",
    "\n",
    "    obj_info = load_obj_verts(obj_name, seq_data, n_verts_sample)\n",
    "\n",
    "    if save_object_verts:\n",
    "\n",
    "        obj_m = ObjectModel(v_template=obj_info['verts_sample'],\n",
    "                            batch_size=T)\n",
    "        obj_parms = params2torch(obj_params)\n",
    "        verts_obj = to_cpu(obj_m(**obj_parms).vertices)\n",
    "        object_data['verts'].append(verts_obj)\n",
    "\n",
    "    if save_contact:\n",
    "        body_data['contact'].append(seq_data.contact.body[frame_mask])\n",
    "        object_data['contact'].append(seq_data.contact.object[frame_mask][:,obj_info['verts_sample_id']])\n",
    "\n",
    "    out_data = [body_data, lhand_data, rhand_data, object_data]\n",
    "    out_data_name = ['body_data', 'rhand_data', 'lhand_data', 'object_data']\n",
    "    # save with numpy npz\n",
    "    for i in range(len(out_data)):\n",
    "        out_file = os.path.join(out_dir, f'{out_data_name[i]}.npz')\n",
    "        np.savez_compressed(out_file, **out_data[i])\n",
    "\n",
    "    print(f'Processed {in_file} and saved to {out_dir}')\n"
   ]
  },
  {
   "cell_type": "code",
   "execution_count": 11,
   "metadata": {},
   "outputs": [
    {
     "name": "stderr",
     "output_type": "stream",
     "text": [
      "  0%|          | 0/106 [00:00<?, ?it/s]"
     ]
    },
    {
     "name": "stdout",
     "output_type": "stream",
     "text": [
      "WARNING: You are using a MANO model, with only 10 shape coefficients.\n",
      "WARNING: You are using a MANO model, with only 10 shape coefficients.\n"
     ]
    },
    {
     "name": "stderr",
     "output_type": "stream",
     "text": [
      "  1%|          | 1/106 [00:01<02:24,  1.38s/it]"
     ]
    },
    {
     "name": "stdout",
     "output_type": "stream",
     "text": [
      "Processed /home/erik/ethz/digital-humans/dex-hoi/data_preprocessing/grab_preprocessing/data/grab_unzipped/grab/s5/flashlight_on_2.npz and saved to /home/erik/ethz/digital-humans/dex-hoi/data_preprocessing/grab_preprocessing/data/grab_preprocessed/s5_flashlight_on_2\n",
      "WARNING: You are using a MANO model, with only 10 shape coefficients.\n",
      "WARNING: You are using a MANO model, with only 10 shape coefficients.\n"
     ]
    },
    {
     "name": "stderr",
     "output_type": "stream",
     "text": [
      "  2%|▏         | 2/106 [00:04<03:42,  2.14s/it]"
     ]
    },
    {
     "name": "stdout",
     "output_type": "stream",
     "text": [
      "Processed /home/erik/ethz/digital-humans/dex-hoi/data_preprocessing/grab_preprocessing/data/grab_unzipped/grab/s5/cylindermedium_lift.npz and saved to /home/erik/ethz/digital-humans/dex-hoi/data_preprocessing/grab_preprocessing/data/grab_preprocessed/s5_cylindermedium_lift\n",
      "WARNING: You are using a MANO model, with only 10 shape coefficients.\n",
      "WARNING: You are using a MANO model, with only 10 shape coefficients.\n"
     ]
    },
    {
     "name": "stderr",
     "output_type": "stream",
     "text": [
      "  3%|▎         | 3/106 [00:05<02:55,  1.70s/it]"
     ]
    },
    {
     "name": "stdout",
     "output_type": "stream",
     "text": [
      "Processed /home/erik/ethz/digital-humans/dex-hoi/data_preprocessing/grab_preprocessing/data/grab_unzipped/grab/s5/stamp_pass_1.npz and saved to /home/erik/ethz/digital-humans/dex-hoi/data_preprocessing/grab_preprocessing/data/grab_preprocessed/s5_stamp_pass_1\n",
      "WARNING: You are using a MANO model, with only 10 shape coefficients.\n",
      "WARNING: You are using a MANO model, with only 10 shape coefficients.\n"
     ]
    },
    {
     "name": "stderr",
     "output_type": "stream",
     "text": [
      "  4%|▍         | 4/106 [00:08<03:43,  2.19s/it]"
     ]
    },
    {
     "name": "stdout",
     "output_type": "stream",
     "text": [
      "Processed /home/erik/ethz/digital-humans/dex-hoi/data_preprocessing/grab_preprocessing/data/grab_unzipped/grab/s5/cylinderlarge_lift.npz and saved to /home/erik/ethz/digital-humans/dex-hoi/data_preprocessing/grab_preprocessing/data/grab_preprocessed/s5_cylinderlarge_lift\n",
      "WARNING: You are using a MANO model, with only 10 shape coefficients.\n",
      "WARNING: You are using a MANO model, with only 10 shape coefficients.\n"
     ]
    },
    {
     "name": "stderr",
     "output_type": "stream",
     "text": [
      "  5%|▍         | 5/106 [00:09<03:09,  1.88s/it]"
     ]
    },
    {
     "name": "stdout",
     "output_type": "stream",
     "text": [
      "Processed /home/erik/ethz/digital-humans/dex-hoi/data_preprocessing/grab_preprocessing/data/grab_unzipped/grab/s5/stamp_stamp_1.npz and saved to /home/erik/ethz/digital-humans/dex-hoi/data_preprocessing/grab_preprocessing/data/grab_preprocessed/s5_stamp_stamp_1\n",
      "WARNING: You are using a MANO model, with only 10 shape coefficients.\n",
      "WARNING: You are using a MANO model, with only 10 shape coefficients.\n"
     ]
    },
    {
     "name": "stderr",
     "output_type": "stream",
     "text": [
      "  6%|▌         | 6/106 [00:10<02:52,  1.72s/it]"
     ]
    },
    {
     "name": "stdout",
     "output_type": "stream",
     "text": [
      "Processed /home/erik/ethz/digital-humans/dex-hoi/data_preprocessing/grab_preprocessing/data/grab_unzipped/grab/s5/pyramidmedium_pass_1.npz and saved to /home/erik/ethz/digital-humans/dex-hoi/data_preprocessing/grab_preprocessing/data/grab_preprocessed/s5_pyramidmedium_pass_1\n",
      "WARNING: You are using a MANO model, with only 10 shape coefficients.\n",
      "WARNING: You are using a MANO model, with only 10 shape coefficients.\n"
     ]
    },
    {
     "name": "stderr",
     "output_type": "stream",
     "text": [
      "  7%|▋         | 7/106 [00:13<03:34,  2.17s/it]"
     ]
    },
    {
     "name": "stdout",
     "output_type": "stream",
     "text": [
      "Processed /home/erik/ethz/digital-humans/dex-hoi/data_preprocessing/grab_preprocessing/data/grab_unzipped/grab/s5/duck_lift.npz and saved to /home/erik/ethz/digital-humans/dex-hoi/data_preprocessing/grab_preprocessing/data/grab_preprocessed/s5_duck_lift\n",
      "WARNING: You are using a MANO model, with only 10 shape coefficients.\n",
      "WARNING: You are using a MANO model, with only 10 shape coefficients.\n"
     ]
    },
    {
     "name": "stderr",
     "output_type": "stream",
     "text": [
      "  8%|▊         | 8/106 [00:15<03:02,  1.87s/it]"
     ]
    },
    {
     "name": "stdout",
     "output_type": "stream",
     "text": [
      "Processed /home/erik/ethz/digital-humans/dex-hoi/data_preprocessing/grab_preprocessing/data/grab_unzipped/grab/s5/alarmclock_pass_1.npz and saved to /home/erik/ethz/digital-humans/dex-hoi/data_preprocessing/grab_preprocessing/data/grab_preprocessed/s5_alarmclock_pass_1\n",
      "WARNING: You are using a MANO model, with only 10 shape coefficients.\n",
      "WARNING: You are using a MANO model, with only 10 shape coefficients.\n"
     ]
    },
    {
     "name": "stderr",
     "output_type": "stream",
     "text": [
      "  8%|▊         | 9/106 [00:18<03:34,  2.22s/it]"
     ]
    },
    {
     "name": "stdout",
     "output_type": "stream",
     "text": [
      "Processed /home/erik/ethz/digital-humans/dex-hoi/data_preprocessing/grab_preprocessing/data/grab_unzipped/grab/s5/elephant_lift.npz and saved to /home/erik/ethz/digital-humans/dex-hoi/data_preprocessing/grab_preprocessing/data/grab_preprocessed/s5_elephant_lift\n",
      "WARNING: You are using a MANO model, with only 10 shape coefficients.\n",
      "WARNING: You are using a MANO model, with only 10 shape coefficients.\n"
     ]
    },
    {
     "name": "stderr",
     "output_type": "stream",
     "text": [
      "  9%|▉         | 10/106 [00:20<03:37,  2.27s/it]"
     ]
    },
    {
     "name": "stdout",
     "output_type": "stream",
     "text": [
      "Processed /home/erik/ethz/digital-humans/dex-hoi/data_preprocessing/grab_preprocessing/data/grab_unzipped/grab/s5/spherelarge_lift.npz and saved to /home/erik/ethz/digital-humans/dex-hoi/data_preprocessing/grab_preprocessing/data/grab_preprocessed/s5_spherelarge_lift\n",
      "WARNING: You are using a MANO model, with only 10 shape coefficients.\n",
      "WARNING: You are using a MANO model, with only 10 shape coefficients.\n"
     ]
    },
    {
     "name": "stderr",
     "output_type": "stream",
     "text": [
      " 10%|█         | 11/106 [00:23<04:03,  2.57s/it]"
     ]
    },
    {
     "name": "stdout",
     "output_type": "stream",
     "text": [
      "Processed /home/erik/ethz/digital-humans/dex-hoi/data_preprocessing/grab_preprocessing/data/grab_unzipped/grab/s5/cubelarge_lift.npz and saved to /home/erik/ethz/digital-humans/dex-hoi/data_preprocessing/grab_preprocessing/data/grab_preprocessed/s5_cubelarge_lift\n",
      "WARNING: You are using a MANO model, with only 10 shape coefficients.\n",
      "WARNING: You are using a MANO model, with only 10 shape coefficients.\n"
     ]
    },
    {
     "name": "stderr",
     "output_type": "stream",
     "text": [
      " 11%|█▏        | 12/106 [00:25<03:29,  2.22s/it]"
     ]
    },
    {
     "name": "stdout",
     "output_type": "stream",
     "text": [
      "Processed /home/erik/ethz/digital-humans/dex-hoi/data_preprocessing/grab_preprocessing/data/grab_unzipped/grab/s5/scissors_pass_1.npz and saved to /home/erik/ethz/digital-humans/dex-hoi/data_preprocessing/grab_preprocessing/data/grab_preprocessed/s5_scissors_pass_1\n",
      "WARNING: You are using a MANO model, with only 10 shape coefficients.\n",
      "WARNING: You are using a MANO model, with only 10 shape coefficients.\n"
     ]
    },
    {
     "name": "stderr",
     "output_type": "stream",
     "text": [
      " 12%|█▏        | 13/106 [00:26<03:02,  1.96s/it]"
     ]
    },
    {
     "name": "stdout",
     "output_type": "stream",
     "text": [
      "Processed /home/erik/ethz/digital-humans/dex-hoi/data_preprocessing/grab_preprocessing/data/grab_unzipped/grab/s5/cup_pass_1.npz and saved to /home/erik/ethz/digital-humans/dex-hoi/data_preprocessing/grab_preprocessing/data/grab_preprocessed/s5_cup_pass_1\n",
      "WARNING: You are using a MANO model, with only 10 shape coefficients.\n",
      "WARNING: You are using a MANO model, with only 10 shape coefficients.\n"
     ]
    },
    {
     "name": "stderr",
     "output_type": "stream",
     "text": [
      " 13%|█▎        | 14/106 [00:27<02:40,  1.75s/it]"
     ]
    },
    {
     "name": "stdout",
     "output_type": "stream",
     "text": [
      "Processed /home/erik/ethz/digital-humans/dex-hoi/data_preprocessing/grab_preprocessing/data/grab_unzipped/grab/s5/cylindermedium_inspect_1.npz and saved to /home/erik/ethz/digital-humans/dex-hoi/data_preprocessing/grab_preprocessing/data/grab_preprocessed/s5_cylindermedium_inspect_1\n",
      "WARNING: You are using a MANO model, with only 10 shape coefficients.\n",
      "WARNING: You are using a MANO model, with only 10 shape coefficients.\n"
     ]
    },
    {
     "name": "stderr",
     "output_type": "stream",
     "text": [
      " 14%|█▍        | 15/106 [00:29<02:22,  1.57s/it]"
     ]
    },
    {
     "name": "stdout",
     "output_type": "stream",
     "text": [
      "Processed /home/erik/ethz/digital-humans/dex-hoi/data_preprocessing/grab_preprocessing/data/grab_unzipped/grab/s5/wineglass_drink_1.npz and saved to /home/erik/ethz/digital-humans/dex-hoi/data_preprocessing/grab_preprocessing/data/grab_preprocessed/s5_wineglass_drink_1\n",
      "WARNING: You are using a MANO model, with only 10 shape coefficients.\n",
      "WARNING: You are using a MANO model, with only 10 shape coefficients.\n"
     ]
    },
    {
     "name": "stderr",
     "output_type": "stream",
     "text": [
      " 15%|█▌        | 16/106 [00:30<02:10,  1.45s/it]"
     ]
    },
    {
     "name": "stdout",
     "output_type": "stream",
     "text": [
      "Processed /home/erik/ethz/digital-humans/dex-hoi/data_preprocessing/grab_preprocessing/data/grab_unzipped/grab/s5/toothbrush_brush_1.npz and saved to /home/erik/ethz/digital-humans/dex-hoi/data_preprocessing/grab_preprocessing/data/grab_preprocessed/s5_toothbrush_brush_1\n",
      "WARNING: You are using a MANO model, with only 10 shape coefficients.\n",
      "WARNING: You are using a MANO model, with only 10 shape coefficients.\n"
     ]
    },
    {
     "name": "stderr",
     "output_type": "stream",
     "text": [
      " 16%|█▌        | 17/106 [00:32<02:28,  1.67s/it]"
     ]
    },
    {
     "name": "stdout",
     "output_type": "stream",
     "text": [
      "Processed /home/erik/ethz/digital-humans/dex-hoi/data_preprocessing/grab_preprocessing/data/grab_unzipped/grab/s5/gamecontroller_lift.npz and saved to /home/erik/ethz/digital-humans/dex-hoi/data_preprocessing/grab_preprocessing/data/grab_preprocessed/s5_gamecontroller_lift\n",
      "WARNING: You are using a MANO model, with only 10 shape coefficients.\n",
      "WARNING: You are using a MANO model, with only 10 shape coefficients.\n"
     ]
    },
    {
     "name": "stderr",
     "output_type": "stream",
     "text": [
      " 17%|█▋        | 18/106 [00:33<02:13,  1.52s/it]"
     ]
    },
    {
     "name": "stdout",
     "output_type": "stream",
     "text": [
      "Processed /home/erik/ethz/digital-humans/dex-hoi/data_preprocessing/grab_preprocessing/data/grab_unzipped/grab/s5/cubesmall_pass_1.npz and saved to /home/erik/ethz/digital-humans/dex-hoi/data_preprocessing/grab_preprocessing/data/grab_preprocessed/s5_cubesmall_pass_1\n",
      "WARNING: You are using a MANO model, with only 10 shape coefficients.\n",
      "WARNING: You are using a MANO model, with only 10 shape coefficients.\n"
     ]
    },
    {
     "name": "stderr",
     "output_type": "stream",
     "text": [
      " 18%|█▊        | 19/106 [00:34<02:01,  1.40s/it]"
     ]
    },
    {
     "name": "stdout",
     "output_type": "stream",
     "text": [
      "Processed /home/erik/ethz/digital-humans/dex-hoi/data_preprocessing/grab_preprocessing/data/grab_unzipped/grab/s5/apple_pass_1.npz and saved to /home/erik/ethz/digital-humans/dex-hoi/data_preprocessing/grab_preprocessing/data/grab_preprocessed/s5_apple_pass_1\n",
      "WARNING: You are using a MANO model, with only 10 shape coefficients.\n",
      "WARNING: You are using a MANO model, with only 10 shape coefficients.\n"
     ]
    },
    {
     "name": "stderr",
     "output_type": "stream",
     "text": [
      " 19%|█▉        | 20/106 [00:36<02:15,  1.57s/it]"
     ]
    },
    {
     "name": "stdout",
     "output_type": "stream",
     "text": [
      "Processed /home/erik/ethz/digital-humans/dex-hoi/data_preprocessing/grab_preprocessing/data/grab_unzipped/grab/s5/eyeglasses_clean_2.npz and saved to /home/erik/ethz/digital-humans/dex-hoi/data_preprocessing/grab_preprocessing/data/grab_preprocessed/s5_eyeglasses_clean_2\n",
      "WARNING: You are using a MANO model, with only 10 shape coefficients.\n",
      "WARNING: You are using a MANO model, with only 10 shape coefficients.\n"
     ]
    },
    {
     "name": "stderr",
     "output_type": "stream",
     "text": [
      " 20%|█▉        | 21/106 [00:37<02:04,  1.47s/it]"
     ]
    },
    {
     "name": "stdout",
     "output_type": "stream",
     "text": [
      "Processed /home/erik/ethz/digital-humans/dex-hoi/data_preprocessing/grab_preprocessing/data/grab_unzipped/grab/s5/spheresmall_inspect_1.npz and saved to /home/erik/ethz/digital-humans/dex-hoi/data_preprocessing/grab_preprocessing/data/grab_preprocessed/s5_spheresmall_inspect_1\n",
      "WARNING: You are using a MANO model, with only 10 shape coefficients.\n",
      "WARNING: You are using a MANO model, with only 10 shape coefficients.\n"
     ]
    },
    {
     "name": "stderr",
     "output_type": "stream",
     "text": [
      " 21%|██        | 22/106 [00:39<02:05,  1.49s/it]"
     ]
    },
    {
     "name": "stdout",
     "output_type": "stream",
     "text": [
      "Processed /home/erik/ethz/digital-humans/dex-hoi/data_preprocessing/grab_preprocessing/data/grab_unzipped/grab/s5/mouse_use_1.npz and saved to /home/erik/ethz/digital-humans/dex-hoi/data_preprocessing/grab_preprocessing/data/grab_preprocessed/s5_mouse_use_1\n",
      "WARNING: You are using a MANO model, with only 10 shape coefficients.\n",
      "WARNING: You are using a MANO model, with only 10 shape coefficients.\n"
     ]
    },
    {
     "name": "stderr",
     "output_type": "stream",
     "text": [
      " 22%|██▏       | 23/106 [00:40<02:00,  1.45s/it]"
     ]
    },
    {
     "name": "stdout",
     "output_type": "stream",
     "text": [
      "Processed /home/erik/ethz/digital-humans/dex-hoi/data_preprocessing/grab_preprocessing/data/grab_unzipped/grab/s5/flashlight_on_1.npz and saved to /home/erik/ethz/digital-humans/dex-hoi/data_preprocessing/grab_preprocessing/data/grab_preprocessed/s5_flashlight_on_1\n",
      "WARNING: You are using a MANO model, with only 10 shape coefficients.\n",
      "WARNING: You are using a MANO model, with only 10 shape coefficients.\n"
     ]
    },
    {
     "name": "stderr",
     "output_type": "stream",
     "text": [
      " 23%|██▎       | 24/106 [00:42<01:55,  1.41s/it]"
     ]
    },
    {
     "name": "stdout",
     "output_type": "stream",
     "text": [
      "Processed /home/erik/ethz/digital-humans/dex-hoi/data_preprocessing/grab_preprocessing/data/grab_unzipped/grab/s5/cylinderlarge_pass_1.npz and saved to /home/erik/ethz/digital-humans/dex-hoi/data_preprocessing/grab_preprocessing/data/grab_preprocessed/s5_cylinderlarge_pass_1\n",
      "WARNING: You are using a MANO model, with only 10 shape coefficients.\n",
      "WARNING: You are using a MANO model, with only 10 shape coefficients.\n"
     ]
    },
    {
     "name": "stderr",
     "output_type": "stream",
     "text": [
      " 24%|██▎       | 25/106 [00:45<02:34,  1.90s/it]"
     ]
    },
    {
     "name": "stdout",
     "output_type": "stream",
     "text": [
      "Processed /home/erik/ethz/digital-humans/dex-hoi/data_preprocessing/grab_preprocessing/data/grab_unzipped/grab/s5/cup_lift.npz and saved to /home/erik/ethz/digital-humans/dex-hoi/data_preprocessing/grab_preprocessing/data/grab_preprocessed/s5_cup_lift\n",
      "WARNING: You are using a MANO model, with only 10 shape coefficients.\n",
      "WARNING: You are using a MANO model, with only 10 shape coefficients.\n"
     ]
    },
    {
     "name": "stderr",
     "output_type": "stream",
     "text": [
      " 25%|██▍       | 26/106 [00:46<02:14,  1.68s/it]"
     ]
    },
    {
     "name": "stdout",
     "output_type": "stream",
     "text": [
      "Processed /home/erik/ethz/digital-humans/dex-hoi/data_preprocessing/grab_preprocessing/data/grab_unzipped/grab/s5/spherelarge_pass_1.npz and saved to /home/erik/ethz/digital-humans/dex-hoi/data_preprocessing/grab_preprocessing/data/grab_preprocessed/s5_spherelarge_pass_1\n",
      "WARNING: You are using a MANO model, with only 10 shape coefficients.\n",
      "WARNING: You are using a MANO model, with only 10 shape coefficients.\n"
     ]
    },
    {
     "name": "stderr",
     "output_type": "stream",
     "text": [
      " 25%|██▌       | 27/106 [00:47<02:06,  1.60s/it]"
     ]
    },
    {
     "name": "stdout",
     "output_type": "stream",
     "text": [
      "Processed /home/erik/ethz/digital-humans/dex-hoi/data_preprocessing/grab_preprocessing/data/grab_unzipped/grab/s5/cubelarge_inspect_1.npz and saved to /home/erik/ethz/digital-humans/dex-hoi/data_preprocessing/grab_preprocessing/data/grab_preprocessed/s5_cubelarge_inspect_1\n",
      "WARNING: You are using a MANO model, with only 10 shape coefficients.\n",
      "WARNING: You are using a MANO model, with only 10 shape coefficients.\n"
     ]
    },
    {
     "name": "stderr",
     "output_type": "stream",
     "text": [
      " 26%|██▋       | 28/106 [00:49<02:02,  1.57s/it]"
     ]
    },
    {
     "name": "stdout",
     "output_type": "stream",
     "text": [
      "Processed /home/erik/ethz/digital-humans/dex-hoi/data_preprocessing/grab_preprocessing/data/grab_unzipped/grab/s5/bowl_drink_1.npz and saved to /home/erik/ethz/digital-humans/dex-hoi/data_preprocessing/grab_preprocessing/data/grab_preprocessed/s5_bowl_drink_1\n",
      "WARNING: You are using a MANO model, with only 10 shape coefficients.\n",
      "WARNING: You are using a MANO model, with only 10 shape coefficients.\n"
     ]
    },
    {
     "name": "stderr",
     "output_type": "stream",
     "text": [
      " 27%|██▋       | 29/106 [00:52<02:28,  1.93s/it]"
     ]
    },
    {
     "name": "stdout",
     "output_type": "stream",
     "text": [
      "Processed /home/erik/ethz/digital-humans/dex-hoi/data_preprocessing/grab_preprocessing/data/grab_unzipped/grab/s5/alarmclock_lift.npz and saved to /home/erik/ethz/digital-humans/dex-hoi/data_preprocessing/grab_preprocessing/data/grab_preprocessed/s5_alarmclock_lift\n",
      "WARNING: You are using a MANO model, with only 10 shape coefficients.\n",
      "WARNING: You are using a MANO model, with only 10 shape coefficients.\n"
     ]
    },
    {
     "name": "stderr",
     "output_type": "stream",
     "text": [
      " 28%|██▊       | 30/106 [00:54<02:41,  2.12s/it]"
     ]
    },
    {
     "name": "stdout",
     "output_type": "stream",
     "text": [
      "Processed /home/erik/ethz/digital-humans/dex-hoi/data_preprocessing/grab_preprocessing/data/grab_unzipped/grab/s5/waterbottle_lift.npz and saved to /home/erik/ethz/digital-humans/dex-hoi/data_preprocessing/grab_preprocessing/data/grab_preprocessed/s5_waterbottle_lift\n",
      "WARNING: You are using a MANO model, with only 10 shape coefficients.\n",
      "WARNING: You are using a MANO model, with only 10 shape coefficients.\n"
     ]
    },
    {
     "name": "stderr",
     "output_type": "stream",
     "text": [
      " 29%|██▉       | 31/106 [00:55<02:17,  1.83s/it]"
     ]
    },
    {
     "name": "stdout",
     "output_type": "stream",
     "text": [
      "Processed /home/erik/ethz/digital-humans/dex-hoi/data_preprocessing/grab_preprocessing/data/grab_unzipped/grab/s5/alarmclock_see_1.npz and saved to /home/erik/ethz/digital-humans/dex-hoi/data_preprocessing/grab_preprocessing/data/grab_preprocessed/s5_alarmclock_see_1\n",
      "WARNING: You are using a MANO model, with only 10 shape coefficients.\n",
      "WARNING: You are using a MANO model, with only 10 shape coefficients.\n"
     ]
    },
    {
     "name": "stderr",
     "output_type": "stream",
     "text": [
      " 30%|███       | 32/106 [00:57<02:03,  1.67s/it]"
     ]
    },
    {
     "name": "stdout",
     "output_type": "stream",
     "text": [
      "Processed /home/erik/ethz/digital-humans/dex-hoi/data_preprocessing/grab_preprocessing/data/grab_unzipped/grab/s5/mug_toast_1.npz and saved to /home/erik/ethz/digital-humans/dex-hoi/data_preprocessing/grab_preprocessing/data/grab_preprocessed/s5_mug_toast_1\n",
      "WARNING: You are using a MANO model, with only 10 shape coefficients.\n",
      "WARNING: You are using a MANO model, with only 10 shape coefficients.\n"
     ]
    },
    {
     "name": "stderr",
     "output_type": "stream",
     "text": [
      " 31%|███       | 33/106 [00:58<01:50,  1.51s/it]"
     ]
    },
    {
     "name": "stdout",
     "output_type": "stream",
     "text": [
      "Processed /home/erik/ethz/digital-humans/dex-hoi/data_preprocessing/grab_preprocessing/data/grab_unzipped/grab/s5/waterbottle_pass_1.npz and saved to /home/erik/ethz/digital-humans/dex-hoi/data_preprocessing/grab_preprocessing/data/grab_preprocessed/s5_waterbottle_pass_1\n",
      "WARNING: You are using a MANO model, with only 10 shape coefficients.\n",
      "WARNING: You are using a MANO model, with only 10 shape coefficients.\n"
     ]
    },
    {
     "name": "stderr",
     "output_type": "stream",
     "text": [
      " 32%|███▏      | 34/106 [00:59<01:51,  1.55s/it]"
     ]
    },
    {
     "name": "stdout",
     "output_type": "stream",
     "text": [
      "Processed /home/erik/ethz/digital-humans/dex-hoi/data_preprocessing/grab_preprocessing/data/grab_unzipped/grab/s5/banana_peel_2.npz and saved to /home/erik/ethz/digital-humans/dex-hoi/data_preprocessing/grab_preprocessing/data/grab_preprocessed/s5_banana_peel_2\n",
      "WARNING: You are using a MANO model, with only 10 shape coefficients.\n",
      "WARNING: You are using a MANO model, with only 10 shape coefficients.\n"
     ]
    },
    {
     "name": "stderr",
     "output_type": "stream",
     "text": [
      " 33%|███▎      | 35/106 [01:01<01:48,  1.53s/it]"
     ]
    },
    {
     "name": "stdout",
     "output_type": "stream",
     "text": [
      "Processed /home/erik/ethz/digital-humans/dex-hoi/data_preprocessing/grab_preprocessing/data/grab_unzipped/grab/s5/teapot_pass_1.npz and saved to /home/erik/ethz/digital-humans/dex-hoi/data_preprocessing/grab_preprocessing/data/grab_preprocessed/s5_teapot_pass_1\n",
      "WARNING: You are using a MANO model, with only 10 shape coefficients.\n",
      "WARNING: You are using a MANO model, with only 10 shape coefficients.\n"
     ]
    },
    {
     "name": "stderr",
     "output_type": "stream",
     "text": [
      " 34%|███▍      | 36/106 [01:02<01:37,  1.40s/it]"
     ]
    },
    {
     "name": "stdout",
     "output_type": "stream",
     "text": [
      "Processed /home/erik/ethz/digital-humans/dex-hoi/data_preprocessing/grab_preprocessing/data/grab_unzipped/grab/s5/toothpaste_pass_1.npz and saved to /home/erik/ethz/digital-humans/dex-hoi/data_preprocessing/grab_preprocessing/data/grab_preprocessed/s5_toothpaste_pass_1\n",
      "WARNING: You are using a MANO model, with only 10 shape coefficients.\n",
      "WARNING: You are using a MANO model, with only 10 shape coefficients.\n"
     ]
    },
    {
     "name": "stderr",
     "output_type": "stream",
     "text": [
      " 35%|███▍      | 37/106 [01:04<01:45,  1.53s/it]"
     ]
    },
    {
     "name": "stdout",
     "output_type": "stream",
     "text": [
      "Processed /home/erik/ethz/digital-humans/dex-hoi/data_preprocessing/grab_preprocessing/data/grab_unzipped/grab/s5/pyramidlarge_inspect_1.npz and saved to /home/erik/ethz/digital-humans/dex-hoi/data_preprocessing/grab_preprocessing/data/grab_preprocessed/s5_pyramidlarge_inspect_1\n",
      "WARNING: You are using a MANO model, with only 10 shape coefficients.\n",
      "WARNING: You are using a MANO model, with only 10 shape coefficients.\n"
     ]
    },
    {
     "name": "stderr",
     "output_type": "stream",
     "text": [
      " 36%|███▌      | 38/106 [01:05<01:38,  1.45s/it]"
     ]
    },
    {
     "name": "stdout",
     "output_type": "stream",
     "text": [
      "Processed /home/erik/ethz/digital-humans/dex-hoi/data_preprocessing/grab_preprocessing/data/grab_unzipped/grab/s5/torusmedium_inspect_1.npz and saved to /home/erik/ethz/digital-humans/dex-hoi/data_preprocessing/grab_preprocessing/data/grab_preprocessed/s5_torusmedium_inspect_1\n",
      "WARNING: You are using a MANO model, with only 10 shape coefficients.\n",
      "WARNING: You are using a MANO model, with only 10 shape coefficients.\n"
     ]
    },
    {
     "name": "stderr",
     "output_type": "stream",
     "text": [
      " 37%|███▋      | 39/106 [01:08<01:59,  1.78s/it]"
     ]
    },
    {
     "name": "stdout",
     "output_type": "stream",
     "text": [
      "Processed /home/erik/ethz/digital-humans/dex-hoi/data_preprocessing/grab_preprocessing/data/grab_unzipped/grab/s5/train_lift.npz and saved to /home/erik/ethz/digital-humans/dex-hoi/data_preprocessing/grab_preprocessing/data/grab_preprocessed/s5_train_lift\n",
      "WARNING: You are using a MANO model, with only 10 shape coefficients.\n",
      "WARNING: You are using a MANO model, with only 10 shape coefficients.\n"
     ]
    },
    {
     "name": "stderr",
     "output_type": "stream",
     "text": [
      " 38%|███▊      | 40/106 [01:09<01:45,  1.60s/it]"
     ]
    },
    {
     "name": "stdout",
     "output_type": "stream",
     "text": [
      "Processed /home/erik/ethz/digital-humans/dex-hoi/data_preprocessing/grab_preprocessing/data/grab_unzipped/grab/s5/camera_pass_1.npz and saved to /home/erik/ethz/digital-humans/dex-hoi/data_preprocessing/grab_preprocessing/data/grab_preprocessed/s5_camera_pass_1\n",
      "WARNING: You are using a MANO model, with only 10 shape coefficients.\n",
      "WARNING: You are using a MANO model, with only 10 shape coefficients.\n"
     ]
    },
    {
     "name": "stderr",
     "output_type": "stream",
     "text": [
      " 39%|███▊      | 41/106 [01:10<01:37,  1.50s/it]"
     ]
    },
    {
     "name": "stdout",
     "output_type": "stream",
     "text": [
      "Processed /home/erik/ethz/digital-humans/dex-hoi/data_preprocessing/grab_preprocessing/data/grab_unzipped/grab/s5/cubelarge_pass_1.npz and saved to /home/erik/ethz/digital-humans/dex-hoi/data_preprocessing/grab_preprocessing/data/grab_preprocessed/s5_cubelarge_pass_1\n",
      "WARNING: You are using a MANO model, with only 10 shape coefficients.\n",
      "WARNING: You are using a MANO model, with only 10 shape coefficients.\n"
     ]
    },
    {
     "name": "stderr",
     "output_type": "stream",
     "text": [
      " 40%|███▉      | 42/106 [01:11<01:32,  1.44s/it]"
     ]
    },
    {
     "name": "stdout",
     "output_type": "stream",
     "text": [
      "Processed /home/erik/ethz/digital-humans/dex-hoi/data_preprocessing/grab_preprocessing/data/grab_unzipped/grab/s5/spheremedium_pass_1.npz and saved to /home/erik/ethz/digital-humans/dex-hoi/data_preprocessing/grab_preprocessing/data/grab_preprocessed/s5_spheremedium_pass_1\n",
      "WARNING: You are using a MANO model, with only 10 shape coefficients.\n",
      "WARNING: You are using a MANO model, with only 10 shape coefficients.\n"
     ]
    },
    {
     "name": "stderr",
     "output_type": "stream",
     "text": [
      " 41%|████      | 43/106 [01:13<01:28,  1.41s/it]"
     ]
    },
    {
     "name": "stdout",
     "output_type": "stream",
     "text": [
      "Processed /home/erik/ethz/digital-humans/dex-hoi/data_preprocessing/grab_preprocessing/data/grab_unzipped/grab/s5/train_pass_1.npz and saved to /home/erik/ethz/digital-humans/dex-hoi/data_preprocessing/grab_preprocessing/data/grab_preprocessed/s5_train_pass_1\n",
      "WARNING: You are using a MANO model, with only 10 shape coefficients.\n",
      "WARNING: You are using a MANO model, with only 10 shape coefficients.\n"
     ]
    },
    {
     "name": "stderr",
     "output_type": "stream",
     "text": [
      " 42%|████▏     | 44/106 [01:14<01:24,  1.36s/it]"
     ]
    },
    {
     "name": "stdout",
     "output_type": "stream",
     "text": [
      "Processed /home/erik/ethz/digital-humans/dex-hoi/data_preprocessing/grab_preprocessing/data/grab_unzipped/grab/s5/cylindermedium_pass_1.npz and saved to /home/erik/ethz/digital-humans/dex-hoi/data_preprocessing/grab_preprocessing/data/grab_preprocessed/s5_cylindermedium_pass_1\n",
      "WARNING: You are using a MANO model, with only 10 shape coefficients.\n",
      "WARNING: You are using a MANO model, with only 10 shape coefficients.\n"
     ]
    },
    {
     "name": "stderr",
     "output_type": "stream",
     "text": [
      " 42%|████▏     | 45/106 [01:15<01:18,  1.29s/it]"
     ]
    },
    {
     "name": "stdout",
     "output_type": "stream",
     "text": [
      "Processed /home/erik/ethz/digital-humans/dex-hoi/data_preprocessing/grab_preprocessing/data/grab_unzipped/grab/s5/waterbottle_open_1.npz and saved to /home/erik/ethz/digital-humans/dex-hoi/data_preprocessing/grab_preprocessing/data/grab_preprocessed/s5_waterbottle_open_1\n",
      "WARNING: You are using a MANO model, with only 10 shape coefficients.\n",
      "WARNING: You are using a MANO model, with only 10 shape coefficients.\n"
     ]
    },
    {
     "name": "stderr",
     "output_type": "stream",
     "text": [
      " 43%|████▎     | 46/106 [01:16<01:18,  1.31s/it]"
     ]
    },
    {
     "name": "stdout",
     "output_type": "stream",
     "text": [
      "Processed /home/erik/ethz/digital-humans/dex-hoi/data_preprocessing/grab_preprocessing/data/grab_unzipped/grab/s5/hand_inspect_1.npz and saved to /home/erik/ethz/digital-humans/dex-hoi/data_preprocessing/grab_preprocessing/data/grab_preprocessed/s5_hand_inspect_1\n",
      "WARNING: You are using a MANO model, with only 10 shape coefficients.\n",
      "WARNING: You are using a MANO model, with only 10 shape coefficients.\n"
     ]
    },
    {
     "name": "stderr",
     "output_type": "stream",
     "text": [
      " 44%|████▍     | 47/106 [01:18<01:16,  1.30s/it]"
     ]
    },
    {
     "name": "stdout",
     "output_type": "stream",
     "text": [
      "Processed /home/erik/ethz/digital-humans/dex-hoi/data_preprocessing/grab_preprocessing/data/grab_unzipped/grab/s5/elephant_pass_1.npz and saved to /home/erik/ethz/digital-humans/dex-hoi/data_preprocessing/grab_preprocessing/data/grab_preprocessed/s5_elephant_pass_1\n"
     ]
    },
    {
     "name": "stderr",
     "output_type": "stream",
     "text": [
      " 45%|████▌     | 48/106 [01:19<01:11,  1.23s/it]"
     ]
    },
    {
     "name": "stdout",
     "output_type": "stream",
     "text": [
      "WARNING: You are using a MANO model, with only 10 shape coefficients.\n",
      "WARNING: You are using a MANO model, with only 10 shape coefficients.\n",
      "Processed /home/erik/ethz/digital-humans/dex-hoi/data_preprocessing/grab_preprocessing/data/grab_unzipped/grab/s5/gamecontroller_pass_1.npz and saved to /home/erik/ethz/digital-humans/dex-hoi/data_preprocessing/grab_preprocessing/data/grab_preprocessed/s5_gamecontroller_pass_1\n",
      "WARNING: You are using a MANO model, with only 10 shape coefficients.\n",
      "WARNING: You are using a MANO model, with only 10 shape coefficients.\n"
     ]
    },
    {
     "name": "stderr",
     "output_type": "stream",
     "text": [
      " 46%|████▌     | 49/106 [01:21<01:33,  1.64s/it]"
     ]
    },
    {
     "name": "stdout",
     "output_type": "stream",
     "text": [
      "Processed /home/erik/ethz/digital-humans/dex-hoi/data_preprocessing/grab_preprocessing/data/grab_unzipped/grab/s5/cubesmall_lift.npz and saved to /home/erik/ethz/digital-humans/dex-hoi/data_preprocessing/grab_preprocessing/data/grab_preprocessed/s5_cubesmall_lift\n",
      "WARNING: You are using a MANO model, with only 10 shape coefficients.\n",
      "WARNING: You are using a MANO model, with only 10 shape coefficients.\n"
     ]
    },
    {
     "name": "stderr",
     "output_type": "stream",
     "text": [
      " 47%|████▋     | 50/106 [01:23<01:24,  1.52s/it]"
     ]
    },
    {
     "name": "stdout",
     "output_type": "stream",
     "text": [
      "Processed /home/erik/ethz/digital-humans/dex-hoi/data_preprocessing/grab_preprocessing/data/grab_unzipped/grab/s5/bowl_drink_2.npz and saved to /home/erik/ethz/digital-humans/dex-hoi/data_preprocessing/grab_preprocessing/data/grab_preprocessed/s5_bowl_drink_2\n",
      "WARNING: You are using a MANO model, with only 10 shape coefficients.\n",
      "WARNING: You are using a MANO model, with only 10 shape coefficients.\n"
     ]
    },
    {
     "name": "stderr",
     "output_type": "stream",
     "text": [
      " 48%|████▊     | 51/106 [01:24<01:21,  1.47s/it]"
     ]
    },
    {
     "name": "stdout",
     "output_type": "stream",
     "text": [
      "Processed /home/erik/ethz/digital-humans/dex-hoi/data_preprocessing/grab_preprocessing/data/grab_unzipped/grab/s5/piggybank_pass_1.npz and saved to /home/erik/ethz/digital-humans/dex-hoi/data_preprocessing/grab_preprocessing/data/grab_preprocessed/s5_piggybank_pass_1\n"
     ]
    },
    {
     "name": "stderr",
     "output_type": "stream",
     "text": [
      " 49%|████▉     | 52/106 [01:25<01:13,  1.36s/it]"
     ]
    },
    {
     "name": "stdout",
     "output_type": "stream",
     "text": [
      "WARNING: You are using a MANO model, with only 10 shape coefficients.\n",
      "WARNING: You are using a MANO model, with only 10 shape coefficients.\n",
      "Processed /home/erik/ethz/digital-humans/dex-hoi/data_preprocessing/grab_preprocessing/data/grab_unzipped/grab/s5/flute_pass_1.npz and saved to /home/erik/ethz/digital-humans/dex-hoi/data_preprocessing/grab_preprocessing/data/grab_preprocessed/s5_flute_pass_1\n"
     ]
    },
    {
     "name": "stderr",
     "output_type": "stream",
     "text": [
      " 50%|█████     | 53/106 [01:26<01:08,  1.29s/it]"
     ]
    },
    {
     "name": "stdout",
     "output_type": "stream",
     "text": [
      "WARNING: You are using a MANO model, with only 10 shape coefficients.\n",
      "WARNING: You are using a MANO model, with only 10 shape coefficients.\n",
      "Processed /home/erik/ethz/digital-humans/dex-hoi/data_preprocessing/grab_preprocessing/data/grab_unzipped/grab/s5/hand_pass_1.npz and saved to /home/erik/ethz/digital-humans/dex-hoi/data_preprocessing/grab_preprocessing/data/grab_preprocessed/s5_hand_pass_1\n",
      "WARNING: You are using a MANO model, with only 10 shape coefficients.\n",
      "WARNING: You are using a MANO model, with only 10 shape coefficients.\n"
     ]
    },
    {
     "name": "stderr",
     "output_type": "stream",
     "text": [
      " 51%|█████     | 54/106 [01:27<01:04,  1.25s/it]"
     ]
    },
    {
     "name": "stdout",
     "output_type": "stream",
     "text": [
      "Processed /home/erik/ethz/digital-humans/dex-hoi/data_preprocessing/grab_preprocessing/data/grab_unzipped/grab/s5/cylindersmall_inspect_1.npz and saved to /home/erik/ethz/digital-humans/dex-hoi/data_preprocessing/grab_preprocessing/data/grab_preprocessed/s5_cylindersmall_inspect_1\n",
      "WARNING: You are using a MANO model, with only 10 shape coefficients.\n",
      "WARNING: You are using a MANO model, with only 10 shape coefficients.\n"
     ]
    },
    {
     "name": "stderr",
     "output_type": "stream",
     "text": [
      " 52%|█████▏    | 55/106 [01:29<01:07,  1.32s/it]"
     ]
    },
    {
     "name": "stdout",
     "output_type": "stream",
     "text": [
      "Processed /home/erik/ethz/digital-humans/dex-hoi/data_preprocessing/grab_preprocessing/data/grab_unzipped/grab/s5/flute_play_1.npz and saved to /home/erik/ethz/digital-humans/dex-hoi/data_preprocessing/grab_preprocessing/data/grab_preprocessed/s5_flute_play_1\n",
      "WARNING: You are using a MANO model, with only 10 shape coefficients.\n",
      "WARNING: You are using a MANO model, with only 10 shape coefficients.\n"
     ]
    },
    {
     "name": "stderr",
     "output_type": "stream",
     "text": [
      " 53%|█████▎    | 56/106 [01:31<01:24,  1.70s/it]"
     ]
    },
    {
     "name": "stdout",
     "output_type": "stream",
     "text": [
      "Processed /home/erik/ethz/digital-humans/dex-hoi/data_preprocessing/grab_preprocessing/data/grab_unzipped/grab/s5/doorknob_lift.npz and saved to /home/erik/ethz/digital-humans/dex-hoi/data_preprocessing/grab_preprocessing/data/grab_preprocessed/s5_doorknob_lift\n",
      "WARNING: You are using a MANO model, with only 10 shape coefficients.\n",
      "WARNING: You are using a MANO model, with only 10 shape coefficients.\n"
     ]
    },
    {
     "name": "stderr",
     "output_type": "stream",
     "text": [
      " 54%|█████▍    | 57/106 [01:33<01:19,  1.63s/it]"
     ]
    },
    {
     "name": "stdout",
     "output_type": "stream",
     "text": [
      "Processed /home/erik/ethz/digital-humans/dex-hoi/data_preprocessing/grab_preprocessing/data/grab_unzipped/grab/s5/torussmall_inspect_1.npz and saved to /home/erik/ethz/digital-humans/dex-hoi/data_preprocessing/grab_preprocessing/data/grab_preprocessed/s5_torussmall_inspect_1\n",
      "WARNING: You are using a MANO model, with only 10 shape coefficients.\n",
      "WARNING: You are using a MANO model, with only 10 shape coefficients.\n"
     ]
    },
    {
     "name": "stderr",
     "output_type": "stream",
     "text": [
      " 55%|█████▍    | 58/106 [01:35<01:31,  1.90s/it]"
     ]
    },
    {
     "name": "stdout",
     "output_type": "stream",
     "text": [
      "Processed /home/erik/ethz/digital-humans/dex-hoi/data_preprocessing/grab_preprocessing/data/grab_unzipped/grab/s5/piggybank_lift.npz and saved to /home/erik/ethz/digital-humans/dex-hoi/data_preprocessing/grab_preprocessing/data/grab_preprocessed/s5_piggybank_lift\n",
      "WARNING: You are using a MANO model, with only 10 shape coefficients.\n",
      "WARNING: You are using a MANO model, with only 10 shape coefficients.\n"
     ]
    },
    {
     "name": "stderr",
     "output_type": "stream",
     "text": [
      " 56%|█████▌    | 59/106 [01:37<01:23,  1.78s/it]"
     ]
    },
    {
     "name": "stdout",
     "output_type": "stream",
     "text": [
      "Processed /home/erik/ethz/digital-humans/dex-hoi/data_preprocessing/grab_preprocessing/data/grab_unzipped/grab/s5/pyramidmedium_inspect_1.npz and saved to /home/erik/ethz/digital-humans/dex-hoi/data_preprocessing/grab_preprocessing/data/grab_preprocessed/s5_pyramidmedium_inspect_1\n",
      "WARNING: You are using a MANO model, with only 10 shape coefficients.\n",
      "WARNING: You are using a MANO model, with only 10 shape coefficients.\n"
     ]
    },
    {
     "name": "stderr",
     "output_type": "stream",
     "text": [
      " 57%|█████▋    | 60/106 [01:39<01:31,  1.98s/it]"
     ]
    },
    {
     "name": "stdout",
     "output_type": "stream",
     "text": [
      "Processed /home/erik/ethz/digital-humans/dex-hoi/data_preprocessing/grab_preprocessing/data/grab_unzipped/grab/s5/stanfordbunny_lift.npz and saved to /home/erik/ethz/digital-humans/dex-hoi/data_preprocessing/grab_preprocessing/data/grab_preprocessed/s5_stanfordbunny_lift\n",
      "WARNING: You are using a MANO model, with only 10 shape coefficients.\n",
      "WARNING: You are using a MANO model, with only 10 shape coefficients.\n"
     ]
    },
    {
     "name": "stderr",
     "output_type": "stream",
     "text": [
      " 58%|█████▊    | 61/106 [01:41<01:23,  1.85s/it]"
     ]
    },
    {
     "name": "stdout",
     "output_type": "stream",
     "text": [
      "Processed /home/erik/ethz/digital-humans/dex-hoi/data_preprocessing/grab_preprocessing/data/grab_unzipped/grab/s5/binoculars_see_1.npz and saved to /home/erik/ethz/digital-humans/dex-hoi/data_preprocessing/grab_preprocessing/data/grab_preprocessed/s5_binoculars_see_1\n"
     ]
    },
    {
     "name": "stderr",
     "output_type": "stream",
     "text": [
      " 58%|█████▊    | 62/106 [01:42<01:11,  1.62s/it]"
     ]
    },
    {
     "name": "stdout",
     "output_type": "stream",
     "text": [
      "WARNING: You are using a MANO model, with only 10 shape coefficients.\n",
      "WARNING: You are using a MANO model, with only 10 shape coefficients.\n",
      "Processed /home/erik/ethz/digital-humans/dex-hoi/data_preprocessing/grab_preprocessing/data/grab_unzipped/grab/s5/duck_pass_1.npz and saved to /home/erik/ethz/digital-humans/dex-hoi/data_preprocessing/grab_preprocessing/data/grab_preprocessed/s5_duck_pass_1\n",
      "WARNING: You are using a MANO model, with only 10 shape coefficients.\n",
      "WARNING: You are using a MANO model, with only 10 shape coefficients.\n"
     ]
    },
    {
     "name": "stderr",
     "output_type": "stream",
     "text": [
      " 59%|█████▉    | 63/106 [01:43<01:04,  1.51s/it]"
     ]
    },
    {
     "name": "stdout",
     "output_type": "stream",
     "text": [
      "Processed /home/erik/ethz/digital-humans/dex-hoi/data_preprocessing/grab_preprocessing/data/grab_unzipped/grab/s5/camera_takepicture_3.npz and saved to /home/erik/ethz/digital-humans/dex-hoi/data_preprocessing/grab_preprocessing/data/grab_preprocessed/s5_camera_takepicture_3\n",
      "WARNING: You are using a MANO model, with only 10 shape coefficients.\n",
      "WARNING: You are using a MANO model, with only 10 shape coefficients.\n"
     ]
    },
    {
     "name": "stderr",
     "output_type": "stream",
     "text": [
      " 60%|██████    | 64/106 [01:44<00:58,  1.39s/it]"
     ]
    },
    {
     "name": "stdout",
     "output_type": "stream",
     "text": [
      "Processed /home/erik/ethz/digital-humans/dex-hoi/data_preprocessing/grab_preprocessing/data/grab_unzipped/grab/s5/watch_pass_1.npz and saved to /home/erik/ethz/digital-humans/dex-hoi/data_preprocessing/grab_preprocessing/data/grab_preprocessed/s5_watch_pass_1\n",
      "WARNING: You are using a MANO model, with only 10 shape coefficients.\n",
      "WARNING: You are using a MANO model, with only 10 shape coefficients.\n"
     ]
    },
    {
     "name": "stderr",
     "output_type": "stream",
     "text": [
      " 61%|██████▏   | 65/106 [01:46<00:56,  1.37s/it]"
     ]
    },
    {
     "name": "stdout",
     "output_type": "stream",
     "text": [
      "Processed /home/erik/ethz/digital-humans/dex-hoi/data_preprocessing/grab_preprocessing/data/grab_unzipped/grab/s5/pyramidlarge_pass_1.npz and saved to /home/erik/ethz/digital-humans/dex-hoi/data_preprocessing/grab_preprocessing/data/grab_preprocessed/s5_pyramidlarge_pass_1\n",
      "WARNING: You are using a MANO model, with only 10 shape coefficients.\n",
      "WARNING: You are using a MANO model, with only 10 shape coefficients.\n"
     ]
    },
    {
     "name": "stderr",
     "output_type": "stream",
     "text": [
      " 62%|██████▏   | 66/106 [01:47<00:55,  1.39s/it]"
     ]
    },
    {
     "name": "stdout",
     "output_type": "stream",
     "text": [
      "Processed /home/erik/ethz/digital-humans/dex-hoi/data_preprocessing/grab_preprocessing/data/grab_unzipped/grab/s5/cylinderlarge_inspect_1.npz and saved to /home/erik/ethz/digital-humans/dex-hoi/data_preprocessing/grab_preprocessing/data/grab_preprocessed/s5_cylinderlarge_inspect_1\n",
      "WARNING: You are using a MANO model, with only 10 shape coefficients.\n",
      "WARNING: You are using a MANO model, with only 10 shape coefficients.\n"
     ]
    },
    {
     "name": "stderr",
     "output_type": "stream",
     "text": [
      " 63%|██████▎   | 67/106 [01:49<01:03,  1.63s/it]"
     ]
    },
    {
     "name": "stdout",
     "output_type": "stream",
     "text": [
      "Processed /home/erik/ethz/digital-humans/dex-hoi/data_preprocessing/grab_preprocessing/data/grab_unzipped/grab/s5/toruslarge_lift.npz and saved to /home/erik/ethz/digital-humans/dex-hoi/data_preprocessing/grab_preprocessing/data/grab_preprocessed/s5_toruslarge_lift\n",
      "WARNING: You are using a MANO model, with only 10 shape coefficients.\n",
      "WARNING: You are using a MANO model, with only 10 shape coefficients.\n"
     ]
    },
    {
     "name": "stderr",
     "output_type": "stream",
     "text": [
      " 64%|██████▍   | 68/106 [01:51<00:58,  1.53s/it]"
     ]
    },
    {
     "name": "stdout",
     "output_type": "stream",
     "text": [
      "Processed /home/erik/ethz/digital-humans/dex-hoi/data_preprocessing/grab_preprocessing/data/grab_unzipped/grab/s5/piggybank_use_1.npz and saved to /home/erik/ethz/digital-humans/dex-hoi/data_preprocessing/grab_preprocessing/data/grab_preprocessed/s5_piggybank_use_1\n",
      "WARNING: You are using a MANO model, with only 10 shape coefficients.\n",
      "WARNING: You are using a MANO model, with only 10 shape coefficients.\n"
     ]
    },
    {
     "name": "stderr",
     "output_type": "stream",
     "text": [
      " 65%|██████▌   | 69/106 [01:53<01:08,  1.84s/it]"
     ]
    },
    {
     "name": "stdout",
     "output_type": "stream",
     "text": [
      "Processed /home/erik/ethz/digital-humans/dex-hoi/data_preprocessing/grab_preprocessing/data/grab_unzipped/grab/s5/binoculars_lift.npz and saved to /home/erik/ethz/digital-humans/dex-hoi/data_preprocessing/grab_preprocessing/data/grab_preprocessed/s5_binoculars_lift\n",
      "WARNING: You are using a MANO model, with only 10 shape coefficients.\n",
      "WARNING: You are using a MANO model, with only 10 shape coefficients.\n"
     ]
    },
    {
     "name": "stderr",
     "output_type": "stream",
     "text": [
      " 66%|██████▌   | 70/106 [01:54<01:00,  1.68s/it]"
     ]
    },
    {
     "name": "stdout",
     "output_type": "stream",
     "text": [
      "Processed /home/erik/ethz/digital-humans/dex-hoi/data_preprocessing/grab_preprocessing/data/grab_unzipped/grab/s5/train_play_1.npz and saved to /home/erik/ethz/digital-humans/dex-hoi/data_preprocessing/grab_preprocessing/data/grab_preprocessed/s5_train_play_1\n",
      "WARNING: You are using a MANO model, with only 10 shape coefficients.\n",
      "WARNING: You are using a MANO model, with only 10 shape coefficients.\n"
     ]
    },
    {
     "name": "stderr",
     "output_type": "stream",
     "text": [
      " 67%|██████▋   | 71/106 [01:56<00:55,  1.57s/it]"
     ]
    },
    {
     "name": "stdout",
     "output_type": "stream",
     "text": [
      "Processed /home/erik/ethz/digital-humans/dex-hoi/data_preprocessing/grab_preprocessing/data/grab_unzipped/grab/s5/bowl_pass_1.npz and saved to /home/erik/ethz/digital-humans/dex-hoi/data_preprocessing/grab_preprocessing/data/grab_preprocessed/s5_bowl_pass_1\n",
      "WARNING: You are using a MANO model, with only 10 shape coefficients.\n",
      "WARNING: You are using a MANO model, with only 10 shape coefficients.\n"
     ]
    },
    {
     "name": "stderr",
     "output_type": "stream",
     "text": [
      " 68%|██████▊   | 72/106 [01:57<00:49,  1.44s/it]"
     ]
    },
    {
     "name": "stdout",
     "output_type": "stream",
     "text": [
      "Processed /home/erik/ethz/digital-humans/dex-hoi/data_preprocessing/grab_preprocessing/data/grab_unzipped/grab/s5/phone_pass_1.npz and saved to /home/erik/ethz/digital-humans/dex-hoi/data_preprocessing/grab_preprocessing/data/grab_preprocessed/s5_phone_pass_1\n"
     ]
    },
    {
     "name": "stderr",
     "output_type": "stream",
     "text": [
      " 69%|██████▉   | 73/106 [01:58<00:44,  1.34s/it]"
     ]
    },
    {
     "name": "stdout",
     "output_type": "stream",
     "text": [
      "WARNING: You are using a MANO model, with only 10 shape coefficients.\n",
      "WARNING: You are using a MANO model, with only 10 shape coefficients.\n",
      "Processed /home/erik/ethz/digital-humans/dex-hoi/data_preprocessing/grab_preprocessing/data/grab_unzipped/grab/s5/wineglass_toast_1.npz and saved to /home/erik/ethz/digital-humans/dex-hoi/data_preprocessing/grab_preprocessing/data/grab_preprocessed/s5_wineglass_toast_1\n",
      "WARNING: You are using a MANO model, with only 10 shape coefficients.\n",
      "WARNING: You are using a MANO model, with only 10 shape coefficients.\n"
     ]
    },
    {
     "name": "stderr",
     "output_type": "stream",
     "text": [
      " 70%|██████▉   | 74/106 [01:59<00:41,  1.30s/it]"
     ]
    },
    {
     "name": "stdout",
     "output_type": "stream",
     "text": [
      "Processed /home/erik/ethz/digital-humans/dex-hoi/data_preprocessing/grab_preprocessing/data/grab_unzipped/grab/s5/wineglass_pass_1.npz and saved to /home/erik/ethz/digital-humans/dex-hoi/data_preprocessing/grab_preprocessing/data/grab_preprocessed/s5_wineglass_pass_1\n",
      "WARNING: You are using a MANO model, with only 10 shape coefficients.\n",
      "WARNING: You are using a MANO model, with only 10 shape coefficients.\n"
     ]
    },
    {
     "name": "stderr",
     "output_type": "stream",
     "text": [
      " 71%|███████   | 75/106 [02:00<00:40,  1.30s/it]"
     ]
    },
    {
     "name": "stdout",
     "output_type": "stream",
     "text": [
      "Processed /home/erik/ethz/digital-humans/dex-hoi/data_preprocessing/grab_preprocessing/data/grab_unzipped/grab/s5/wineglass_drink_2.npz and saved to /home/erik/ethz/digital-humans/dex-hoi/data_preprocessing/grab_preprocessing/data/grab_preprocessed/s5_wineglass_drink_2\n",
      "WARNING: You are using a MANO model, with only 10 shape coefficients.\n",
      "WARNING: You are using a MANO model, with only 10 shape coefficients.\n"
     ]
    },
    {
     "name": "stderr",
     "output_type": "stream",
     "text": [
      " 72%|███████▏  | 76/106 [02:02<00:38,  1.28s/it]"
     ]
    },
    {
     "name": "stdout",
     "output_type": "stream",
     "text": [
      "Processed /home/erik/ethz/digital-humans/dex-hoi/data_preprocessing/grab_preprocessing/data/grab_unzipped/grab/s5/gamecontroller_play_1.npz and saved to /home/erik/ethz/digital-humans/dex-hoi/data_preprocessing/grab_preprocessing/data/grab_preprocessed/s5_gamecontroller_play_1\n"
     ]
    },
    {
     "name": "stderr",
     "output_type": "stream",
     "text": [
      " 73%|███████▎  | 77/106 [02:03<00:35,  1.23s/it]"
     ]
    },
    {
     "name": "stdout",
     "output_type": "stream",
     "text": [
      "WARNING: You are using a MANO model, with only 10 shape coefficients.\n",
      "WARNING: You are using a MANO model, with only 10 shape coefficients.\n",
      "Processed /home/erik/ethz/digital-humans/dex-hoi/data_preprocessing/grab_preprocessing/data/grab_unzipped/grab/s5/cylindersmall_pass_1.npz and saved to /home/erik/ethz/digital-humans/dex-hoi/data_preprocessing/grab_preprocessing/data/grab_preprocessed/s5_cylindersmall_pass_1\n",
      "WARNING: You are using a MANO model, with only 10 shape coefficients.\n",
      "WARNING: You are using a MANO model, with only 10 shape coefficients.\n"
     ]
    },
    {
     "name": "stderr",
     "output_type": "stream",
     "text": [
      " 74%|███████▎  | 78/106 [02:05<00:44,  1.57s/it]"
     ]
    },
    {
     "name": "stdout",
     "output_type": "stream",
     "text": [
      "Processed /home/erik/ethz/digital-humans/dex-hoi/data_preprocessing/grab_preprocessing/data/grab_unzipped/grab/s5/spheremedium_lift.npz and saved to /home/erik/ethz/digital-humans/dex-hoi/data_preprocessing/grab_preprocessing/data/grab_preprocessed/s5_spheremedium_lift\n",
      "WARNING: You are using a MANO model, with only 10 shape coefficients.\n",
      "WARNING: You are using a MANO model, with only 10 shape coefficients.\n",
      "Processed /home/erik/ethz/digital-humans/dex-hoi/data_preprocessing/grab_preprocessing/data/grab_unzipped/grab/s5/stapler_pass_1.npz and saved to /home/erik/ethz/digital-humans/dex-hoi/data_preprocessing/grab_preprocessing/data/grab_preprocessed/s5_stapler_pass_1\n"
     ]
    },
    {
     "name": "stderr",
     "output_type": "stream",
     "text": [
      " 75%|███████▌  | 80/106 [02:07<00:34,  1.34s/it]"
     ]
    },
    {
     "name": "stdout",
     "output_type": "stream",
     "text": [
      "WARNING: You are using a MANO model, with only 10 shape coefficients.\n",
      "WARNING: You are using a MANO model, with only 10 shape coefficients.\n",
      "Processed /home/erik/ethz/digital-humans/dex-hoi/data_preprocessing/grab_preprocessing/data/grab_unzipped/grab/s5/stanfordbunny_pass_1.npz and saved to /home/erik/ethz/digital-humans/dex-hoi/data_preprocessing/grab_preprocessing/data/grab_preprocessed/s5_stanfordbunny_pass_1\n",
      "WARNING: You are using a MANO model, with only 10 shape coefficients.\n",
      "WARNING: You are using a MANO model, with only 10 shape coefficients.\n"
     ]
    },
    {
     "name": "stderr",
     "output_type": "stream",
     "text": [
      " 76%|███████▋  | 81/106 [02:09<00:32,  1.31s/it]"
     ]
    },
    {
     "name": "stdout",
     "output_type": "stream",
     "text": [
      "Processed /home/erik/ethz/digital-humans/dex-hoi/data_preprocessing/grab_preprocessing/data/grab_unzipped/grab/s5/cubemedium_pass_1.npz and saved to /home/erik/ethz/digital-humans/dex-hoi/data_preprocessing/grab_preprocessing/data/grab_preprocessed/s5_cubemedium_pass_1\n"
     ]
    },
    {
     "name": "stderr",
     "output_type": "stream",
     "text": [
      " 77%|███████▋  | 82/106 [02:10<00:29,  1.23s/it]"
     ]
    },
    {
     "name": "stdout",
     "output_type": "stream",
     "text": [
      "WARNING: You are using a MANO model, with only 10 shape coefficients.\n",
      "WARNING: You are using a MANO model, with only 10 shape coefficients.\n",
      "Processed /home/erik/ethz/digital-humans/dex-hoi/data_preprocessing/grab_preprocessing/data/grab_unzipped/grab/s5/mouse_pass_1.npz and saved to /home/erik/ethz/digital-humans/dex-hoi/data_preprocessing/grab_preprocessing/data/grab_preprocessed/s5_mouse_pass_1\n",
      "WARNING: You are using a MANO model, with only 10 shape coefficients.\n",
      "WARNING: You are using a MANO model, with only 10 shape coefficients.\n"
     ]
    },
    {
     "name": "stderr",
     "output_type": "stream",
     "text": [
      " 78%|███████▊  | 83/106 [02:11<00:29,  1.28s/it]"
     ]
    },
    {
     "name": "stdout",
     "output_type": "stream",
     "text": [
      "Processed /home/erik/ethz/digital-humans/dex-hoi/data_preprocessing/grab_preprocessing/data/grab_unzipped/grab/s5/stanfordbunny_inspect_1.npz and saved to /home/erik/ethz/digital-humans/dex-hoi/data_preprocessing/grab_preprocessing/data/grab_preprocessed/s5_stanfordbunny_inspect_1\n",
      "WARNING: You are using a MANO model, with only 10 shape coefficients.\n",
      "WARNING: You are using a MANO model, with only 10 shape coefficients.\n"
     ]
    },
    {
     "name": "stderr",
     "output_type": "stream",
     "text": [
      " 79%|███████▉  | 84/106 [02:12<00:28,  1.27s/it]"
     ]
    },
    {
     "name": "stdout",
     "output_type": "stream",
     "text": [
      "Processed /home/erik/ethz/digital-humans/dex-hoi/data_preprocessing/grab_preprocessing/data/grab_unzipped/grab/s5/hammer_use_1.npz and saved to /home/erik/ethz/digital-humans/dex-hoi/data_preprocessing/grab_preprocessing/data/grab_preprocessed/s5_hammer_use_1\n",
      "WARNING: You are using a MANO model, with only 10 shape coefficients.\n",
      "WARNING: You are using a MANO model, with only 10 shape coefficients.\n"
     ]
    },
    {
     "name": "stderr",
     "output_type": "stream",
     "text": [
      " 80%|████████  | 85/106 [02:14<00:26,  1.24s/it]"
     ]
    },
    {
     "name": "stdout",
     "output_type": "stream",
     "text": [
      "Processed /home/erik/ethz/digital-humans/dex-hoi/data_preprocessing/grab_preprocessing/data/grab_unzipped/grab/s5/mug_pass_1.npz and saved to /home/erik/ethz/digital-humans/dex-hoi/data_preprocessing/grab_preprocessing/data/grab_preprocessed/s5_mug_pass_1\n",
      "WARNING: You are using a MANO model, with only 10 shape coefficients.\n",
      "WARNING: You are using a MANO model, with only 10 shape coefficients.\n"
     ]
    },
    {
     "name": "stderr",
     "output_type": "stream",
     "text": [
      " 81%|████████  | 86/106 [02:15<00:25,  1.26s/it]"
     ]
    },
    {
     "name": "stdout",
     "output_type": "stream",
     "text": [
      "Processed /home/erik/ethz/digital-humans/dex-hoi/data_preprocessing/grab_preprocessing/data/grab_unzipped/grab/s5/waterbottle_shake_1.npz and saved to /home/erik/ethz/digital-humans/dex-hoi/data_preprocessing/grab_preprocessing/data/grab_preprocessed/s5_waterbottle_shake_1\n",
      "WARNING: You are using a MANO model, with only 10 shape coefficients.\n",
      "WARNING: You are using a MANO model, with only 10 shape coefficients.\n"
     ]
    },
    {
     "name": "stderr",
     "output_type": "stream",
     "text": [
      " 82%|████████▏ | 87/106 [02:16<00:23,  1.23s/it]"
     ]
    },
    {
     "name": "stdout",
     "output_type": "stream",
     "text": [
      "Processed /home/erik/ethz/digital-humans/dex-hoi/data_preprocessing/grab_preprocessing/data/grab_unzipped/grab/s5/mug_drink_1.npz and saved to /home/erik/ethz/digital-humans/dex-hoi/data_preprocessing/grab_preprocessing/data/grab_preprocessed/s5_mug_drink_1\n",
      "WARNING: You are using a MANO model, with only 10 shape coefficients.\n",
      "WARNING: You are using a MANO model, with only 10 shape coefficients.\n"
     ]
    },
    {
     "name": "stderr",
     "output_type": "stream",
     "text": [
      " 83%|████████▎ | 88/106 [02:18<00:23,  1.32s/it]"
     ]
    },
    {
     "name": "stdout",
     "output_type": "stream",
     "text": [
      "Processed /home/erik/ethz/digital-humans/dex-hoi/data_preprocessing/grab_preprocessing/data/grab_unzipped/grab/s5/elephant_inspect_1.npz and saved to /home/erik/ethz/digital-humans/dex-hoi/data_preprocessing/grab_preprocessing/data/grab_preprocessed/s5_elephant_inspect_1\n",
      "WARNING: You are using a MANO model, with only 10 shape coefficients.\n",
      "WARNING: You are using a MANO model, with only 10 shape coefficients.\n"
     ]
    },
    {
     "name": "stderr",
     "output_type": "stream",
     "text": [
      " 84%|████████▍ | 89/106 [02:20<00:30,  1.81s/it]"
     ]
    },
    {
     "name": "stdout",
     "output_type": "stream",
     "text": [
      "Processed /home/erik/ethz/digital-humans/dex-hoi/data_preprocessing/grab_preprocessing/data/grab_unzipped/grab/s5/mouse_lift.npz and saved to /home/erik/ethz/digital-humans/dex-hoi/data_preprocessing/grab_preprocessing/data/grab_preprocessed/s5_mouse_lift\n",
      "WARNING: You are using a MANO model, with only 10 shape coefficients.\n",
      "WARNING: You are using a MANO model, with only 10 shape coefficients.\n"
     ]
    },
    {
     "name": "stderr",
     "output_type": "stream",
     "text": [
      " 85%|████████▍ | 90/106 [02:22<00:27,  1.73s/it]"
     ]
    },
    {
     "name": "stdout",
     "output_type": "stream",
     "text": [
      "Processed /home/erik/ethz/digital-humans/dex-hoi/data_preprocessing/grab_preprocessing/data/grab_unzipped/grab/s5/cubesmall_inspect_1.npz and saved to /home/erik/ethz/digital-humans/dex-hoi/data_preprocessing/grab_preprocessing/data/grab_preprocessed/s5_cubesmall_inspect_1\n",
      "WARNING: You are using a MANO model, with only 10 shape coefficients.\n",
      "WARNING: You are using a MANO model, with only 10 shape coefficients.\n"
     ]
    },
    {
     "name": "stderr",
     "output_type": "stream",
     "text": [
      " 86%|████████▌ | 91/106 [02:24<00:24,  1.66s/it]"
     ]
    },
    {
     "name": "stdout",
     "output_type": "stream",
     "text": [
      "Processed /home/erik/ethz/digital-humans/dex-hoi/data_preprocessing/grab_preprocessing/data/grab_unzipped/grab/s5/duck_inspect_1.npz and saved to /home/erik/ethz/digital-humans/dex-hoi/data_preprocessing/grab_preprocessing/data/grab_preprocessed/s5_duck_inspect_1\n",
      "WARNING: You are using a MANO model, with only 10 shape coefficients.\n",
      "WARNING: You are using a MANO model, with only 10 shape coefficients.\n"
     ]
    },
    {
     "name": "stderr",
     "output_type": "stream",
     "text": [
      " 87%|████████▋ | 92/106 [02:25<00:21,  1.57s/it]"
     ]
    },
    {
     "name": "stdout",
     "output_type": "stream",
     "text": [
      "Processed /home/erik/ethz/digital-humans/dex-hoi/data_preprocessing/grab_preprocessing/data/grab_unzipped/grab/s5/spherelarge_inspect_1.npz and saved to /home/erik/ethz/digital-humans/dex-hoi/data_preprocessing/grab_preprocessing/data/grab_preprocessed/s5_spherelarge_inspect_1\n",
      "WARNING: You are using a MANO model, with only 10 shape coefficients.\n",
      "WARNING: You are using a MANO model, with only 10 shape coefficients.\n"
     ]
    },
    {
     "name": "stderr",
     "output_type": "stream",
     "text": [
      " 88%|████████▊ | 93/106 [02:26<00:18,  1.44s/it]"
     ]
    },
    {
     "name": "stdout",
     "output_type": "stream",
     "text": [
      "Processed /home/erik/ethz/digital-humans/dex-hoi/data_preprocessing/grab_preprocessing/data/grab_unzipped/grab/s5/torusmedium_pass_1.npz and saved to /home/erik/ethz/digital-humans/dex-hoi/data_preprocessing/grab_preprocessing/data/grab_preprocessed/s5_torusmedium_pass_1\n",
      "WARNING: You are using a MANO model, with only 10 shape coefficients.\n",
      "WARNING: You are using a MANO model, with only 10 shape coefficients.\n"
     ]
    },
    {
     "name": "stderr",
     "output_type": "stream",
     "text": [
      " 89%|████████▊ | 94/106 [02:27<00:16,  1.36s/it]"
     ]
    },
    {
     "name": "stdout",
     "output_type": "stream",
     "text": [
      "Processed /home/erik/ethz/digital-humans/dex-hoi/data_preprocessing/grab_preprocessing/data/grab_unzipped/grab/s5/banana_pass_1.npz and saved to /home/erik/ethz/digital-humans/dex-hoi/data_preprocessing/grab_preprocessing/data/grab_preprocessed/s5_banana_pass_1\n",
      "WARNING: You are using a MANO model, with only 10 shape coefficients.\n",
      "WARNING: You are using a MANO model, with only 10 shape coefficients.\n"
     ]
    },
    {
     "name": "stderr",
     "output_type": "stream",
     "text": [
      " 90%|████████▉ | 95/106 [02:30<00:19,  1.73s/it]"
     ]
    },
    {
     "name": "stdout",
     "output_type": "stream",
     "text": [
      "Processed /home/erik/ethz/digital-humans/dex-hoi/data_preprocessing/grab_preprocessing/data/grab_unzipped/grab/s5/cubemedium_lift.npz and saved to /home/erik/ethz/digital-humans/dex-hoi/data_preprocessing/grab_preprocessing/data/grab_preprocessed/s5_cubemedium_lift\n"
     ]
    },
    {
     "name": "stderr",
     "output_type": "stream",
     "text": [
      " 91%|█████████ | 96/106 [02:31<00:15,  1.56s/it]"
     ]
    },
    {
     "name": "stdout",
     "output_type": "stream",
     "text": [
      "WARNING: You are using a MANO model, with only 10 shape coefficients.\n",
      "WARNING: You are using a MANO model, with only 10 shape coefficients.\n",
      "Processed /home/erik/ethz/digital-humans/dex-hoi/data_preprocessing/grab_preprocessing/data/grab_unzipped/grab/s5/toruslarge_pass_1.npz and saved to /home/erik/ethz/digital-humans/dex-hoi/data_preprocessing/grab_preprocessing/data/grab_preprocessed/s5_toruslarge_pass_1\n",
      "WARNING: You are using a MANO model, with only 10 shape coefficients.\n",
      "WARNING: You are using a MANO model, with only 10 shape coefficients.\n"
     ]
    },
    {
     "name": "stderr",
     "output_type": "stream",
     "text": [
      " 92%|█████████▏| 97/106 [02:32<00:13,  1.56s/it]"
     ]
    },
    {
     "name": "stdout",
     "output_type": "stream",
     "text": [
      "Processed /home/erik/ethz/digital-humans/dex-hoi/data_preprocessing/grab_preprocessing/data/grab_unzipped/grab/s5/cubemedium_inspect_1.npz and saved to /home/erik/ethz/digital-humans/dex-hoi/data_preprocessing/grab_preprocessing/data/grab_preprocessed/s5_cubemedium_inspect_1\n",
      "WARNING: You are using a MANO model, with only 10 shape coefficients.\n",
      "WARNING: You are using a MANO model, with only 10 shape coefficients.\n"
     ]
    },
    {
     "name": "stderr",
     "output_type": "stream",
     "text": [
      " 92%|█████████▏| 98/106 [02:34<00:12,  1.51s/it]"
     ]
    },
    {
     "name": "stdout",
     "output_type": "stream",
     "text": [
      "Processed /home/erik/ethz/digital-humans/dex-hoi/data_preprocessing/grab_preprocessing/data/grab_unzipped/grab/s5/flute_play_2.npz and saved to /home/erik/ethz/digital-humans/dex-hoi/data_preprocessing/grab_preprocessing/data/grab_preprocessed/s5_flute_play_2\n",
      "WARNING: You are using a MANO model, with only 10 shape coefficients.\n",
      "WARNING: You are using a MANO model, with only 10 shape coefficients.\n"
     ]
    },
    {
     "name": "stderr",
     "output_type": "stream",
     "text": [
      " 93%|█████████▎| 99/106 [02:35<00:10,  1.46s/it]"
     ]
    },
    {
     "name": "stdout",
     "output_type": "stream",
     "text": [
      "Processed /home/erik/ethz/digital-humans/dex-hoi/data_preprocessing/grab_preprocessing/data/grab_unzipped/grab/s5/cup_drink_2.npz and saved to /home/erik/ethz/digital-humans/dex-hoi/data_preprocessing/grab_preprocessing/data/grab_preprocessed/s5_cup_drink_2\n",
      "WARNING: You are using a MANO model, with only 10 shape coefficients.\n",
      "WARNING: You are using a MANO model, with only 10 shape coefficients.\n"
     ]
    },
    {
     "name": "stderr",
     "output_type": "stream",
     "text": [
      " 94%|█████████▍| 100/106 [02:36<00:08,  1.37s/it]"
     ]
    },
    {
     "name": "stdout",
     "output_type": "stream",
     "text": [
      "Processed /home/erik/ethz/digital-humans/dex-hoi/data_preprocessing/grab_preprocessing/data/grab_unzipped/grab/s5/cup_pour_1.npz and saved to /home/erik/ethz/digital-humans/dex-hoi/data_preprocessing/grab_preprocessing/data/grab_preprocessed/s5_cup_pour_1\n",
      "WARNING: You are using a MANO model, with only 10 shape coefficients.\n",
      "WARNING: You are using a MANO model, with only 10 shape coefficients.\n"
     ]
    },
    {
     "name": "stderr",
     "output_type": "stream",
     "text": [
      " 95%|█████████▌| 101/106 [02:38<00:06,  1.33s/it]"
     ]
    },
    {
     "name": "stdout",
     "output_type": "stream",
     "text": [
      "Processed /home/erik/ethz/digital-humans/dex-hoi/data_preprocessing/grab_preprocessing/data/grab_unzipped/grab/s5/hammer_pass_1.npz and saved to /home/erik/ethz/digital-humans/dex-hoi/data_preprocessing/grab_preprocessing/data/grab_preprocessed/s5_hammer_pass_1\n",
      "WARNING: You are using a MANO model, with only 10 shape coefficients.\n",
      "WARNING: You are using a MANO model, with only 10 shape coefficients.\n"
     ]
    },
    {
     "name": "stderr",
     "output_type": "stream",
     "text": [
      " 96%|█████████▌| 102/106 [02:39<00:05,  1.28s/it]"
     ]
    },
    {
     "name": "stdout",
     "output_type": "stream",
     "text": [
      "Processed /home/erik/ethz/digital-humans/dex-hoi/data_preprocessing/grab_preprocessing/data/grab_unzipped/grab/s5/airplane_pass_1.npz and saved to /home/erik/ethz/digital-humans/dex-hoi/data_preprocessing/grab_preprocessing/data/grab_preprocessed/s5_airplane_pass_1\n"
     ]
    },
    {
     "name": "stderr",
     "output_type": "stream",
     "text": [
      " 97%|█████████▋| 103/106 [02:40<00:03,  1.24s/it]"
     ]
    },
    {
     "name": "stdout",
     "output_type": "stream",
     "text": [
      "WARNING: You are using a MANO model, with only 10 shape coefficients.\n",
      "WARNING: You are using a MANO model, with only 10 shape coefficients.\n",
      "Processed /home/erik/ethz/digital-humans/dex-hoi/data_preprocessing/grab_preprocessing/data/grab_unzipped/grab/s5/binoculars_pass_1.npz and saved to /home/erik/ethz/digital-humans/dex-hoi/data_preprocessing/grab_preprocessing/data/grab_preprocessed/s5_binoculars_pass_1\n",
      "WARNING: You are using a MANO model, with only 10 shape coefficients.\n",
      "WARNING: You are using a MANO model, with only 10 shape coefficients.\n"
     ]
    },
    {
     "name": "stderr",
     "output_type": "stream",
     "text": [
      " 98%|█████████▊| 104/106 [02:42<00:03,  1.58s/it]"
     ]
    },
    {
     "name": "stdout",
     "output_type": "stream",
     "text": [
      "Processed /home/erik/ethz/digital-humans/dex-hoi/data_preprocessing/grab_preprocessing/data/grab_unzipped/grab/s5/wineglass_lift.npz and saved to /home/erik/ethz/digital-humans/dex-hoi/data_preprocessing/grab_preprocessing/data/grab_preprocessed/s5_wineglass_lift\n",
      "WARNING: You are using a MANO model, with only 10 shape coefficients.\n",
      "WARNING: You are using a MANO model, with only 10 shape coefficients.\n"
     ]
    },
    {
     "name": "stderr",
     "output_type": "stream",
     "text": [
      " 99%|█████████▉| 105/106 [02:44<00:01,  1.49s/it]"
     ]
    },
    {
     "name": "stdout",
     "output_type": "stream",
     "text": [
      "Processed /home/erik/ethz/digital-humans/dex-hoi/data_preprocessing/grab_preprocessing/data/grab_unzipped/grab/s5/spheremedium_inspect_1.npz and saved to /home/erik/ethz/digital-humans/dex-hoi/data_preprocessing/grab_preprocessing/data/grab_preprocessed/s5_spheremedium_inspect_1\n",
      "WARNING: You are using a MANO model, with only 10 shape coefficients.\n",
      "WARNING: You are using a MANO model, with only 10 shape coefficients.\n"
     ]
    },
    {
     "name": "stderr",
     "output_type": "stream",
     "text": [
      "100%|██████████| 106/106 [02:46<00:00,  1.58s/it]\n"
     ]
    },
    {
     "name": "stdout",
     "output_type": "stream",
     "text": [
      "Processed /home/erik/ethz/digital-humans/dex-hoi/data_preprocessing/grab_preprocessing/data/grab_unzipped/grab/s5/airplane_lift.npz and saved to /home/erik/ethz/digital-humans/dex-hoi/data_preprocessing/grab_preprocessing/data/grab_preprocessed/s5_airplane_lift\n"
     ]
    },
    {
     "name": "stderr",
     "output_type": "stream",
     "text": [
      "  1%|          | 1/113 [00:01<02:10,  1.16s/it]"
     ]
    },
    {
     "name": "stdout",
     "output_type": "stream",
     "text": [
      "WARNING: You are using a MANO model, with only 10 shape coefficients.\n",
      "WARNING: You are using a MANO model, with only 10 shape coefficients.\n",
      "Processed /home/erik/ethz/digital-humans/dex-hoi/data_preprocessing/grab_preprocessing/data/grab_unzipped/grab/s4/stamp_pass_1.npz and saved to /home/erik/ethz/digital-humans/dex-hoi/data_preprocessing/grab_preprocessing/data/grab_preprocessed/s4_stamp_pass_1\n",
      "WARNING: You are using a MANO model, with only 10 shape coefficients.\n",
      "WARNING: You are using a MANO model, with only 10 shape coefficients.\n"
     ]
    },
    {
     "name": "stderr",
     "output_type": "stream",
     "text": [
      "  2%|▏         | 2/113 [00:03<03:48,  2.06s/it]"
     ]
    },
    {
     "name": "stdout",
     "output_type": "stream",
     "text": [
      "Processed /home/erik/ethz/digital-humans/dex-hoi/data_preprocessing/grab_preprocessing/data/grab_unzipped/grab/s4/cylinderlarge_lift.npz and saved to /home/erik/ethz/digital-humans/dex-hoi/data_preprocessing/grab_preprocessing/data/grab_preprocessed/s4_cylinderlarge_lift\n",
      "WARNING: You are using a MANO model, with only 10 shape coefficients.\n",
      "WARNING: You are using a MANO model, with only 10 shape coefficients.\n"
     ]
    },
    {
     "name": "stderr",
     "output_type": "stream",
     "text": [
      "  3%|▎         | 3/113 [00:05<03:03,  1.67s/it]"
     ]
    },
    {
     "name": "stdout",
     "output_type": "stream",
     "text": [
      "Processed /home/erik/ethz/digital-humans/dex-hoi/data_preprocessing/grab_preprocessing/data/grab_unzipped/grab/s4/stamp_stamp_1.npz and saved to /home/erik/ethz/digital-humans/dex-hoi/data_preprocessing/grab_preprocessing/data/grab_preprocessed/s4_stamp_stamp_1\n"
     ]
    },
    {
     "name": "stderr",
     "output_type": "stream",
     "text": [
      "  4%|▎         | 4/113 [00:06<02:36,  1.43s/it]"
     ]
    },
    {
     "name": "stdout",
     "output_type": "stream",
     "text": [
      "WARNING: You are using a MANO model, with only 10 shape coefficients.\n",
      "WARNING: You are using a MANO model, with only 10 shape coefficients.\n",
      "Processed /home/erik/ethz/digital-humans/dex-hoi/data_preprocessing/grab_preprocessing/data/grab_unzipped/grab/s4/pyramidmedium_pass_1.npz and saved to /home/erik/ethz/digital-humans/dex-hoi/data_preprocessing/grab_preprocessing/data/grab_preprocessed/s4_pyramidmedium_pass_1\n"
     ]
    },
    {
     "name": "stderr",
     "output_type": "stream",
     "text": [
      "  4%|▍         | 5/113 [00:07<02:20,  1.30s/it]"
     ]
    },
    {
     "name": "stdout",
     "output_type": "stream",
     "text": [
      "WARNING: You are using a MANO model, with only 10 shape coefficients.\n",
      "WARNING: You are using a MANO model, with only 10 shape coefficients.\n",
      "Processed /home/erik/ethz/digital-humans/dex-hoi/data_preprocessing/grab_preprocessing/data/grab_unzipped/grab/s4/alarmclock_pass_1.npz and saved to /home/erik/ethz/digital-humans/dex-hoi/data_preprocessing/grab_preprocessing/data/grab_preprocessed/s4_alarmclock_pass_1\n",
      "WARNING: You are using a MANO model, with only 10 shape coefficients.\n",
      "WARNING: You are using a MANO model, with only 10 shape coefficients.\n"
     ]
    },
    {
     "name": "stderr",
     "output_type": "stream",
     "text": [
      "  5%|▌         | 6/113 [00:08<02:31,  1.41s/it]"
     ]
    },
    {
     "name": "stdout",
     "output_type": "stream",
     "text": [
      "Processed /home/erik/ethz/digital-humans/dex-hoi/data_preprocessing/grab_preprocessing/data/grab_unzipped/grab/s4/airplane_fly_1.npz and saved to /home/erik/ethz/digital-humans/dex-hoi/data_preprocessing/grab_preprocessing/data/grab_preprocessed/s4_airplane_fly_1\n"
     ]
    },
    {
     "name": "stderr",
     "output_type": "stream",
     "text": [
      "  6%|▌         | 7/113 [00:09<02:17,  1.30s/it]"
     ]
    },
    {
     "name": "stdout",
     "output_type": "stream",
     "text": [
      "WARNING: You are using a MANO model, with only 10 shape coefficients.\n",
      "WARNING: You are using a MANO model, with only 10 shape coefficients.\n",
      "Processed /home/erik/ethz/digital-humans/dex-hoi/data_preprocessing/grab_preprocessing/data/grab_unzipped/grab/s4/fryingpan_pass_1.npz and saved to /home/erik/ethz/digital-humans/dex-hoi/data_preprocessing/grab_preprocessing/data/grab_preprocessed/s4_fryingpan_pass_1\n",
      "WARNING: You are using a MANO model, with only 10 shape coefficients.\n",
      "WARNING: You are using a MANO model, with only 10 shape coefficients.\n"
     ]
    },
    {
     "name": "stderr",
     "output_type": "stream",
     "text": [
      "  7%|▋         | 8/113 [00:11<02:16,  1.30s/it]"
     ]
    },
    {
     "name": "stdout",
     "output_type": "stream",
     "text": [
      "Processed /home/erik/ethz/digital-humans/dex-hoi/data_preprocessing/grab_preprocessing/data/grab_unzipped/grab/s4/waterbottle_drink_1.npz and saved to /home/erik/ethz/digital-humans/dex-hoi/data_preprocessing/grab_preprocessing/data/grab_preprocessed/s4_waterbottle_drink_1\n",
      "WARNING: You are using a MANO model, with only 10 shape coefficients.\n",
      "WARNING: You are using a MANO model, with only 10 shape coefficients.\n"
     ]
    },
    {
     "name": "stderr",
     "output_type": "stream",
     "text": [
      "  8%|▊         | 9/113 [00:13<02:39,  1.54s/it]"
     ]
    },
    {
     "name": "stdout",
     "output_type": "stream",
     "text": [
      "Processed /home/erik/ethz/digital-humans/dex-hoi/data_preprocessing/grab_preprocessing/data/grab_unzipped/grab/s4/spherelarge_lift.npz and saved to /home/erik/ethz/digital-humans/dex-hoi/data_preprocessing/grab_preprocessing/data/grab_preprocessed/s4_spherelarge_lift\n",
      "WARNING: You are using a MANO model, with only 10 shape coefficients.\n",
      "WARNING: You are using a MANO model, with only 10 shape coefficients.\n"
     ]
    },
    {
     "name": "stderr",
     "output_type": "stream",
     "text": [
      "  9%|▉         | 10/113 [00:16<03:41,  2.15s/it]"
     ]
    },
    {
     "name": "stdout",
     "output_type": "stream",
     "text": [
      "Processed /home/erik/ethz/digital-humans/dex-hoi/data_preprocessing/grab_preprocessing/data/grab_unzipped/grab/s4/cubelarge_lift.npz and saved to /home/erik/ethz/digital-humans/dex-hoi/data_preprocessing/grab_preprocessing/data/grab_preprocessed/s4_cubelarge_lift\n",
      "WARNING: You are using a MANO model, with only 10 shape coefficients.\n",
      "WARNING: You are using a MANO model, with only 10 shape coefficients.\n"
     ]
    },
    {
     "name": "stderr",
     "output_type": "stream",
     "text": [
      " 10%|▉         | 11/113 [00:17<03:06,  1.82s/it]"
     ]
    },
    {
     "name": "stdout",
     "output_type": "stream",
     "text": [
      "Processed /home/erik/ethz/digital-humans/dex-hoi/data_preprocessing/grab_preprocessing/data/grab_unzipped/grab/s4/scissors_pass_1.npz and saved to /home/erik/ethz/digital-humans/dex-hoi/data_preprocessing/grab_preprocessing/data/grab_preprocessed/s4_scissors_pass_1\n"
     ]
    },
    {
     "name": "stderr",
     "output_type": "stream",
     "text": [
      " 11%|█         | 12/113 [00:18<02:42,  1.60s/it]"
     ]
    },
    {
     "name": "stdout",
     "output_type": "stream",
     "text": [
      "WARNING: You are using a MANO model, with only 10 shape coefficients.\n",
      "WARNING: You are using a MANO model, with only 10 shape coefficients.\n",
      "Processed /home/erik/ethz/digital-humans/dex-hoi/data_preprocessing/grab_preprocessing/data/grab_unzipped/grab/s4/cup_pass_1.npz and saved to /home/erik/ethz/digital-humans/dex-hoi/data_preprocessing/grab_preprocessing/data/grab_preprocessed/s4_cup_pass_1\n",
      "WARNING: You are using a MANO model, with only 10 shape coefficients.\n",
      "WARNING: You are using a MANO model, with only 10 shape coefficients.\n"
     ]
    },
    {
     "name": "stderr",
     "output_type": "stream",
     "text": [
      " 12%|█▏        | 13/113 [00:20<02:27,  1.47s/it]"
     ]
    },
    {
     "name": "stdout",
     "output_type": "stream",
     "text": [
      "Processed /home/erik/ethz/digital-humans/dex-hoi/data_preprocessing/grab_preprocessing/data/grab_unzipped/grab/s4/wineglass_drink_1.npz and saved to /home/erik/ethz/digital-humans/dex-hoi/data_preprocessing/grab_preprocessing/data/grab_preprocessed/s4_wineglass_drink_1\n",
      "WARNING: You are using a MANO model, with only 10 shape coefficients.\n",
      "WARNING: You are using a MANO model, with only 10 shape coefficients.\n"
     ]
    },
    {
     "name": "stderr",
     "output_type": "stream",
     "text": [
      " 12%|█▏        | 14/113 [00:21<02:17,  1.39s/it]"
     ]
    },
    {
     "name": "stdout",
     "output_type": "stream",
     "text": [
      "Processed /home/erik/ethz/digital-humans/dex-hoi/data_preprocessing/grab_preprocessing/data/grab_unzipped/grab/s4/cubesmall_pass_1.npz and saved to /home/erik/ethz/digital-humans/dex-hoi/data_preprocessing/grab_preprocessing/data/grab_preprocessed/s4_cubesmall_pass_1\n"
     ]
    },
    {
     "name": "stderr",
     "output_type": "stream",
     "text": [
      " 13%|█▎        | 15/113 [00:22<02:08,  1.31s/it]"
     ]
    },
    {
     "name": "stdout",
     "output_type": "stream",
     "text": [
      "WARNING: You are using a MANO model, with only 10 shape coefficients.\n",
      "WARNING: You are using a MANO model, with only 10 shape coefficients.\n",
      "Processed /home/erik/ethz/digital-humans/dex-hoi/data_preprocessing/grab_preprocessing/data/grab_unzipped/grab/s4/apple_pass_1.npz and saved to /home/erik/ethz/digital-humans/dex-hoi/data_preprocessing/grab_preprocessing/data/grab_preprocessed/s4_apple_pass_1\n",
      "WARNING: You are using a MANO model, with only 10 shape coefficients.\n",
      "WARNING: You are using a MANO model, with only 10 shape coefficients.\n"
     ]
    },
    {
     "name": "stderr",
     "output_type": "stream",
     "text": [
      " 14%|█▍        | 16/113 [00:23<02:08,  1.33s/it]"
     ]
    },
    {
     "name": "stdout",
     "output_type": "stream",
     "text": [
      "Processed /home/erik/ethz/digital-humans/dex-hoi/data_preprocessing/grab_preprocessing/data/grab_unzipped/grab/s4/mouse_use_1.npz and saved to /home/erik/ethz/digital-humans/dex-hoi/data_preprocessing/grab_preprocessing/data/grab_preprocessed/s4_mouse_use_1\n",
      "WARNING: You are using a MANO model, with only 10 shape coefficients.\n",
      "WARNING: You are using a MANO model, with only 10 shape coefficients.\n"
     ]
    },
    {
     "name": "stderr",
     "output_type": "stream",
     "text": [
      " 15%|█▌        | 17/113 [00:25<02:31,  1.58s/it]"
     ]
    },
    {
     "name": "stdout",
     "output_type": "stream",
     "text": [
      "Processed /home/erik/ethz/digital-humans/dex-hoi/data_preprocessing/grab_preprocessing/data/grab_unzipped/grab/s4/cylindersmall_lift.npz and saved to /home/erik/ethz/digital-humans/dex-hoi/data_preprocessing/grab_preprocessing/data/grab_preprocessed/s4_cylindersmall_lift\n",
      "WARNING: You are using a MANO model, with only 10 shape coefficients.\n",
      "WARNING: You are using a MANO model, with only 10 shape coefficients.\n",
      "Processed /home/erik/ethz/digital-humans/dex-hoi/data_preprocessing/grab_preprocessing/data/grab_unzipped/grab/s4/cylinderlarge_pass_1.npz and saved to /home/erik/ethz/digital-humans/dex-hoi/data_preprocessing/grab_preprocessing/data/grab_preprocessed/s4_cylinderlarge_pass_1\n"
     ]
    },
    {
     "name": "stderr",
     "output_type": "stream",
     "text": [
      " 16%|█▌        | 18/113 [00:27<02:17,  1.44s/it]"
     ]
    },
    {
     "name": "stdout",
     "output_type": "stream",
     "text": [
      "WARNING: You are using a MANO model, with only 10 shape coefficients.\n",
      "WARNING: You are using a MANO model, with only 10 shape coefficients.\n"
     ]
    },
    {
     "name": "stderr",
     "output_type": "stream",
     "text": [
      " 17%|█▋        | 19/113 [00:29<02:35,  1.65s/it]"
     ]
    },
    {
     "name": "stdout",
     "output_type": "stream",
     "text": [
      "Processed /home/erik/ethz/digital-humans/dex-hoi/data_preprocessing/grab_preprocessing/data/grab_unzipped/grab/s4/cup_lift.npz and saved to /home/erik/ethz/digital-humans/dex-hoi/data_preprocessing/grab_preprocessing/data/grab_preprocessed/s4_cup_lift\n",
      "WARNING: You are using a MANO model, with only 10 shape coefficients.\n",
      "WARNING: You are using a MANO model, with only 10 shape coefficients.\n"
     ]
    },
    {
     "name": "stderr",
     "output_type": "stream",
     "text": [
      " 18%|█▊        | 20/113 [00:31<02:44,  1.77s/it]"
     ]
    },
    {
     "name": "stdout",
     "output_type": "stream",
     "text": [
      "Processed /home/erik/ethz/digital-humans/dex-hoi/data_preprocessing/grab_preprocessing/data/grab_unzipped/grab/s4/apple_lift.npz and saved to /home/erik/ethz/digital-humans/dex-hoi/data_preprocessing/grab_preprocessing/data/grab_preprocessed/s4_apple_lift\n"
     ]
    },
    {
     "name": "stderr",
     "output_type": "stream",
     "text": [
      " 19%|█▊        | 21/113 [00:32<02:22,  1.55s/it]"
     ]
    },
    {
     "name": "stdout",
     "output_type": "stream",
     "text": [
      "WARNING: You are using a MANO model, with only 10 shape coefficients.\n",
      "WARNING: You are using a MANO model, with only 10 shape coefficients.\n",
      "Processed /home/erik/ethz/digital-humans/dex-hoi/data_preprocessing/grab_preprocessing/data/grab_unzipped/grab/s4/spherelarge_pass_1.npz and saved to /home/erik/ethz/digital-humans/dex-hoi/data_preprocessing/grab_preprocessing/data/grab_preprocessed/s4_spherelarge_pass_1\n",
      "WARNING: You are using a MANO model, with only 10 shape coefficients.\n",
      "WARNING: You are using a MANO model, with only 10 shape coefficients.\n"
     ]
    },
    {
     "name": "stderr",
     "output_type": "stream",
     "text": [
      " 19%|█▉        | 22/113 [00:33<02:14,  1.48s/it]"
     ]
    },
    {
     "name": "stdout",
     "output_type": "stream",
     "text": [
      "Processed /home/erik/ethz/digital-humans/dex-hoi/data_preprocessing/grab_preprocessing/data/grab_unzipped/grab/s4/watch_set_2.npz and saved to /home/erik/ethz/digital-humans/dex-hoi/data_preprocessing/grab_preprocessing/data/grab_preprocessed/s4_watch_set_2\n",
      "WARNING: You are using a MANO model, with only 10 shape coefficients.\n",
      "WARNING: You are using a MANO model, with only 10 shape coefficients.\n"
     ]
    },
    {
     "name": "stderr",
     "output_type": "stream",
     "text": [
      " 20%|██        | 23/113 [00:35<02:13,  1.49s/it]"
     ]
    },
    {
     "name": "stdout",
     "output_type": "stream",
     "text": [
      "Processed /home/erik/ethz/digital-humans/dex-hoi/data_preprocessing/grab_preprocessing/data/grab_unzipped/grab/s4/cubelarge_inspect_1.npz and saved to /home/erik/ethz/digital-humans/dex-hoi/data_preprocessing/grab_preprocessing/data/grab_preprocessed/s4_cubelarge_inspect_1\n",
      "WARNING: You are using a MANO model, with only 10 shape coefficients.\n",
      "WARNING: You are using a MANO model, with only 10 shape coefficients.\n"
     ]
    },
    {
     "name": "stderr",
     "output_type": "stream",
     "text": [
      " 21%|██        | 24/113 [00:36<02:07,  1.43s/it]"
     ]
    },
    {
     "name": "stdout",
     "output_type": "stream",
     "text": [
      "Processed /home/erik/ethz/digital-humans/dex-hoi/data_preprocessing/grab_preprocessing/data/grab_unzipped/grab/s4/camera_takepicture_2.npz and saved to /home/erik/ethz/digital-humans/dex-hoi/data_preprocessing/grab_preprocessing/data/grab_preprocessed/s4_camera_takepicture_2\n",
      "WARNING: You are using a MANO model, with only 10 shape coefficients.\n",
      "WARNING: You are using a MANO model, with only 10 shape coefficients.\n"
     ]
    },
    {
     "name": "stderr",
     "output_type": "stream",
     "text": [
      " 22%|██▏       | 25/113 [00:37<02:04,  1.42s/it]"
     ]
    },
    {
     "name": "stdout",
     "output_type": "stream",
     "text": [
      "Processed /home/erik/ethz/digital-humans/dex-hoi/data_preprocessing/grab_preprocessing/data/grab_unzipped/grab/s4/bowl_drink_1.npz and saved to /home/erik/ethz/digital-humans/dex-hoi/data_preprocessing/grab_preprocessing/data/grab_preprocessed/s4_bowl_drink_1\n"
     ]
    },
    {
     "name": "stderr",
     "output_type": "stream",
     "text": [
      " 23%|██▎       | 26/113 [00:38<01:56,  1.34s/it]"
     ]
    },
    {
     "name": "stdout",
     "output_type": "stream",
     "text": [
      "WARNING: You are using a MANO model, with only 10 shape coefficients.\n",
      "WARNING: You are using a MANO model, with only 10 shape coefficients.\n",
      "Processed /home/erik/ethz/digital-humans/dex-hoi/data_preprocessing/grab_preprocessing/data/grab_unzipped/grab/s4/spheresmall_pass_1.npz and saved to /home/erik/ethz/digital-humans/dex-hoi/data_preprocessing/grab_preprocessing/data/grab_preprocessed/s4_spheresmall_pass_1\n",
      "WARNING: You are using a MANO model, with only 10 shape coefficients.\n",
      "WARNING: You are using a MANO model, with only 10 shape coefficients.\n"
     ]
    },
    {
     "name": "stderr",
     "output_type": "stream",
     "text": [
      " 24%|██▍       | 27/113 [00:41<02:13,  1.55s/it]"
     ]
    },
    {
     "name": "stdout",
     "output_type": "stream",
     "text": [
      "Processed /home/erik/ethz/digital-humans/dex-hoi/data_preprocessing/grab_preprocessing/data/grab_unzipped/grab/s4/alarmclock_lift.npz and saved to /home/erik/ethz/digital-humans/dex-hoi/data_preprocessing/grab_preprocessing/data/grab_preprocessed/s4_alarmclock_lift\n",
      "WARNING: You are using a MANO model, with only 10 shape coefficients.\n",
      "WARNING: You are using a MANO model, with only 10 shape coefficients.\n"
     ]
    },
    {
     "name": "stderr",
     "output_type": "stream",
     "text": [
      " 25%|██▍       | 28/113 [00:43<02:28,  1.75s/it]"
     ]
    },
    {
     "name": "stdout",
     "output_type": "stream",
     "text": [
      "Processed /home/erik/ethz/digital-humans/dex-hoi/data_preprocessing/grab_preprocessing/data/grab_unzipped/grab/s4/phone_lift.npz and saved to /home/erik/ethz/digital-humans/dex-hoi/data_preprocessing/grab_preprocessing/data/grab_preprocessed/s4_phone_lift\n",
      "WARNING: You are using a MANO model, with only 10 shape coefficients.\n",
      "WARNING: You are using a MANO model, with only 10 shape coefficients.\n"
     ]
    },
    {
     "name": "stderr",
     "output_type": "stream",
     "text": [
      " 26%|██▌       | 29/113 [00:44<02:13,  1.58s/it]"
     ]
    },
    {
     "name": "stdout",
     "output_type": "stream",
     "text": [
      "Processed /home/erik/ethz/digital-humans/dex-hoi/data_preprocessing/grab_preprocessing/data/grab_unzipped/grab/s4/alarmclock_see_1.npz and saved to /home/erik/ethz/digital-humans/dex-hoi/data_preprocessing/grab_preprocessing/data/grab_preprocessed/s4_alarmclock_see_1\n",
      "WARNING: You are using a MANO model, with only 10 shape coefficients.\n",
      "WARNING: You are using a MANO model, with only 10 shape coefficients.\n"
     ]
    },
    {
     "name": "stderr",
     "output_type": "stream",
     "text": [
      " 27%|██▋       | 30/113 [00:45<02:03,  1.48s/it]"
     ]
    },
    {
     "name": "stdout",
     "output_type": "stream",
     "text": [
      "Processed /home/erik/ethz/digital-humans/dex-hoi/data_preprocessing/grab_preprocessing/data/grab_unzipped/grab/s4/stapler_staple_2.npz and saved to /home/erik/ethz/digital-humans/dex-hoi/data_preprocessing/grab_preprocessing/data/grab_preprocessed/s4_stapler_staple_2\n"
     ]
    },
    {
     "name": "stderr",
     "output_type": "stream",
     "text": [
      " 27%|██▋       | 31/113 [00:46<01:50,  1.35s/it]"
     ]
    },
    {
     "name": "stdout",
     "output_type": "stream",
     "text": [
      "WARNING: You are using a MANO model, with only 10 shape coefficients.\n",
      "WARNING: You are using a MANO model, with only 10 shape coefficients.\n",
      "Processed /home/erik/ethz/digital-humans/dex-hoi/data_preprocessing/grab_preprocessing/data/grab_unzipped/grab/s4/stapler_staple_1.npz and saved to /home/erik/ethz/digital-humans/dex-hoi/data_preprocessing/grab_preprocessing/data/grab_preprocessed/s4_stapler_staple_1\n",
      "WARNING: You are using a MANO model, with only 10 shape coefficients.\n",
      "WARNING: You are using a MANO model, with only 10 shape coefficients.\n"
     ]
    },
    {
     "name": "stderr",
     "output_type": "stream",
     "text": [
      " 28%|██▊       | 32/113 [00:48<01:47,  1.33s/it]"
     ]
    },
    {
     "name": "stdout",
     "output_type": "stream",
     "text": [
      "Processed /home/erik/ethz/digital-humans/dex-hoi/data_preprocessing/grab_preprocessing/data/grab_unzipped/grab/s4/waterbottle_pour_1.npz and saved to /home/erik/ethz/digital-humans/dex-hoi/data_preprocessing/grab_preprocessing/data/grab_preprocessed/s4_waterbottle_pour_1\n"
     ]
    },
    {
     "name": "stderr",
     "output_type": "stream",
     "text": [
      " 29%|██▉       | 33/113 [00:49<01:40,  1.25s/it]"
     ]
    },
    {
     "name": "stdout",
     "output_type": "stream",
     "text": [
      "WARNING: You are using a MANO model, with only 10 shape coefficients.\n",
      "WARNING: You are using a MANO model, with only 10 shape coefficients.\n",
      "Processed /home/erik/ethz/digital-humans/dex-hoi/data_preprocessing/grab_preprocessing/data/grab_unzipped/grab/s4/toothpaste_pass_1.npz and saved to /home/erik/ethz/digital-humans/dex-hoi/data_preprocessing/grab_preprocessing/data/grab_preprocessed/s4_toothpaste_pass_1\n"
     ]
    },
    {
     "name": "stderr",
     "output_type": "stream",
     "text": [
      " 30%|███       | 34/113 [00:50<01:35,  1.21s/it]"
     ]
    },
    {
     "name": "stdout",
     "output_type": "stream",
     "text": [
      "WARNING: You are using a MANO model, with only 10 shape coefficients.\n",
      "WARNING: You are using a MANO model, with only 10 shape coefficients.\n",
      "Processed /home/erik/ethz/digital-humans/dex-hoi/data_preprocessing/grab_preprocessing/data/grab_unzipped/grab/s4/torusmedium_inspect_1.npz and saved to /home/erik/ethz/digital-humans/dex-hoi/data_preprocessing/grab_preprocessing/data/grab_preprocessed/s4_torusmedium_inspect_1\n",
      "WARNING: You are using a MANO model, with only 10 shape coefficients.\n",
      "WARNING: You are using a MANO model, with only 10 shape coefficients.\n"
     ]
    },
    {
     "name": "stderr",
     "output_type": "stream",
     "text": [
      " 31%|███       | 35/113 [00:52<02:03,  1.58s/it]"
     ]
    },
    {
     "name": "stdout",
     "output_type": "stream",
     "text": [
      "Processed /home/erik/ethz/digital-humans/dex-hoi/data_preprocessing/grab_preprocessing/data/grab_unzipped/grab/s4/train_lift.npz and saved to /home/erik/ethz/digital-humans/dex-hoi/data_preprocessing/grab_preprocessing/data/grab_preprocessed/s4_train_lift\n",
      "WARNING: You are using a MANO model, with only 10 shape coefficients.\n",
      "WARNING: You are using a MANO model, with only 10 shape coefficients.\n"
     ]
    },
    {
     "name": "stderr",
     "output_type": "stream",
     "text": [
      " 32%|███▏      | 36/113 [00:53<01:52,  1.46s/it]"
     ]
    },
    {
     "name": "stdout",
     "output_type": "stream",
     "text": [
      "Processed /home/erik/ethz/digital-humans/dex-hoi/data_preprocessing/grab_preprocessing/data/grab_unzipped/grab/s4/camera_pass_1.npz and saved to /home/erik/ethz/digital-humans/dex-hoi/data_preprocessing/grab_preprocessing/data/grab_preprocessed/s4_camera_pass_1\n"
     ]
    },
    {
     "name": "stderr",
     "output_type": "stream",
     "text": [
      " 33%|███▎      | 37/113 [00:54<01:41,  1.34s/it]"
     ]
    },
    {
     "name": "stdout",
     "output_type": "stream",
     "text": [
      "WARNING: You are using a MANO model, with only 10 shape coefficients.\n",
      "WARNING: You are using a MANO model, with only 10 shape coefficients.\n",
      "Processed /home/erik/ethz/digital-humans/dex-hoi/data_preprocessing/grab_preprocessing/data/grab_unzipped/grab/s4/cubelarge_pass_1.npz and saved to /home/erik/ethz/digital-humans/dex-hoi/data_preprocessing/grab_preprocessing/data/grab_preprocessed/s4_cubelarge_pass_1\n"
     ]
    },
    {
     "name": "stderr",
     "output_type": "stream",
     "text": [
      " 33%|███▎      | 37/113 [00:55<01:54,  1.51s/it]"
     ]
    },
    {
     "name": "stdout",
     "output_type": "stream",
     "text": [
      "WARNING: You are using a MANO model, with only 10 shape coefficients.\n",
      "WARNING: You are using a MANO model, with only 10 shape coefficients.\n"
     ]
    },
    {
     "name": "stderr",
     "output_type": "stream",
     "text": [
      "\n"
     ]
    },
    {
     "ename": "OSError",
     "evalue": "[Errno 28] No space left on device",
     "output_type": "error",
     "traceback": [
      "\u001b[0;31m---------------------------------------------------------------------------\u001b[0m",
      "\u001b[0;31mOSError\u001b[0m                                   Traceback (most recent call last)",
      "Cell \u001b[0;32mIn[11], line 5\u001b[0m\n\u001b[1;32m      3\u001b[0m \u001b[38;5;28;01mfor\u001b[39;00m root, files \u001b[38;5;129;01min\u001b[39;00m data_dict\u001b[38;5;241m.\u001b[39mitems():\n\u001b[1;32m      4\u001b[0m     \u001b[38;5;28;01mfor\u001b[39;00m in_file, out_dir \u001b[38;5;129;01min\u001b[39;00m tqdm(files):\n\u001b[0;32m----> 5\u001b[0m         \u001b[43mprocess_data_entry\u001b[49m\u001b[43m(\u001b[49m\u001b[43mroot\u001b[49m\u001b[43m,\u001b[49m\u001b[43m \u001b[49m\u001b[43min_file\u001b[49m\u001b[43m,\u001b[49m\u001b[43m \u001b[49m\u001b[43mout_dir\u001b[49m\u001b[43m)\u001b[49m\n",
      "Cell \u001b[0;32mIn[10], line 132\u001b[0m, in \u001b[0;36mprocess_data_entry\u001b[0;34m(root, in_file, out_dir)\u001b[0m\n\u001b[1;32m    130\u001b[0m \u001b[38;5;28;01mfor\u001b[39;00m i \u001b[38;5;129;01min\u001b[39;00m \u001b[38;5;28mrange\u001b[39m(\u001b[38;5;28mlen\u001b[39m(out_data)):\n\u001b[1;32m    131\u001b[0m     out_file \u001b[38;5;241m=\u001b[39m os\u001b[38;5;241m.\u001b[39mpath\u001b[38;5;241m.\u001b[39mjoin(out_dir, \u001b[38;5;124mf\u001b[39m\u001b[38;5;124m'\u001b[39m\u001b[38;5;132;01m{\u001b[39;00mout_data_name[i]\u001b[38;5;132;01m}\u001b[39;00m\u001b[38;5;124m.npz\u001b[39m\u001b[38;5;124m'\u001b[39m)\n\u001b[0;32m--> 132\u001b[0m     \u001b[43mnp\u001b[49m\u001b[38;5;241;43m.\u001b[39;49m\u001b[43msavez\u001b[49m\u001b[43m(\u001b[49m\u001b[43mout_file\u001b[49m\u001b[43m,\u001b[49m\u001b[43m \u001b[49m\u001b[38;5;241;43m*\u001b[39;49m\u001b[38;5;241;43m*\u001b[39;49m\u001b[43mout_data\u001b[49m\u001b[43m[\u001b[49m\u001b[43mi\u001b[49m\u001b[43m]\u001b[49m\u001b[43m)\u001b[49m\n\u001b[1;32m    134\u001b[0m \u001b[38;5;28mprint\u001b[39m(\u001b[38;5;124mf\u001b[39m\u001b[38;5;124m'\u001b[39m\u001b[38;5;124mProcessed \u001b[39m\u001b[38;5;132;01m{\u001b[39;00min_file\u001b[38;5;132;01m}\u001b[39;00m\u001b[38;5;124m and saved to \u001b[39m\u001b[38;5;132;01m{\u001b[39;00mout_dir\u001b[38;5;132;01m}\u001b[39;00m\u001b[38;5;124m'\u001b[39m)\n",
      "File \u001b[0;32m<__array_function__ internals>:180\u001b[0m, in \u001b[0;36msavez\u001b[0;34m(*args, **kwargs)\u001b[0m\n",
      "File \u001b[0;32m~/mambaforge/envs/grab/lib/python3.8/site-packages/numpy/lib/npyio.py:595\u001b[0m, in \u001b[0;36msavez\u001b[0;34m(file, *args, **kwds)\u001b[0m\n\u001b[1;32m    511\u001b[0m \u001b[38;5;129m@array_function_dispatch\u001b[39m(_savez_dispatcher)\n\u001b[1;32m    512\u001b[0m \u001b[38;5;28;01mdef\u001b[39;00m \u001b[38;5;21msavez\u001b[39m(file, \u001b[38;5;241m*\u001b[39margs, \u001b[38;5;241m*\u001b[39m\u001b[38;5;241m*\u001b[39mkwds):\n\u001b[1;32m    513\u001b[0m \u001b[38;5;250m    \u001b[39m\u001b[38;5;124;03m\"\"\"Save several arrays into a single file in uncompressed ``.npz`` format.\u001b[39;00m\n\u001b[1;32m    514\u001b[0m \n\u001b[1;32m    515\u001b[0m \u001b[38;5;124;03m    Provide arrays as keyword arguments to store them under the\u001b[39;00m\n\u001b[0;32m   (...)\u001b[0m\n\u001b[1;32m    593\u001b[0m \n\u001b[1;32m    594\u001b[0m \u001b[38;5;124;03m    \"\"\"\u001b[39;00m\n\u001b[0;32m--> 595\u001b[0m     \u001b[43m_savez\u001b[49m\u001b[43m(\u001b[49m\u001b[43mfile\u001b[49m\u001b[43m,\u001b[49m\u001b[43m \u001b[49m\u001b[43margs\u001b[49m\u001b[43m,\u001b[49m\u001b[43m \u001b[49m\u001b[43mkwds\u001b[49m\u001b[43m,\u001b[49m\u001b[43m \u001b[49m\u001b[38;5;28;43;01mFalse\u001b[39;49;00m\u001b[43m)\u001b[49m\n",
      "File \u001b[0;32m~/mambaforge/envs/grab/lib/python3.8/site-packages/numpy/lib/npyio.py:699\u001b[0m, in \u001b[0;36m_savez\u001b[0;34m(file, args, kwds, compress, allow_pickle, pickle_kwargs)\u001b[0m\n\u001b[1;32m    697\u001b[0m     \u001b[38;5;66;03m# always force zip64, gh-10776\u001b[39;00m\n\u001b[1;32m    698\u001b[0m     \u001b[38;5;28;01mwith\u001b[39;00m zipf\u001b[38;5;241m.\u001b[39mopen(fname, \u001b[38;5;124m'\u001b[39m\u001b[38;5;124mw\u001b[39m\u001b[38;5;124m'\u001b[39m, force_zip64\u001b[38;5;241m=\u001b[39m\u001b[38;5;28;01mTrue\u001b[39;00m) \u001b[38;5;28;01mas\u001b[39;00m fid:\n\u001b[0;32m--> 699\u001b[0m         \u001b[38;5;28;43mformat\u001b[39;49m\u001b[38;5;241;43m.\u001b[39;49m\u001b[43mwrite_array\u001b[49m\u001b[43m(\u001b[49m\u001b[43mfid\u001b[49m\u001b[43m,\u001b[49m\u001b[43m \u001b[49m\u001b[43mval\u001b[49m\u001b[43m,\u001b[49m\n\u001b[1;32m    700\u001b[0m \u001b[43m                           \u001b[49m\u001b[43mallow_pickle\u001b[49m\u001b[38;5;241;43m=\u001b[39;49m\u001b[43mallow_pickle\u001b[49m\u001b[43m,\u001b[49m\n\u001b[1;32m    701\u001b[0m \u001b[43m                           \u001b[49m\u001b[43mpickle_kwargs\u001b[49m\u001b[38;5;241;43m=\u001b[39;49m\u001b[43mpickle_kwargs\u001b[49m\u001b[43m)\u001b[49m\n\u001b[1;32m    703\u001b[0m zipf\u001b[38;5;241m.\u001b[39mclose()\n",
      "File \u001b[0;32m~/mambaforge/envs/grab/lib/python3.8/site-packages/numpy/lib/format.py:694\u001b[0m, in \u001b[0;36mwrite_array\u001b[0;34m(fp, array, version, allow_pickle, pickle_kwargs)\u001b[0m\n\u001b[1;32m    690\u001b[0m \u001b[38;5;28;01melse\u001b[39;00m:\n\u001b[1;32m    691\u001b[0m     \u001b[38;5;28;01mfor\u001b[39;00m chunk \u001b[38;5;129;01min\u001b[39;00m numpy\u001b[38;5;241m.\u001b[39mnditer(\n\u001b[1;32m    692\u001b[0m             array, flags\u001b[38;5;241m=\u001b[39m[\u001b[38;5;124m'\u001b[39m\u001b[38;5;124mexternal_loop\u001b[39m\u001b[38;5;124m'\u001b[39m, \u001b[38;5;124m'\u001b[39m\u001b[38;5;124mbuffered\u001b[39m\u001b[38;5;124m'\u001b[39m, \u001b[38;5;124m'\u001b[39m\u001b[38;5;124mzerosize_ok\u001b[39m\u001b[38;5;124m'\u001b[39m],\n\u001b[1;32m    693\u001b[0m             buffersize\u001b[38;5;241m=\u001b[39mbuffersize, order\u001b[38;5;241m=\u001b[39m\u001b[38;5;124m'\u001b[39m\u001b[38;5;124mC\u001b[39m\u001b[38;5;124m'\u001b[39m):\n\u001b[0;32m--> 694\u001b[0m         \u001b[43mfp\u001b[49m\u001b[38;5;241;43m.\u001b[39;49m\u001b[43mwrite\u001b[49m\u001b[43m(\u001b[49m\u001b[43mchunk\u001b[49m\u001b[38;5;241;43m.\u001b[39;49m\u001b[43mtobytes\u001b[49m\u001b[43m(\u001b[49m\u001b[38;5;124;43m'\u001b[39;49m\u001b[38;5;124;43mC\u001b[39;49m\u001b[38;5;124;43m'\u001b[39;49m\u001b[43m)\u001b[49m\u001b[43m)\u001b[49m\n",
      "File \u001b[0;32m~/mambaforge/envs/grab/lib/python3.8/zipfile.py:1141\u001b[0m, in \u001b[0;36m_ZipWriteFile.write\u001b[0;34m(self, data)\u001b[0m\n\u001b[1;32m   1139\u001b[0m     data \u001b[38;5;241m=\u001b[39m \u001b[38;5;28mself\u001b[39m\u001b[38;5;241m.\u001b[39m_compressor\u001b[38;5;241m.\u001b[39mcompress(data)\n\u001b[1;32m   1140\u001b[0m     \u001b[38;5;28mself\u001b[39m\u001b[38;5;241m.\u001b[39m_compress_size \u001b[38;5;241m+\u001b[39m\u001b[38;5;241m=\u001b[39m \u001b[38;5;28mlen\u001b[39m(data)\n\u001b[0;32m-> 1141\u001b[0m \u001b[38;5;28;43mself\u001b[39;49m\u001b[38;5;241;43m.\u001b[39;49m\u001b[43m_fileobj\u001b[49m\u001b[38;5;241;43m.\u001b[39;49m\u001b[43mwrite\u001b[49m\u001b[43m(\u001b[49m\u001b[43mdata\u001b[49m\u001b[43m)\u001b[49m\n\u001b[1;32m   1142\u001b[0m \u001b[38;5;28;01mreturn\u001b[39;00m nbytes\n",
      "\u001b[0;31mOSError\u001b[0m: [Errno 28] No space left on device"
     ]
    }
   ],
   "source": [
    "from tqdm import tqdm\n",
    "# iterate over all files and process them, show tqdm progress bar\n",
    "for root, files in data_dict.items():\n",
    "    for in_file, out_dir in tqdm(files):\n",
    "        process_data_entry(root, in_file, out_dir)"
   ]
  }
 ],
 "metadata": {
  "kernelspec": {
   "display_name": "dexhoi",
   "language": "python",
   "name": "python3"
  },
  "language_info": {
   "codemirror_mode": {
    "name": "ipython",
    "version": 3
   },
   "file_extension": ".py",
   "mimetype": "text/x-python",
   "name": "python",
   "nbconvert_exporter": "python",
   "pygments_lexer": "ipython3",
   "version": "3.8.18"
  }
 },
 "nbformat": 4,
 "nbformat_minor": 2
}
