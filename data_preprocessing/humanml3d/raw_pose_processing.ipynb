{
 "cells": [
  {
   "cell_type": "code",
   "execution_count": 29,
   "metadata": {},
   "outputs": [],
   "source": [
    "import sys, os\n",
    "import torch\n",
    "import numpy as np\n",
    "import matplotlib\n",
    "import matplotlib.pyplot as plt\n",
    "from tqdm import tqdm\n",
    "import json\n",
    "from scipy.spatial.transform import Rotation\n",
    "\n",
    "\n",
    "from human_body_prior.tools.omni_tools import copy2cpu as c2c\n",
    "\n",
    "os.environ['PYOPENGL_PLATFORM'] = 'egl'"
   ]
  },
  {
   "cell_type": "code",
   "execution_count": 44,
   "metadata": {},
   "outputs": [
    {
     "name": "stdout",
     "output_type": "stream",
     "text": [
      "Computation device: cuda:0\n"
     ]
    }
   ],
   "source": [
    "# comp_device = torch.device(\"cuda:0\" if torch.cuda.is_available() else \"cpu\")\n",
    "# this needs some really high memory GPUs, so default to CPU\n",
    "comp_device = torch.device(\"cpu\")\n",
    "\n",
    "print('Computation device:', comp_device)\n",
    "# %%\n",
    "from human_body_prior.body_model.body_model import BodyModel\n",
    "\n",
    "male_bm_path = './body_models/smplh/male/model.npz'\n",
    "male_dmpl_path = './body_models/dmpls/male/model.npz'\n",
    "\n",
    "female_bm_path = './body_models/smplh/female/model.npz'\n",
    "female_dmpl_path = './body_models/dmpls/female/model.npz'\n",
    "\n",
    "num_betas = 10 # number of body parameters\n",
    "num_dmpls = 8 # number of DMPL parameters\n",
    "\n",
    "# male_bm = BodyModel(bm_fname=male_bm_path, num_betas=num_betas, num_dmpls=num_dmpls, dmpl_fname=male_dmpl_path).to(comp_device)\n",
    "male_bm = BodyModel(bm_fname=male_bm_path, num_betas=num_betas).to(comp_device)\n",
    "faces = c2c(male_bm.f)\n",
    "\n",
    "# female_bm = BodyModel(bm_fname=female_bm_path, num_betas=num_betas, num_dmpls=num_dmpls, dmpl_fname=female_dmpl_path).to(comp_device)\n",
    "female_bm = BodyModel(bm_fname=female_bm_path, num_betas=num_betas).to(comp_device)\n",
    "\n",
    "paths = []\n",
    "folders = []\n",
    "dataset_names = []\n",
    "for root, dirs, files in os.walk('./data/raw_behave'):\n",
    "    folders.append(root)\n",
    "    for name in files:\n",
    "        dataset_name = root.split('/')[1]\n",
    "        if dataset_name not in dataset_names:\n",
    "            dataset_names.append(dataset_name)\n",
    "        if 'smpl_fit_all.npz' in files:\n",
    "            paths.append(os.path.join(root, 'smpl_fit_all.npz'))"
   ]
  },
  {
   "cell_type": "code",
   "execution_count": 46,
   "metadata": {},
   "outputs": [],
   "source": [
    "save_root = './data/pose_data_behave'\n",
    "save_folders = [folder.replace('./data/raw_behave', './data/pose_data_behave') for folder in folders]\n",
    "for folder in save_folders:\n",
    "    os.makedirs(folder, exist_ok=True)\n",
    "group_path = [[path for path in paths if name in path] for name in dataset_names]\n",
    "\n",
    "# %%\n",
    "trans_matrix = np.array([[1.0, 0.0, 0.0],\n",
    "                            [0.0, -1.0, 0.0],\n",
    "                            [0.0, 0.0, -1.0]])\n",
    "ex_fps = 30\n",
    "def amass_to_pose(src_path, save_path):\n",
    "    seq_info_path = src_path.replace(\"smpl_fit_all.npz\", \"info.json\")\n",
    "    with open(seq_info_path, \"r\") as f:\n",
    "        seq_info = json.load(f)\n",
    "    gender = seq_info[\"gender\"]\n",
    "\n",
    "    src_path_obj = src_path.replace('smpl_fit_all.npz', 'object_fit_all.npz')\n",
    "\n",
    "    bdata = np.load(src_path, allow_pickle=True)\n",
    "    bdata_obj = np.load(src_path_obj, allow_pickle=True)\n",
    "    fps = 30\n",
    "    frame_number = bdata['trans'].shape[0]\n",
    "\n",
    "    fId = 0 # frame id of the mocap sequence\n",
    "    pose_seq = []\n",
    "    if gender == 'male':\n",
    "        bm = male_bm\n",
    "    else:\n",
    "        bm = female_bm\n",
    "    down_sample = int(fps / ex_fps)\n",
    "\n",
    "    with torch.no_grad():\n",
    "        root_orient = torch.Tensor(bdata['poses'][::down_sample, :3]).to(comp_device) # controls the global root orientation\n",
    "        pose_body = torch.Tensor(bdata['poses'][::down_sample, 3:66]).to(comp_device) # controls the body\n",
    "        pose_hand = torch.Tensor(bdata['poses'][::down_sample, 66:]).to(comp_device) # controls the finger articulation\n",
    "        betas = torch.Tensor(bdata['betas'][::down_sample]).to(comp_device) # controls the body shape\n",
    "        trans = torch.Tensor(bdata['trans'][::down_sample]).to(comp_device)    \n",
    "        body = bm(pose_body=pose_body, pose_hand=pose_hand, betas=betas, root_orient=root_orient)\n",
    "        joint_loc = body.Jtr + trans[:, None]\n",
    "        pose_seq = joint_loc\n",
    "\n",
    "    # pose_seq = torch.cat(pose_seq, dim=0)\n",
    "    \n",
    "    pose_seq_np = pose_seq.detach().cpu().numpy()\n",
    "    pose_seq_np_n = np.dot(pose_seq_np, trans_matrix)\n",
    "    np.save(save_path, pose_seq_np_n)\n",
    "\n",
    "    # process obj pose data\n",
    "    angle, trans = bdata_obj['angles'], bdata_obj['trans']\n",
    "    rot = Rotation.from_rotvec(angle).as_matrix()\n",
    "    mat = np.eye(4)[np.newaxis].repeat(rot.shape[0], axis=0)\n",
    "    mat[:, :3, :3] = rot\n",
    "    mat[:, :3, 3] = trans\n",
    "    trans_matrix_eye4 = np.eye(4)[np.newaxis]\n",
    "    trans_matrix_eye4[0, :3, :3] = trans_matrix\n",
    "    mat = trans_matrix_eye4 @ mat\n",
    "\n",
    "    rot, trans = mat[:, :3, :3], mat[:, :3, 3]\n",
    "    rot = Rotation.from_matrix(rot).as_rotvec()\n",
    "    obj_pose = np.concatenate([rot, trans], axis=-1)\n",
    "    \n",
    "    save_path_obj = save_path.replace('smpl_fit_all.npy', 'object_fit_all.npy')\n",
    "    np.save(save_path_obj, obj_pose)\n",
    "    return fps"
   ]
  },
  {
   "cell_type": "code",
   "execution_count": 47,
   "metadata": {},
   "outputs": [
    {
     "name": "stderr",
     "output_type": "stream",
     "text": [
      "Processing: raw_behave:   1%|          | 10/1796 [00:00<01:36, 18.56it/s]"
     ]
    },
    {
     "name": "stdout",
     "output_type": "stream",
     "text": [
      "Error in ./data/raw_behave/Date04_Sub05_chairwood/smpl_fit_all.npz: CUDA out of memory. Tried to allocate 5.24 GiB (GPU 0; 7.76 GiB total capacity; 1.03 GiB already allocated; 4.03 GiB free; 1.80 GiB reserved in total by PyTorch)\n",
      "Error in ./data/raw_behave/Date04_Sub05_chairwood/smpl_fit_all.npz: CUDA out of memory. Tried to allocate 5.24 GiB (GPU 0; 7.76 GiB total capacity; 1.03 GiB already allocated; 4.03 GiB free; 1.80 GiB reserved in total by PyTorch)\n",
      "Error in ./data/raw_behave/Date04_Sub05_chairwood/smpl_fit_all.npz: CUDA out of memory. Tried to allocate 5.24 GiB (GPU 0; 7.76 GiB total capacity; 1.03 GiB already allocated; 4.03 GiB free; 1.80 GiB reserved in total by PyTorch)\n",
      "Error in ./data/raw_behave/Date04_Sub05_chairwood/smpl_fit_all.npz: CUDA out of memory. Tried to allocate 5.24 GiB (GPU 0; 7.76 GiB total capacity; 1.03 GiB already allocated; 4.03 GiB free; 1.80 GiB reserved in total by PyTorch)\n",
      "Error in ./data/raw_behave/Date04_Sub05_chairwood/smpl_fit_all.npz: CUDA out of memory. Tried to allocate 5.24 GiB (GPU 0; 7.76 GiB total capacity; 1.03 GiB already allocated; 4.03 GiB free; 1.80 GiB reserved in total by PyTorch)\n"
     ]
    },
    {
     "name": "stderr",
     "output_type": "stream",
     "text": [
      "Processing: raw_behave:   1%|          | 13/1796 [00:00<01:38, 18.09it/s]"
     ]
    },
    {
     "name": "stdout",
     "output_type": "stream",
     "text": [
      "Error in ./data/raw_behave/Date04_Sub05_chairwood/smpl_fit_all.npz: CUDA out of memory. Tried to allocate 5.24 GiB (GPU 0; 7.76 GiB total capacity; 1.03 GiB already allocated; 4.03 GiB free; 1.80 GiB reserved in total by PyTorch)\n"
     ]
    },
    {
     "name": "stderr",
     "output_type": "stream",
     "text": [
      "Processing: raw_behave:   7%|▋         | 118/1796 [00:08<01:45, 15.87it/s]"
     ]
    },
    {
     "name": "stdout",
     "output_type": "stream",
     "text": [
      "Error in ./data/raw_behave/Date03_Sub05_tablesmall/smpl_fit_all.npz: CUDA out of memory. Tried to allocate 5.23 GiB (GPU 0; 7.76 GiB total capacity; 1.03 GiB already allocated; 2.85 GiB free; 3.05 GiB reserved in total by PyTorch)\n",
      "Error in ./data/raw_behave/Date03_Sub05_tablesmall/smpl_fit_all.npz: CUDA out of memory. Tried to allocate 5.23 GiB (GPU 0; 7.76 GiB total capacity; 1.03 GiB already allocated; 2.85 GiB free; 3.05 GiB reserved in total by PyTorch)\n",
      "Error in ./data/raw_behave/Date03_Sub05_tablesmall/smpl_fit_all.npz: CUDA out of memory. Tried to allocate 5.23 GiB (GPU 0; 7.76 GiB total capacity; 1.03 GiB already allocated; 2.85 GiB free; 3.05 GiB reserved in total by PyTorch)\n",
      "Error in ./data/raw_behave/Date03_Sub05_tablesmall/smpl_fit_all.npz: CUDA out of memory. Tried to allocate 5.23 GiB (GPU 0; 7.76 GiB total capacity; 1.03 GiB already allocated; 2.85 GiB free; 3.05 GiB reserved in total by PyTorch)\n",
      "Error in ./data/raw_behave/Date03_Sub05_tablesmall/smpl_fit_all.npz: CUDA out of memory. Tried to allocate 5.23 GiB (GPU 0; 7.76 GiB total capacity; 1.03 GiB already allocated; 2.85 GiB free; 3.05 GiB reserved in total by PyTorch)\n"
     ]
    },
    {
     "name": "stderr",
     "output_type": "stream",
     "text": [
      "Processing: raw_behave:   7%|▋         | 122/1796 [00:08<01:48, 15.49it/s]"
     ]
    },
    {
     "name": "stdout",
     "output_type": "stream",
     "text": [
      "Error in ./data/raw_behave/Date03_Sub05_tablesmall/smpl_fit_all.npz: CUDA out of memory. Tried to allocate 5.23 GiB (GPU 0; 7.76 GiB total capacity; 1.03 GiB already allocated; 2.85 GiB free; 3.05 GiB reserved in total by PyTorch)\n"
     ]
    },
    {
     "name": "stderr",
     "output_type": "stream",
     "text": [
      "Processing: raw_behave:   8%|▊         | 141/1796 [00:10<01:46, 15.48it/s]"
     ]
    },
    {
     "name": "stdout",
     "output_type": "stream",
     "text": [
      "Error in ./data/raw_behave/Date03_Sub05_tablesquare/smpl_fit_all.npz: CUDA out of memory. Tried to allocate 5.24 GiB (GPU 0; 7.76 GiB total capacity; 1.03 GiB already allocated; 2.84 GiB free; 3.05 GiB reserved in total by PyTorch)\n",
      "Error in ./data/raw_behave/Date03_Sub05_tablesquare/smpl_fit_all.npz: CUDA out of memory. Tried to allocate 5.24 GiB (GPU 0; 7.76 GiB total capacity; 1.03 GiB already allocated; 2.84 GiB free; 3.05 GiB reserved in total by PyTorch)\n",
      "Error in ./data/raw_behave/Date03_Sub05_tablesquare/smpl_fit_all.npz: CUDA out of memory. Tried to allocate 5.24 GiB (GPU 0; 7.76 GiB total capacity; 1.03 GiB already allocated; 2.84 GiB free; 3.05 GiB reserved in total by PyTorch)\n",
      "Error in ./data/raw_behave/Date03_Sub05_tablesquare/smpl_fit_all.npz: CUDA out of memory. Tried to allocate 5.24 GiB (GPU 0; 7.76 GiB total capacity; 1.03 GiB already allocated; 2.84 GiB free; 3.05 GiB reserved in total by PyTorch)\n",
      "Error in ./data/raw_behave/Date03_Sub05_tablesquare/smpl_fit_all.npz: CUDA out of memory. Tried to allocate 5.24 GiB (GPU 0; 7.76 GiB total capacity; 1.03 GiB already allocated; 2.84 GiB free; 3.05 GiB reserved in total by PyTorch)\n"
     ]
    },
    {
     "name": "stderr",
     "output_type": "stream",
     "text": [
      "Processing: raw_behave:   8%|▊         | 146/1796 [00:10<01:42, 16.07it/s]"
     ]
    },
    {
     "name": "stdout",
     "output_type": "stream",
     "text": [
      "Error in ./data/raw_behave/Date03_Sub05_tablesquare/smpl_fit_all.npz: CUDA out of memory. Tried to allocate 5.24 GiB (GPU 0; 7.76 GiB total capacity; 1.03 GiB already allocated; 2.84 GiB free; 3.05 GiB reserved in total by PyTorch)\n"
     ]
    },
    {
     "name": "stderr",
     "output_type": "stream",
     "text": [
      "Processing: raw_behave:   9%|▉         | 160/1796 [00:11<01:48, 15.03it/s]"
     ]
    },
    {
     "name": "stdout",
     "output_type": "stream",
     "text": [
      "Error in ./data/raw_behave/Date03_Sub05_chairblack/smpl_fit_all.npz: CUDA out of memory. Tried to allocate 4.91 GiB (GPU 0; 7.76 GiB total capacity; 994.28 MiB already allocated; 4.77 GiB free; 1.12 GiB reserved in total by PyTorch)\n",
      "Error in ./data/raw_behave/Date03_Sub05_chairblack/smpl_fit_all.npz: CUDA out of memory. Tried to allocate 4.91 GiB (GPU 0; 7.76 GiB total capacity; 994.28 MiB already allocated; 4.77 GiB free; 1.12 GiB reserved in total by PyTorch)\n",
      "Error in ./data/raw_behave/Date03_Sub05_chairblack/smpl_fit_all.npz: CUDA out of memory. Tried to allocate 4.91 GiB (GPU 0; 7.76 GiB total capacity; 994.28 MiB already allocated; 4.77 GiB free; 1.12 GiB reserved in total by PyTorch)\n",
      "Error in ./data/raw_behave/Date03_Sub05_chairblack/smpl_fit_all.npz: CUDA out of memory. Tried to allocate 4.91 GiB (GPU 0; 7.76 GiB total capacity; 994.28 MiB already allocated; 4.77 GiB free; 1.12 GiB reserved in total by PyTorch)\n",
      "Error in ./data/raw_behave/Date03_Sub05_chairblack/smpl_fit_all.npz: CUDA out of memory. Tried to allocate 4.91 GiB (GPU 0; 7.76 GiB total capacity; 994.28 MiB already allocated; 4.77 GiB free; 1.12 GiB reserved in total by PyTorch)\n"
     ]
    },
    {
     "name": "stderr",
     "output_type": "stream",
     "text": [
      "Processing: raw_behave:   9%|▉         | 163/1796 [00:11<01:43, 15.84it/s]"
     ]
    },
    {
     "name": "stdout",
     "output_type": "stream",
     "text": [
      "Error in ./data/raw_behave/Date03_Sub05_chairblack/smpl_fit_all.npz: CUDA out of memory. Tried to allocate 4.91 GiB (GPU 0; 7.76 GiB total capacity; 994.28 MiB already allocated; 4.76 GiB free; 1.12 GiB reserved in total by PyTorch)\n"
     ]
    },
    {
     "name": "stderr",
     "output_type": "stream",
     "text": [
      "Processing: raw_behave:  11%|█         | 189/1796 [00:13<02:00, 13.37it/s]"
     ]
    },
    {
     "name": "stdout",
     "output_type": "stream",
     "text": [
      "Error in ./data/raw_behave/Date07_Sub05_tablesquare/smpl_fit_all.npz: CUDA out of memory. Tried to allocate 5.10 GiB (GPU 0; 7.76 GiB total capacity; 1.00 GiB already allocated; 4.76 GiB free; 1.12 GiB reserved in total by PyTorch)\n",
      "Error in ./data/raw_behave/Date07_Sub05_tablesquare/smpl_fit_all.npz: CUDA out of memory. Tried to allocate 5.10 GiB (GPU 0; 7.76 GiB total capacity; 1.00 GiB already allocated; 4.76 GiB free; 1.12 GiB reserved in total by PyTorch)\n",
      "Error in ./data/raw_behave/Date07_Sub05_tablesquare/smpl_fit_all.npz: CUDA out of memory. Tried to allocate 5.10 GiB (GPU 0; 7.76 GiB total capacity; 1.00 GiB already allocated; 4.76 GiB free; 1.12 GiB reserved in total by PyTorch)\n",
      "Error in ./data/raw_behave/Date07_Sub05_tablesquare/smpl_fit_all.npz: CUDA out of memory. Tried to allocate 5.10 GiB (GPU 0; 7.76 GiB total capacity; 1.00 GiB already allocated; 4.76 GiB free; 1.12 GiB reserved in total by PyTorch)\n"
     ]
    },
    {
     "name": "stderr",
     "output_type": "stream",
     "text": [
      "Processing: raw_behave:  11%|█         | 193/1796 [00:14<01:45, 15.14it/s]"
     ]
    },
    {
     "name": "stdout",
     "output_type": "stream",
     "text": [
      "Error in ./data/raw_behave/Date07_Sub05_tablesquare/smpl_fit_all.npz: CUDA out of memory. Tried to allocate 5.10 GiB (GPU 0; 7.76 GiB total capacity; 1.00 GiB already allocated; 4.76 GiB free; 1.12 GiB reserved in total by PyTorch)\n",
      "Error in ./data/raw_behave/Date07_Sub05_tablesquare/smpl_fit_all.npz: CUDA out of memory. Tried to allocate 5.10 GiB (GPU 0; 7.76 GiB total capacity; 1.00 GiB already allocated; 4.76 GiB free; 1.12 GiB reserved in total by PyTorch)\n"
     ]
    },
    {
     "name": "stderr",
     "output_type": "stream",
     "text": [
      "Processing: raw_behave:  15%|█▍        | 261/1796 [00:18<01:48, 14.13it/s]"
     ]
    },
    {
     "name": "stdout",
     "output_type": "stream",
     "text": [
      "Error in ./data/raw_behave/Date04_Sub05_tablesquare/smpl_fit_all.npz: CUDA out of memory. Tried to allocate 5.24 GiB (GPU 0; 7.76 GiB total capacity; 1.03 GiB already allocated; 2.86 GiB free; 3.01 GiB reserved in total by PyTorch)\n",
      "Error in ./data/raw_behave/Date04_Sub05_tablesquare/smpl_fit_all.npz: CUDA out of memory. Tried to allocate 5.24 GiB (GPU 0; 7.76 GiB total capacity; 1.03 GiB already allocated; 2.86 GiB free; 3.01 GiB reserved in total by PyTorch)\n",
      "Error in ./data/raw_behave/Date04_Sub05_tablesquare/smpl_fit_all.npz: CUDA out of memory. Tried to allocate 5.24 GiB (GPU 0; 7.76 GiB total capacity; 1.03 GiB already allocated; 2.86 GiB free; 3.01 GiB reserved in total by PyTorch)\n",
      "Error in ./data/raw_behave/Date04_Sub05_tablesquare/smpl_fit_all.npz: CUDA out of memory. Tried to allocate 5.24 GiB (GPU 0; 7.76 GiB total capacity; 1.03 GiB already allocated; 2.86 GiB free; 3.01 GiB reserved in total by PyTorch)\n"
     ]
    },
    {
     "name": "stderr",
     "output_type": "stream",
     "text": [
      "Processing: raw_behave:  15%|█▍        | 266/1796 [00:19<01:31, 16.75it/s]"
     ]
    },
    {
     "name": "stdout",
     "output_type": "stream",
     "text": [
      "Error in ./data/raw_behave/Date04_Sub05_tablesquare/smpl_fit_all.npz: CUDA out of memory. Tried to allocate 5.24 GiB (GPU 0; 7.76 GiB total capacity; 1.03 GiB already allocated; 2.86 GiB free; 3.01 GiB reserved in total by PyTorch)\n",
      "Error in ./data/raw_behave/Date04_Sub05_tablesquare/smpl_fit_all.npz: CUDA out of memory. Tried to allocate 5.24 GiB (GPU 0; 7.76 GiB total capacity; 1.03 GiB already allocated; 2.86 GiB free; 3.01 GiB reserved in total by PyTorch)\n"
     ]
    },
    {
     "name": "stderr",
     "output_type": "stream",
     "text": [
      "Processing: raw_behave:  25%|██▌       | 455/1796 [00:33<01:38, 13.56it/s]\n"
     ]
    },
    {
     "ename": "KeyboardInterrupt",
     "evalue": "",
     "output_type": "error",
     "traceback": [
      "\u001b[0;31m---------------------------------------------------------------------------\u001b[0m",
      "\u001b[0;31mKeyboardInterrupt\u001b[0m                         Traceback (most recent call last)",
      "\u001b[0;32m/tmp/ipykernel_7717/3005813592.py\u001b[0m in \u001b[0;36m<module>\u001b[0;34m\u001b[0m\n\u001b[1;32m     13\u001b[0m         \u001b[0msave_path\u001b[0m \u001b[0;34m=\u001b[0m \u001b[0msave_path\u001b[0m\u001b[0;34m[\u001b[0m\u001b[0;34m:\u001b[0m\u001b[0;34m-\u001b[0m\u001b[0;36m3\u001b[0m\u001b[0;34m]\u001b[0m \u001b[0;34m+\u001b[0m \u001b[0;34m'npy'\u001b[0m\u001b[0;34m\u001b[0m\u001b[0;34m\u001b[0m\u001b[0m\n\u001b[1;32m     14\u001b[0m         \u001b[0;32mtry\u001b[0m\u001b[0;34m:\u001b[0m\u001b[0;34m\u001b[0m\u001b[0;34m\u001b[0m\u001b[0m\n\u001b[0;32m---> 15\u001b[0;31m             \u001b[0mfps\u001b[0m \u001b[0;34m=\u001b[0m \u001b[0mamass_to_pose\u001b[0m\u001b[0;34m(\u001b[0m\u001b[0mpath\u001b[0m\u001b[0;34m,\u001b[0m \u001b[0msave_path\u001b[0m\u001b[0;34m)\u001b[0m\u001b[0;34m\u001b[0m\u001b[0;34m\u001b[0m\u001b[0m\n\u001b[0m\u001b[1;32m     16\u001b[0m         \u001b[0;32mexcept\u001b[0m \u001b[0mException\u001b[0m \u001b[0;32mas\u001b[0m \u001b[0me\u001b[0m\u001b[0;34m:\u001b[0m\u001b[0;34m\u001b[0m\u001b[0;34m\u001b[0m\u001b[0m\n\u001b[1;32m     17\u001b[0m             \u001b[0mprint\u001b[0m\u001b[0;34m(\u001b[0m\u001b[0;34mf'Error in {path}: {e}'\u001b[0m\u001b[0;34m)\u001b[0m\u001b[0;34m\u001b[0m\u001b[0;34m\u001b[0m\u001b[0m\n",
      "\u001b[0;32m/tmp/ipykernel_7717/3887140185.py\u001b[0m in \u001b[0;36mamass_to_pose\u001b[0;34m(src_path, save_path)\u001b[0m\n\u001b[1;32m     43\u001b[0m     \u001b[0;31m# pose_seq = torch.cat(pose_seq, dim=0)\u001b[0m\u001b[0;34m\u001b[0m\u001b[0;34m\u001b[0m\u001b[0;34m\u001b[0m\u001b[0m\n\u001b[1;32m     44\u001b[0m \u001b[0;34m\u001b[0m\u001b[0m\n\u001b[0;32m---> 45\u001b[0;31m     \u001b[0mpose_seq_np\u001b[0m \u001b[0;34m=\u001b[0m \u001b[0mpose_seq\u001b[0m\u001b[0;34m.\u001b[0m\u001b[0mdetach\u001b[0m\u001b[0;34m(\u001b[0m\u001b[0;34m)\u001b[0m\u001b[0;34m.\u001b[0m\u001b[0mcpu\u001b[0m\u001b[0;34m(\u001b[0m\u001b[0;34m)\u001b[0m\u001b[0;34m.\u001b[0m\u001b[0mnumpy\u001b[0m\u001b[0;34m(\u001b[0m\u001b[0;34m)\u001b[0m\u001b[0;34m\u001b[0m\u001b[0;34m\u001b[0m\u001b[0m\n\u001b[0m\u001b[1;32m     46\u001b[0m     \u001b[0mpose_seq_np_n\u001b[0m \u001b[0;34m=\u001b[0m \u001b[0mnp\u001b[0m\u001b[0;34m.\u001b[0m\u001b[0mdot\u001b[0m\u001b[0;34m(\u001b[0m\u001b[0mpose_seq_np\u001b[0m\u001b[0;34m,\u001b[0m \u001b[0mtrans_matrix\u001b[0m\u001b[0;34m)\u001b[0m\u001b[0;34m\u001b[0m\u001b[0;34m\u001b[0m\u001b[0m\n\u001b[1;32m     47\u001b[0m     \u001b[0mnp\u001b[0m\u001b[0;34m.\u001b[0m\u001b[0msave\u001b[0m\u001b[0;34m(\u001b[0m\u001b[0msave_path\u001b[0m\u001b[0;34m,\u001b[0m \u001b[0mpose_seq_np_n\u001b[0m\u001b[0;34m)\u001b[0m\u001b[0;34m\u001b[0m\u001b[0;34m\u001b[0m\u001b[0m\n",
      "\u001b[0;31mKeyboardInterrupt\u001b[0m: "
     ]
    }
   ],
   "source": [
    "group_path = group_path\n",
    "all_count = sum([len(paths) for paths in group_path])\n",
    "cur_count = 0\n",
    "\n",
    "import time\n",
    "for paths in group_path:\n",
    "    dataset_name = paths[0].split('/')[2]\n",
    "    pbar = tqdm(paths)\n",
    "    pbar.set_description('Processing: %s'%dataset_name)\n",
    "    fps = 0\n",
    "    for path in pbar:\n",
    "        save_path = path.replace('./data/raw_behave', './data/pose_data_behave')\n",
    "        save_path = save_path[:-3] + 'npy'\n",
    "        try:\n",
    "            fps = amass_to_pose(path, save_path)\n",
    "        except Exception as e:\n",
    "            print(f'Error in {path}: {e}')\n",
    "            continue\n",
    "        \n",
    "    cur_count += len(paths)\n",
    "    print('Processed / All (fps %d): %d/%d'% (fps, cur_count, all_count) )\n",
    "    time.sleep(0.5)"
   ]
  },
  {
   "cell_type": "code",
   "execution_count": 7,
   "metadata": {},
   "outputs": [
    {
     "name": "stderr",
     "output_type": "stream",
     "text": [
      "100%|██████████| 898/898 [00:03<00:00, 238.55it/s]\n"
     ]
    }
   ],
   "source": [
    "import codecs as cs\n",
    "import pandas as pd\n",
    "import numpy as np\n",
    "from tqdm import tqdm\n",
    "from os.path import join as pjoin\n",
    "\n",
    "def swap_left_right(data):\n",
    "    assert len(data.shape) == 3 and data.shape[-1] == 3\n",
    "    data = data.copy()\n",
    "    data[..., 0] *= -1\n",
    "    right_chain = [2, 5, 8, 11, 14, 17, 19, 21]\n",
    "    left_chain = [1, 4, 7, 10, 13, 16, 18, 20]\n",
    "    left_hand_chain = [22, 23, 24, 34, 35, 36, 25, 26, 27, 31, 32, 33, 28, 29, 30]\n",
    "    right_hand_chain = [43, 44, 45, 46, 47, 48, 40, 41, 42, 37, 38, 39, 49, 50, 51]\n",
    "    tmp = data[:, right_chain]\n",
    "    data[:, right_chain] = data[:, left_chain]\n",
    "    data[:, left_chain] = tmp\n",
    "    if data.shape[1] > 24:\n",
    "        tmp = data[:, right_hand_chain]\n",
    "        data[:, right_hand_chain] = data[:, left_hand_chain]\n",
    "        data[:, left_hand_chain] = tmp\n",
    "    return data\n",
    "\n",
    "save_dir = './data/joints_behave'\n",
    "total_amount = len(group_path[0])\n",
    "fps = 30\n",
    "\n",
    "for i in tqdm(range(total_amount)):\n",
    "    path = group_path[0][i]\n",
    "    source_path = path.replace('./data/raw_behave', './data/pose_data_behave')\n",
    "    source_path = source_path[:-3] + 'npy'\n",
    "    try:\n",
    "        data = np.load(source_path)\n",
    "    except:\n",
    "        print('Error: ', source_path)\n",
    "        continue\n",
    "    new_name = source_path.split('/')[-2]\n",
    "    # data[..., 0] *= -1\n",
    "    \n",
    "    # data_m = swap_left_right(data)\n",
    "\n",
    "    source_path_obj = source_path.replace('smpl_fit_all.npy', 'object_fit_all.npy')\n",
    "    data_obj = np.load(source_path_obj)\n",
    "    if not os.path.exists(save_dir):\n",
    "        os.makedirs(save_dir, exist_ok=True)\n",
    "\n",
    "    np.save(pjoin(save_dir, new_name), data)\n",
    "    # np.save(pjoin(save_dir, 'M'+new_name), data_m)"
   ]
  }
 ],
 "metadata": {
  "kernelspec": {
   "display_name": "Python 3",
   "language": "python",
   "name": "python3"
  },
  "language_info": {
   "codemirror_mode": {
    "name": "ipython",
    "version": 3
   },
   "file_extension": ".py",
   "mimetype": "text/x-python",
   "name": "python",
   "nbconvert_exporter": "python",
   "pygments_lexer": "ipython3",
   "version": "3.7.12"
  }
 },
 "nbformat": 4,
 "nbformat_minor": 2
}
